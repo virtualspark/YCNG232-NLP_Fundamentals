{
  "nbformat": 4,
  "nbformat_minor": 0,
  "metadata": {
    "colab": {
      "provenance": [],
      "authorship_tag": "ABX9TyMdOlI2Gc1doJ3qrecangTh",
      "include_colab_link": true
    },
    "kernelspec": {
      "name": "python3",
      "display_name": "Python 3"
    },
    "language_info": {
      "name": "python"
    }
  },
  "cells": [
    {
      "cell_type": "markdown",
      "metadata": {
        "id": "view-in-github",
        "colab_type": "text"
      },
      "source": [
        "<a href=\"https://colab.research.google.com/github/virtualspark/YCNG232-NLP_Fundamentals/blob/main/Reflexion_Week_2.ipynb\" target=\"_parent\"><img src=\"https://colab.research.google.com/assets/colab-badge.svg\" alt=\"Open In Colab\"/></a>"
      ]
    },
    {
      "cell_type": "code",
      "source": [
        "%load_ext rpy2.ipython"
      ],
      "metadata": {
        "id": "B7OZrxGBScAt"
      },
      "execution_count": 1,
      "outputs": []
    },
    {
      "cell_type": "code",
      "source": [
        "%%R\n",
        "# install.packages(\"janeaustenr\")\n",
        "# install.packages(\"tidytext\")"
      ],
      "metadata": {
        "colab": {
          "base_uri": "https://localhost:8080/"
        },
        "id": "IH7vHJo6VZWD",
        "outputId": "7d4f635a-35ae-4f19-a8d7-8b7979f1ac6b"
      },
      "execution_count": 2,
      "outputs": [
        {
          "output_type": "stream",
          "name": "stdout",
          "text": [
            "NULL\n"
          ]
        }
      ]
    },
    {
      "cell_type": "code",
      "source": [
        "from google.colab import drive\n",
        "drive.mount('/content/drive')"
      ],
      "metadata": {
        "colab": {
          "base_uri": "https://localhost:8080/"
        },
        "id": "AyoiiyEYSb4t",
        "outputId": "9549b92b-d170-4d02-e813-616e4d405ad7"
      },
      "execution_count": 3,
      "outputs": [
        {
          "output_type": "stream",
          "name": "stdout",
          "text": [
            "Drive already mounted at /content/drive; to attempt to forcibly remount, call drive.mount(\"/content/drive\", force_remount=True).\n"
          ]
        }
      ]
    },
    {
      "cell_type": "code",
      "source": [
        "%%R\n",
        "steam_dataset <- read.csv('/content/drive/My Drive/NLP/Week2/steam_games.csv')"
      ],
      "metadata": {
        "id": "IaYVa2xTTZ_F"
      },
      "execution_count": 4,
      "outputs": []
    },
    {
      "cell_type": "code",
      "execution_count": 5,
      "metadata": {
        "id": "V6tRU5gNtnza",
        "colab": {
          "base_uri": "https://localhost:8080/"
        },
        "outputId": "f3a4dd3c-6376-44c9-ee83-2e561123cac3"
      },
      "outputs": [
        {
          "output_type": "stream",
          "name": "stdout",
          "text": [
            "NULL\n"
          ]
        }
      ],
      "source": [
        "%%R\n",
        "# head(steam_dataset)"
      ]
    },
    {
      "cell_type": "code",
      "source": [
        "%%R\n",
        "str(steam_dataset)"
      ],
      "metadata": {
        "colab": {
          "base_uri": "https://localhost:8080/"
        },
        "id": "adidWMpYN7pA",
        "outputId": "d31f278d-5375-4ae7-9eee-9366443a37d3"
      },
      "execution_count": 6,
      "outputs": [
        {
          "output_type": "stream",
          "name": "stdout",
          "text": [
            "'data.frame':\t40833 obs. of  20 variables:\n",
            " $ url                     : chr  \"https://store.steampowered.com/app/379720/DOOM/\" \"https://store.steampowered.com/app/578080/PLAYERUNKNOWNS_BATTLEGROUNDS/\" \"https://store.steampowered.com/app/637090/BATTLETECH/\" \"https://store.steampowered.com/app/221100/DayZ/\" ...\n",
            " $ types                   : chr  \"app\" \"app\" \"app\" \"app\" ...\n",
            " $ name                    : chr  \"DOOM\" \"PLAYERUNKNOWN'S BATTLEGROUNDS\" \"BATTLETECH\" \"DayZ\" ...\n",
            " $ desc_snippet            : chr  \"Now includes all three premium DLC packs (Unto the Evil, Hell Followed, and Bloodfall), maps, modes, and weapon\"| __truncated__ \"PLAYERUNKNOWN'S BATTLEGROUNDS is a battle royale shooter that pits 100 players against each other in a struggle\"| __truncated__ \"Take command of your own mercenary outfit of 'Mechs and the MechWarriors that pilot them, struggling to stay af\"| __truncated__ \"The post-soviet country of Chernarus is struck by an unknown virus, turning the majority population into frenzi\"| __truncated__ ...\n",
            " $ recent_reviews          : chr  \"Very Positive,(554),- 89% of the 554 user reviews in the last 30 days are positive.\" \"Mixed,(6,214),- 49% of the 6,214 user reviews in the last 30 days are positive.\" \"Mixed,(166),- 54% of the 166 user reviews in the last 30 days are positive.\" \"Mixed,(932),- 57% of the 932 user reviews in the last 30 days are positive.\" ...\n",
            " $ all_reviews             : chr  \"Very Positive,(42,550),- 92% of the 42,550 user reviews for this game are positive.\" \"Mixed,(836,608),- 49% of the 836,608 user reviews for this game are positive.\" \"Mostly Positive,(7,030),- 71% of the 7,030 user reviews for this game are positive.\" \"Mixed,(167,115),- 61% of the 167,115 user reviews for this game are positive.\" ...\n",
            " $ release_date            : chr  \"May 12, 2016\" \"Dec 21, 2017\" \"Apr 24, 2018\" \"Dec 13, 2018\" ...\n",
            " $ developer               : chr  \"id Software\" \"PUBG Corporation\" \"Harebrained Schemes\" \"Bohemia Interactive\" ...\n",
            " $ publisher               : chr  \"Bethesda Softworks,Bethesda Softworks\" \"PUBG Corporation,PUBG Corporation\" \"Paradox Interactive,Paradox Interactive\" \"Bohemia Interactive,Bohemia Interactive\" ...\n",
            " $ popular_tags            : chr  \"FPS,Gore,Action,Demons,Shooter,First-Person,Great Soundtrack,Multiplayer,Singleplayer,Fast-Paced,Sci-fi,Horror,\"| __truncated__ \"Survival,Shooter,Multiplayer,Battle Royale,PvP,FPS,Third-Person Shooter,Action,Online Co-Op,Tactical,Co-op,Firs\"| __truncated__ \"Mechs,Strategy,Turn-Based,Turn-Based Tactics,Sci-fi,Turn-Based Strategy,Tactical,Singleplayer,Robots,RPG,Action\"| __truncated__ \"Survival,Zombies,Open World,Multiplayer,PvP,Massively Multiplayer,Action,Early Access,Simulation,FPS,Post-apoca\"| __truncated__ ...\n",
            " $ game_details            : chr  \"Single-player,Multi-player,Co-op,Steam Achievements,Steam Trading Cards,Partial Controller Support,Steam Cloud\" \"Multi-player,Online Multi-Player,Stats\" \"Single-player,Multi-player,Online Multi-Player,Cross-Platform Multiplayer,Steam Achievements,Steam Trading Cards,Steam Cloud\" \"Multi-player,Online Multi-Player,Steam Workshop,Steam Cloud,Valve Anti-Cheat enabled\" ...\n",
            " $ languages               : chr  \"English,French,Italian,German,Spanish - Spain,Japanese,Polish,Portuguese - Brazil,Russian,Traditional Chinese\" \"English,Korean,Simplified Chinese,French,German,Spanish - Spain,Arabic,Japanese,Polish,Portuguese,Russian,Turki\"| __truncated__ \"English,French,German,Russian\" \"English,French,Italian,German,Spanish - Spain,Czech,Russian,Simplified Chinese,Traditional Chinese\" ...\n",
            " $ achievements            : num  54 37 128 NaN NaN NaN 51 55 34 43 ...\n",
            " $ genre                   : chr  \"Action\" \"Action,Adventure,Massively Multiplayer\" \"Action,Adventure,Strategy\" \"Action,Adventure,Massively Multiplayer\" ...\n",
            " $ game_description        : chr  \" About This Game Developed by id software, the studio that pioneered the first-person shooter genre and created\"| __truncated__ \" About This Game  PLAYERUNKNOWN'S BATTLEGROUNDS is a battle royale shooter that pits 100 players against each o\"| __truncated__ \" About This Game  From original BATTLETECH/MechWarrior creator Jordan Weisman and the developers of the award-w\"| __truncated__ \" About This Game The post-soviet country of Chernarus is struck by an unknown virus, turning the majority popul\"| __truncated__ ...\n",
            " $ mature_content          : chr  \"\" \" Mature Content Description  The developers describe the content like this:  This Game may contain content not \"| __truncated__ \"\" \"\" ...\n",
            " $ minimum_requirements    : chr  \"Minimum:,OS:,Windows 7/8.1/10 (64-bit versions),Processor:,Intel Core i5-2400/AMD FX-8320 or better,Memory:,8 G\"| __truncated__ \"Minimum:,Requires a 64-bit processor and operating system,OS:,64-bit Windows 7, Windows 8.1, Windows 10,Process\"| __truncated__ \"Minimum:,Requires a 64-bit processor and operating system,OS:,64-bit Windows 7 or Higher,Processor:,Intel® Core\"| __truncated__ \"Minimum:,OS:,Windows 7/8.1 64-bit,Processor:,Intel Core i5-4430,Memory:,8 GB RAM,Graphics:,NVIDIA GeForce GTX 7\"| __truncated__ ...\n",
            " $ recommended_requirements: chr  \"Recommended:,OS:,Windows 7/8.1/10 (64-bit versions),Processor:,Intel Core i7-3770/AMD FX-8350 or better,Memory:\"| __truncated__ \"Recommended:,Requires a 64-bit processor and operating system,OS:,64-bit Windows 7, Windows 8.1, Windows 10,Pro\"| __truncated__ \"Recommended:,Requires a 64-bit processor and operating system,OS:,64-bit Windows 7 or Higher,Processor:,Intel® \"| __truncated__ \"Recommended:,OS:,Windows 10 64-bit,Processor:,Intel Core i5-6600K or AMD R5 1600X,Memory:,12 GB RAM,Graphics:,N\"| __truncated__ ...\n",
            " $ original_price          : chr  \"$19.99\" \"$29.99\" \"$39.99\" \"$44.99\" ...\n",
            " $ discount_price          : chr  \"$14.99\" \"\" \"\" \"\" ...\n"
          ]
        }
      ]
    },
    {
      "cell_type": "code",
      "source": [
        "%%R\n",
        "library(dplyr)\n",
        "\n",
        "steam_dataset_reviews <- steam_dataset %>% select(c('name', 'desc_snippet'))"
      ],
      "metadata": {
        "colab": {
          "base_uri": "https://localhost:8080/"
        },
        "id": "ZK8ZTj2rQUec",
        "outputId": "8f273951-d258-412f-888b-dedafa3ebdc2"
      },
      "execution_count": 7,
      "outputs": [
        {
          "output_type": "stream",
          "name": "stderr",
          "text": [
            "WARNING:rpy2.rinterface_lib.callbacks:R[write to console]: \n",
            "Attaching package: ‘dplyr’\n",
            "\n",
            "\n",
            "WARNING:rpy2.rinterface_lib.callbacks:R[write to console]: The following objects are masked from ‘package:stats’:\n",
            "\n",
            "    filter, lag\n",
            "\n",
            "\n",
            "WARNING:rpy2.rinterface_lib.callbacks:R[write to console]: The following objects are masked from ‘package:base’:\n",
            "\n",
            "    intersect, setdiff, setequal, union\n",
            "\n",
            "\n"
          ]
        }
      ]
    },
    {
      "cell_type": "code",
      "source": [
        "%%R\n",
        "head(steam_dataset_reviews)"
      ],
      "metadata": {
        "colab": {
          "base_uri": "https://localhost:8080/"
        },
        "id": "T1QFnTj0O4z4",
        "outputId": "36c21176-08b8-45df-9901-90fefc52e827"
      },
      "execution_count": 8,
      "outputs": [
        {
          "output_type": "stream",
          "name": "stdout",
          "text": [
            "                                        name\n",
            "1                                       DOOM\n",
            "2              PLAYERUNKNOWN'S BATTLEGROUNDS\n",
            "3                                 BATTLETECH\n",
            "4                                       DayZ\n",
            "5                                 EVE Online\n",
            "6 Grand Theft Auto V: Premium Online Edition\n",
            "                                                                                                                                                                                                                                                                                                                 desc_snippet\n",
            "1                   Now includes all three premium DLC packs (Unto the Evil, Hell Followed, and Bloodfall), maps, modes, and weapons, as well as all feature updates including Arcade Mode, Photo Mode, and the latest Update 6.66, which brings further multiplayer improvements as well as revamps multiplayer progression.\n",
            "2                                                                                                                 PLAYERUNKNOWN'S BATTLEGROUNDS is a battle royale shooter that pits 100 players against each other in a struggle for survival. Gather supplies and outwit your opponents to become the last person standing.\n",
            "3                                                                                                                                        Take command of your own mercenary outfit of 'Mechs and the MechWarriors that pilot them, struggling to stay afloat as you find yourself drawn into a brutal interstellar civil war.\n",
            "4 The post-soviet country of Chernarus is struck by an unknown virus, turning the majority population into frenzied infected. Fighting over resources has bred a hostile mentality among survivors, driving what’s left of humanity to collapse. You are one of the few immune to the virus - how far will you go to survive?\n",
            "5                                                         EVE Online is a community-driven spaceship MMO where players can play free, choosing their own path from countless options. Experience space exploration, immense PvP and PvE battles, mining, industry and a thriving player economy in an ever-expanding sandbox.\n",
            "6                                                                                                                                                                                                                                                                           Grand Theft Auto V: Premium Online Edition bundle\n"
          ]
        }
      ]
    },
    {
      "cell_type": "code",
      "source": [
        "%%R\n",
        "library(dplyr)\n",
        "library(tidytext)\n",
        "\n",
        "# For this exercise, we will use steam video games data (more precisely analysing words in the description (desc_snippet) of the games)\n",
        "\n",
        "# Count words of the descriptions by games\n",
        "steam_wb <- steam_dataset_reviews %>% unnest_tokens(word, desc_snippet) %>% count(name, word, sort = TRUE) %>% ungroup()\n",
        "head(steam_wb)"
      ],
      "metadata": {
        "id": "iihPW2yHBydA",
        "colab": {
          "base_uri": "https://localhost:8080/"
        },
        "outputId": "96f6f5ad-33bf-4f26-a275-1fac49158aa4"
      },
      "execution_count": 9,
      "outputs": [
        {
          "output_type": "stream",
          "name": "stdout",
          "text": [
            "                             name word  n\n",
            "1      幽铃兰-lily of the hollow-   的 14\n",
            "2                             NaN  nan 12\n",
            "3 Save Halloween: City of Witches  the 12\n",
            "4                     Alchemyland  the 11\n",
            "5             Awakening of Dragon   龙 11\n",
            "6         Command: Shifting Sands  the 11\n"
          ]
        }
      ]
    },
    {
      "cell_type": "code",
      "source": [
        "%%R\n",
        "head(steam_wb)"
      ],
      "metadata": {
        "colab": {
          "base_uri": "https://localhost:8080/"
        },
        "id": "TlFP1UB3WPrw",
        "outputId": "30913565-29d0-4183-f3b8-a422cc49f804"
      },
      "execution_count": 10,
      "outputs": [
        {
          "output_type": "stream",
          "name": "stdout",
          "text": [
            "                             name word  n\n",
            "1      幽铃兰-lily of the hollow-   的 14\n",
            "2                             NaN  nan 12\n",
            "3 Save Halloween: City of Witches  the 12\n",
            "4                     Alchemyland  the 11\n",
            "5             Awakening of Dragon   龙 11\n",
            "6         Command: Shifting Sands  the 11\n"
          ]
        }
      ]
    },
    {
      "cell_type": "code",
      "source": [
        "%%R\n",
        "# Count the total words frequency of the games\n",
        "steam_tw <- steam_wb %>% group_by(name) %>% summarize(total = sum(n))"
      ],
      "metadata": {
        "id": "5o_RVm9xWPkt"
      },
      "execution_count": 11,
      "outputs": []
    },
    {
      "cell_type": "code",
      "source": [
        "%%R\n",
        "head(steam_tw)"
      ],
      "metadata": {
        "colab": {
          "base_uri": "https://localhost:8080/"
        },
        "id": "f3fNEg15Xx9b",
        "outputId": "5a745a15-0be4-4225-aedf-98b9ab2bc58f"
      },
      "execution_count": 12,
      "outputs": [
        {
          "output_type": "stream",
          "name": "stdout",
          "text": [
            "# A tibble: 6 × 2\n",
            "  name                                                  total\n",
            "  <chr>                                                 <int>\n",
            "1 - Arcane Raise -                                         43\n",
            "2 -KLAUS-                                                  48\n",
            "3 ::CallBack                                               43\n",
            "4 .hack//G.U. Last Recode                                  33\n",
            "5 .projekt                                                  9\n",
            "6 .T.E.S.T: Expected Behaviour — Sci-Fi 3D Puzzle Quest    36\n"
          ]
        }
      ]
    },
    {
      "cell_type": "code",
      "source": [
        "%%R\n",
        "# Combining the by-games frequencies with the total frequencies\n",
        "steam_full_table <- left_join(steam_wb, steam_tw)\n",
        "head(steam_full_table)"
      ],
      "metadata": {
        "colab": {
          "base_uri": "https://localhost:8080/"
        },
        "id": "amC86Xl7YC72",
        "outputId": "a2cc034a-a4b4-42d1-f223-0acbacedbff2"
      },
      "execution_count": 13,
      "outputs": [
        {
          "output_type": "stream",
          "name": "stdout",
          "text": [
            "Joining, by = \"name\"\n",
            "                             name word  n total\n",
            "1      幽铃兰-lily of the hollow-   的 14   118\n",
            "2                             NaN  nan 12    12\n",
            "3 Save Halloween: City of Witches  the 12    57\n",
            "4                     Alchemyland  the 11    55\n",
            "5             Awakening of Dragon   龙 11    95\n",
            "6         Command: Shifting Sands  the 11    55\n"
          ]
        }
      ]
    },
    {
      "cell_type": "code",
      "source": [],
      "metadata": {
        "id": "S54OsAWzuP11"
      },
      "execution_count": 13,
      "outputs": []
    },
    {
      "cell_type": "code",
      "source": [
        "# Question 1 - Distribution of lengths of words and visualization of the distribution"
      ],
      "metadata": {
        "id": "unv2TwUruVzv"
      },
      "execution_count": 14,
      "outputs": []
    },
    {
      "cell_type": "code",
      "source": [
        "%%R\n",
        "library(stringr)"
      ],
      "metadata": {
        "id": "ohseUNGmvPBe"
      },
      "execution_count": 15,
      "outputs": []
    },
    {
      "cell_type": "code",
      "source": [
        "%%R\n",
        "# Calculate the word lengths\n",
        "steam_full_table$word_length = str_length(steam_full_table$word)"
      ],
      "metadata": {
        "id": "Gm5Sxnow9_dc"
      },
      "execution_count": 16,
      "outputs": []
    },
    {
      "cell_type": "code",
      "source": [
        "%%R\n",
        "head(steam_full_table,10)"
      ],
      "metadata": {
        "colab": {
          "base_uri": "https://localhost:8080/"
        },
        "id": "Bm4jmf2c-J7i",
        "outputId": "e373511e-cece-4013-fa87-8ee967fa27d6"
      },
      "execution_count": 17,
      "outputs": [
        {
          "output_type": "stream",
          "name": "stdout",
          "text": [
            "                                       name word  n total word_length\n",
            "1                幽铃兰-lily of the hollow-   的 14   118           1\n",
            "2                                       NaN  nan 12    12           3\n",
            "3           Save Halloween: City of Witches  the 12    57           3\n",
            "4                               Alchemyland  the 11    55           3\n",
            "5                       Awakening of Dragon   龙 11    95           1\n",
            "6                   Command: Shifting Sands  the 11    55           3\n",
            "7  Escalation - A Rainbow Six: Siege series  the 11    62           3\n",
            "8                                UMA-War VR  the 11    60           3\n",
            "9                          地铁：恐怖末班车  the 11    54           3\n",
            "10     天罡星宿海 The sea of TianGang XinSu  the 11    62           3\n"
          ]
        }
      ]
    },
    {
      "cell_type": "code",
      "source": [
        "%%R\n",
        "# Count of the frequency of the word lengths\n",
        "steam_lf <- steam_full_table %>% count(name, word_length, sort = TRUE) %>% ungroup()"
      ],
      "metadata": {
        "id": "qht-zPWPA4Cb"
      },
      "execution_count": 18,
      "outputs": []
    },
    {
      "cell_type": "code",
      "source": [
        "%%R\n",
        "head(steam_lf, 10)"
      ],
      "metadata": {
        "colab": {
          "base_uri": "https://localhost:8080/"
        },
        "id": "cAfIgCLXA37j",
        "outputId": "5882939f-a843-4c4e-cf7c-1cbffc5546cd"
      },
      "execution_count": 19,
      "outputs": [
        {
          "output_type": "stream",
          "name": "stdout",
          "text": [
            "                                               name word_length  n\n",
            "1  Three Kingdoms：Ancient battlefield | 三国古战略           2 87\n",
            "2                                          安全教育           2 70\n",
            "3                胜利即正义! / Victory is justice！           2 61\n",
            "4                                            VRLife           2 60\n",
            "5  Three Kingdoms：Ancient battlefield | 三国古战略           1 56\n",
            "6                        幽铃兰-lily of the hollow-           2 55\n",
            "7                                        墨色三国志           2 54\n",
            "8                   赫炎的印加诺克 Fullvoice ReBORN           2 46\n",
            "9                        幽铃兰-lily of the hollow-           1 42\n",
            "10                                    异霊 皓月空华           2 41\n"
          ]
        }
      ]
    },
    {
      "cell_type": "code",
      "source": [
        "%%R\n",
        "# Calculate the word_length * number of frequency\n",
        "steam_lf$word_total_length <- steam_lf$word_length * steam_lf$n"
      ],
      "metadata": {
        "id": "xguAc-Yri6RH"
      },
      "execution_count": 20,
      "outputs": []
    },
    {
      "cell_type": "code",
      "source": [
        "%%R\n",
        "head(steam_lf,20)"
      ],
      "metadata": {
        "colab": {
          "base_uri": "https://localhost:8080/"
        },
        "id": "kh-qO1zgZXv9",
        "outputId": "90ed1dde-e43c-4b4c-9fcf-09cfd12bf97e"
      },
      "execution_count": 21,
      "outputs": [
        {
          "output_type": "stream",
          "name": "stdout",
          "text": [
            "                                               name word_length  n\n",
            "1  Three Kingdoms：Ancient battlefield | 三国古战略           2 87\n",
            "2                                          安全教育           2 70\n",
            "3                胜利即正义! / Victory is justice！           2 61\n",
            "4                                            VRLife           2 60\n",
            "5  Three Kingdoms：Ancient battlefield | 三国古战略           1 56\n",
            "6                        幽铃兰-lily of the hollow-           2 55\n",
            "7                                        墨色三国志           2 54\n",
            "8                   赫炎的印加诺克 Fullvoice ReBORN           2 46\n",
            "9                        幽铃兰-lily of the hollow-           1 42\n",
            "10                                    异霊 皓月空华           2 41\n",
            "11                       死亡投票_Death Voting Game           2 41\n",
            "12                                Xiu's SuperMarket           2 40\n",
            "13                              古剑奇谭二(GuJian2)           1 40\n",
            "14                               城堡传说：魔王觉醒           2 40\n",
            "15                                   Fisher Fans VR           2 39\n",
            "16                        时之回廊/Corridor of time           2 39\n",
            "17          魔王村长和杂货店-Hero Village Simulator           2 39\n",
            "18                                          Lighter           2 38\n",
            "19                                           四之石           2 38\n",
            "20                       The story of Gods 七神物语           2 37\n",
            "   word_total_length\n",
            "1                174\n",
            "2                140\n",
            "3                122\n",
            "4                120\n",
            "5                 56\n",
            "6                110\n",
            "7                108\n",
            "8                 92\n",
            "9                 42\n",
            "10                82\n",
            "11                82\n",
            "12                80\n",
            "13                40\n",
            "14                80\n",
            "15                78\n",
            "16                78\n",
            "17                78\n",
            "18                76\n",
            "19                76\n",
            "20                74\n"
          ]
        }
      ]
    },
    {
      "cell_type": "code",
      "source": [
        "%%R\n",
        "# Count the total length of all words of the games\n",
        "steam_tl <- steam_lf %>% group_by(name) %>% summarize(total = sum(word_total_length))"
      ],
      "metadata": {
        "id": "03JzR8qraAZ_"
      },
      "execution_count": 22,
      "outputs": []
    },
    {
      "cell_type": "code",
      "source": [
        "%%R\n",
        "steam_full_table_word_length <- left_join(steam_lf, steam_tl)\n",
        "head(steam_full_table_word_length)"
      ],
      "metadata": {
        "colab": {
          "base_uri": "https://localhost:8080/"
        },
        "id": "yg35A6LQjU8X",
        "outputId": "7fbb5016-1287-4908-9b93-d108d3a69b80"
      },
      "execution_count": 23,
      "outputs": [
        {
          "output_type": "stream",
          "name": "stdout",
          "text": [
            "Joining, by = \"name\"\n",
            "                                              name word_length  n\n",
            "1 Three Kingdoms：Ancient battlefield | 三国古战略           2 87\n",
            "2                                         安全教育           2 70\n",
            "3               胜利即正义! / Victory is justice！           2 61\n",
            "4                                           VRLife           2 60\n",
            "5 Three Kingdoms：Ancient battlefield | 三国古战略           1 56\n",
            "6                       幽铃兰-lily of the hollow-           2 55\n",
            "  word_total_length total\n",
            "1               174   237\n",
            "2               140   172\n",
            "3               122   161\n",
            "4               120   171\n",
            "5                56   237\n",
            "6               110   159\n"
          ]
        }
      ]
    },
    {
      "cell_type": "code",
      "source": [],
      "metadata": {
        "id": "KABMFHkNjUzI"
      },
      "execution_count": 23,
      "outputs": []
    },
    {
      "cell_type": "code",
      "source": [
        "%%R\n",
        "library(dplyr)\n",
        "target <- c(\"DOOM\", \"BATTLETECH\", \"Command: Shifting Sands\", \"EVE Online\", \"DayZ\")\n",
        "steam_full_table_word_length_1 <- filter(steam_full_table_word_length, name %in% target)"
      ],
      "metadata": {
        "id": "eFhgd2waaAUK"
      },
      "execution_count": 24,
      "outputs": []
    },
    {
      "cell_type": "code",
      "source": [
        "%%R\n",
        "head(steam_full_table_word_length_1)"
      ],
      "metadata": {
        "colab": {
          "base_uri": "https://localhost:8080/"
        },
        "id": "PKPNsUhicHWf",
        "outputId": "204084b9-1922-4744-c3d2-420594ac6d6b"
      },
      "execution_count": 25,
      "outputs": [
        {
          "output_type": "stream",
          "name": "stdout",
          "text": [
            "                     name word_length n word_total_length total\n",
            "1 Command: Shifting Sands           3 9                27   207\n",
            "2 Command: Shifting Sands           4 8                32   207\n",
            "3                    DayZ           3 8                24   231\n",
            "4              BATTLETECH           4 7                28   146\n",
            "5                    DOOM           4 7                28   204\n",
            "6              EVE Online           3 7                21   210\n"
          ]
        }
      ]
    },
    {
      "cell_type": "code",
      "source": [
        "%%R\n",
        "library(ggplot2)\n",
        "library(repr)\n",
        "options(repr.plot.width = 20, repr.plot.height = 4) # a wider, shorter figure\n",
        "# these will all be heavy-tailed distributions (as predicted by Zipf's Law)\n",
        "ggplot(steam_full_table_word_length_1, aes(word_total_length / total, fill = name)) + geom_histogram(show.legend = FALSE) + xlim(NA, 10) + facet_wrap(~name, ncol = 5, scales = \"free_y\")"
      ],
      "metadata": {
        "colab": {
          "base_uri": "https://localhost:8080/",
          "height": 533
        },
        "id": "Ryxfs0n3-Ykt",
        "outputId": "eb20e539-3b7d-49d7-a020-130cc68bf2d4"
      },
      "execution_count": 26,
      "outputs": [
        {
          "output_type": "stream",
          "name": "stderr",
          "text": [
            "WARNING:rpy2.rinterface_lib.callbacks:R[write to console]: `stat_bin()` using `bins = 30`. Pick better value with `binwidth`.\n",
            "\n"
          ]
        },
        {
          "output_type": "display_data",
          "data": {
            "image/png": "[encoded data removed]"
          },
          "metadata": {}
        }
      ]
    },
    {
      "cell_type": "code",
      "source": [
        "%%R\n",
        "# this means they make sort of a straight line in a log-log plot (with noise at the start and at the end)\n",
        "steam_fr <- steam_full_table_word_length_1 %>% group_by(name) %>% mutate(rank = row_number(), `term frequency` = word_total_length / total) # rank the total lengths by frequency\n",
        "steam_fr %>% ggplot(aes(rank, `term frequency`, color = name)) + geom_line(size = 1, alpha = 1, show.legend = FALSE) + scale_x_log10() + scale_y_log10()"
      ],
      "metadata": {
        "colab": {
          "base_uri": "https://localhost:8080/",
          "height": 497
        },
        "id": "FKNUP4cNe-Kn",
        "outputId": "434a66fc-9797-4f24-9b19-3a5efdf14ca9"
      },
      "execution_count": 27,
      "outputs": [
        {
          "output_type": "display_data",
          "data": {
            "image/png": "[encoded data removed]"
          },
          "metadata": {}
        }
      ]
    },
    {
      "cell_type": "code",
      "source": [],
      "metadata": {
        "id": "ieXweOj7qiG8"
      },
      "execution_count": 27,
      "outputs": []
    },
    {
      "cell_type": "code",
      "source": [],
      "metadata": {
        "id": "BhmBeZFKqzf9"
      },
      "execution_count": 27,
      "outputs": []
    },
    {
      "cell_type": "code",
      "source": [
        "%%R\n",
        "library(dplyr)\n",
        "target <- c(\"DOOM\", \"BATTLETECH\", \"Command: Shifting Sands\", \"EVE Online\", \"DayZ\")\n",
        "steam_full_table_1 <- filter(steam_full_table, name %in% target)"
      ],
      "metadata": {
        "id": "qo5rgkk5qzZv"
      },
      "execution_count": 28,
      "outputs": []
    },
    {
      "cell_type": "code",
      "source": [
        "%%R\n",
        "steam_full_table_1 <- steam_full_table_1 %>% bind_tf_idf(word, name, n) # add three new columns: tf, idf, and tf_idf\n",
        "ordered <- steam_full_table_1 %>% arrange(desc(tf_idf)) # put the highest tf_idf terms first\n",
        "head(ordered,20)"
      ],
      "metadata": {
        "colab": {
          "base_uri": "https://localhost:8080/"
        },
        "id": "mK57xQZ8C0uZ",
        "outputId": "3350ff85-58b9-45b1-e1ef-a2c1a172b856"
      },
      "execution_count": 29,
      "outputs": [
        {
          "output_type": "stream",
          "name": "stdout",
          "text": [
            "         name         word n total word_length         tf       idf     tf_idf\n",
            "1        DOOM           as 4    45           2 0.08888889 0.9162907 0.08144807\n",
            "2        DOOM         mode 2    45           4 0.04444444 1.6094379 0.07153057\n",
            "3        DOOM  multiplayer 2    45          11 0.04444444 1.6094379 0.07153057\n",
            "4        DOOM         well 2    45           4 0.04444444 1.6094379 0.07153057\n",
            "5        DayZ        virus 2    53           5 0.03773585 1.6094379 0.06073351\n",
            "6  BATTLETECH       afloat 1    30           6 0.03333333 1.6094379 0.05364793\n",
            "7  BATTLETECH       brutal 1    30           6 0.03333333 1.6094379 0.05364793\n",
            "8  BATTLETECH        civil 1    30           5 0.03333333 1.6094379 0.05364793\n",
            "9  BATTLETECH      command 1    30           7 0.03333333 1.6094379 0.05364793\n",
            "10 BATTLETECH        drawn 1    30           5 0.03333333 1.6094379 0.05364793\n",
            "11 BATTLETECH         find 1    30           4 0.03333333 1.6094379 0.05364793\n",
            "12 BATTLETECH interstellar 1    30          12 0.03333333 1.6094379 0.05364793\n",
            "13 BATTLETECH        mechs 1    30           5 0.03333333 1.6094379 0.05364793\n",
            "14 BATTLETECH mechwarriors 1    30          12 0.03333333 1.6094379 0.05364793\n",
            "15 BATTLETECH    mercenary 1    30           9 0.03333333 1.6094379 0.05364793\n",
            "16 BATTLETECH       outfit 1    30           6 0.03333333 1.6094379 0.05364793\n",
            "17 BATTLETECH        pilot 1    30           5 0.03333333 1.6094379 0.05364793\n",
            "18 BATTLETECH         stay 1    30           4 0.03333333 1.6094379 0.05364793\n",
            "19 BATTLETECH   struggling 1    30          10 0.03333333 1.6094379 0.05364793\n",
            "20 BATTLETECH         take 1    30           4 0.03333333 1.6094379 0.05364793\n"
          ]
        }
      ]
    },
    {
      "cell_type": "code",
      "source": [],
      "metadata": {
        "id": "1ZIr8NuW9Keo"
      },
      "execution_count": 29,
      "outputs": []
    },
    {
      "cell_type": "code",
      "source": [
        "# Question 2 - Distribution of tf-idf"
      ],
      "metadata": {
        "id": "nRjTdDRB9KXQ"
      },
      "execution_count": 30,
      "outputs": []
    },
    {
      "cell_type": "code",
      "source": [
        "%%R\n",
        "ggplot(ordered, aes(tf_idf, fill = name)) + geom_histogram(show.legend = FALSE) + xlim(NA, 10) + facet_wrap(~name, ncol = 5, scales = \"free_y\")"
      ],
      "metadata": {
        "colab": {
          "base_uri": "https://localhost:8080/",
          "height": 533
        },
        "id": "7eVricrmEv1U",
        "outputId": "7c79ae49-80df-4fee-c009-9190073e6e54"
      },
      "execution_count": 31,
      "outputs": [
        {
          "output_type": "stream",
          "name": "stderr",
          "text": [
            "WARNING:rpy2.rinterface_lib.callbacks:R[write to console]: `stat_bin()` using `bins = 30`. Pick better value with `binwidth`.\n",
            "\n"
          ]
        },
        {
          "output_type": "display_data",
          "data": {
            "image/png": "[encoded data removed]"
          },
          "metadata": {}
        }
      ]
    },
    {
      "cell_type": "code",
      "source": [
        "%%R\n",
        "# this means they make sort of a straight line in a log-log plot (with noise at the start and at the end)\n",
        "steam_ft <- ordered %>% group_by(name) %>% mutate(rank = row_number(), `tf_idf` = tf_idf) # rank the tf-idf\n",
        "steam_ft %>% ggplot(aes(rank, `tf_idf`, color = name)) + geom_line(size = 1, alpha = 1, show.legend = FALSE) + scale_x_log10() + scale_y_log10()"
      ],
      "metadata": {
        "id": "3Zp7F91sFIEL",
        "colab": {
          "base_uri": "https://localhost:8080/",
          "height": 497
        },
        "outputId": "116dff22-15c9-454a-ab32-8cd2e9ed5681"
      },
      "execution_count": 32,
      "outputs": [
        {
          "output_type": "display_data",
          "data": {
            "image/png": "[encoded data removed]"
          },
          "metadata": {}
        }
      ]
    },
    {
      "cell_type": "code",
      "source": [],
      "metadata": {
        "id": "7Q36DTLHtnIP"
      },
      "execution_count": 32,
      "outputs": []
    },
    {
      "cell_type": "code",
      "source": [
        "%%R\n",
        "# install.packages(\"tm\")\n",
        "# install.packages(\"widyr\")"
      ],
      "metadata": {
        "colab": {
          "base_uri": "https://localhost:8080/"
        },
        "id": "knsszv8sw3ud",
        "outputId": "37ddf68f-968a-426d-df99-2782df7d378f"
      },
      "execution_count": 33,
      "outputs": [
        {
          "output_type": "stream",
          "name": "stdout",
          "text": [
            "NULL\n"
          ]
        }
      ]
    },
    {
      "cell_type": "code",
      "source": [],
      "metadata": {
        "id": "m2eR2r2k9Vgd"
      },
      "execution_count": 33,
      "outputs": []
    },
    {
      "cell_type": "code",
      "source": [
        "# Question 3 - Similarity measure for documents based on tf-idf matrix"
      ],
      "metadata": {
        "id": "ErK8LR3r9W4j"
      },
      "execution_count": 34,
      "outputs": []
    },
    {
      "cell_type": "code",
      "source": [],
      "metadata": {
        "id": "0rlLsv1R_Bc0"
      },
      "execution_count": 34,
      "outputs": []
    },
    {
      "cell_type": "code",
      "source": [
        "# Method "
      ],
      "metadata": {
        "id": "VRv5IS5P_BQb"
      },
      "execution_count": 35,
      "outputs": []
    },
    {
      "cell_type": "code",
      "source": [
        "%%R\n",
        "# closest games to each other\n",
        "library(widyr)\n",
        "closest_documents <- ordered %>%\n",
        "  pairwise_similarity(name, word, n) %>%\n",
        "  arrange(desc(similarity))"
      ],
      "metadata": {
        "id": "rFJW7iDl4vD1"
      },
      "execution_count": 36,
      "outputs": []
    },
    {
      "cell_type": "code",
      "source": [
        "%%R\n",
        "closest_documents"
      ],
      "metadata": {
        "colab": {
          "base_uri": "https://localhost:8080/"
        },
        "id": "ZgmUDFhP5ff9",
        "outputId": "1309a15d-bf6a-42ea-9787-68fbc6db8efe"
      },
      "execution_count": 37,
      "outputs": [
        {
          "output_type": "stream",
          "name": "stdout",
          "text": [
            "# A tibble: 20 × 3\n",
            "   item1                   item2                   similarity\n",
            "   <chr>                   <chr>                        <dbl>\n",
            " 1 Command: Shifting Sands DayZ                        0.490 \n",
            " 2 DayZ                    Command: Shifting Sands     0.490 \n",
            " 3 BATTLETECH              DayZ                        0.334 \n",
            " 4 DayZ                    BATTLETECH                  0.334 \n",
            " 5 Command: Shifting Sands BATTLETECH                  0.325 \n",
            " 6 BATTLETECH              Command: Shifting Sands     0.325 \n",
            " 7 Command: Shifting Sands DOOM                        0.258 \n",
            " 8 DOOM                    Command: Shifting Sands     0.258 \n",
            " 9 BATTLETECH              DOOM                        0.186 \n",
            "10 DOOM                    BATTLETECH                  0.186 \n",
            "11 EVE Online              BATTLETECH                  0.133 \n",
            "12 BATTLETECH              EVE Online                  0.133 \n",
            "13 EVE Online              DOOM                        0.106 \n",
            "14 DOOM                    EVE Online                  0.106 \n",
            "15 DayZ                    DOOM                        0.104 \n",
            "16 DOOM                    DayZ                        0.104 \n",
            "17 EVE Online              DayZ                        0.0670\n",
            "18 DayZ                    EVE Online                  0.0670\n",
            "19 EVE Online              Command: Shifting Sands     0.0554\n",
            "20 Command: Shifting Sands EVE Online                  0.0554\n"
          ]
        }
      ]
    },
    {
      "cell_type": "code",
      "source": [],
      "metadata": {
        "id": "yRfeX6zf_gUq"
      },
      "execution_count": 37,
      "outputs": []
    },
    {
      "cell_type": "code",
      "source": [
        "# Casting dataframe to a DocumentTermMatrix"
      ],
      "metadata": {
        "id": "tz8RP08b_fiW"
      },
      "execution_count": 38,
      "outputs": []
    },
    {
      "cell_type": "code",
      "source": [
        "%%R\n",
        "# let's first filter out the lower end of the tf-idf scores\n",
        "threshold <- 0.0005\n",
        "top_doc <- ordered %>% filter (tf_idf > threshold) \n",
        "doc_matrix <- top_doc %>% cast_dtm(name, word, tf_idf)\n",
        "doc_matrix # see the stats"
      ],
      "metadata": {
        "colab": {
          "base_uri": "https://localhost:8080/"
        },
        "id": "O4tTgv9k9uhL",
        "outputId": "9b829842-a250-4aab-e1fd-53c04338d62b"
      },
      "execution_count": 39,
      "outputs": [
        {
          "output_type": "stream",
          "name": "stdout",
          "text": [
            "<<DocumentTermMatrix (documents: 5, terms: 163)>>\n",
            "Non-/sparse entries: 185/630\n",
            "Sparsity           : 77%\n",
            "Maximal term length: 12\n",
            "Weighting          : term frequency (tf)\n"
          ]
        }
      ]
    },
    {
      "cell_type": "code",
      "source": [
        "%%R\n",
        "doc_matrix_table <- tidy(doc_matrix)\n",
        "head(doc_matrix_table,20)"
      ],
      "metadata": {
        "colab": {
          "base_uri": "https://localhost:8080/"
        },
        "id": "J82v95x5-LXH",
        "outputId": "43d5dd7b-91cc-4954-ea59-d059c462e0d1"
      },
      "execution_count": 40,
      "outputs": [
        {
          "output_type": "stream",
          "name": "stdout",
          "text": [
            "# A tibble: 20 × 3\n",
            "   document   term          count\n",
            "   <chr>      <chr>         <dbl>\n",
            " 1 DOOM       as           0.0814\n",
            " 2 BATTLETECH as           0.0305\n",
            " 3 DOOM       mode         0.0715\n",
            " 4 DOOM       multiplayer  0.0715\n",
            " 5 DOOM       well         0.0715\n",
            " 6 DayZ       virus        0.0607\n",
            " 7 BATTLETECH afloat       0.0536\n",
            " 8 BATTLETECH brutal       0.0536\n",
            " 9 BATTLETECH civil        0.0536\n",
            "10 BATTLETECH command      0.0536\n",
            "11 BATTLETECH drawn        0.0536\n",
            "12 BATTLETECH find         0.0536\n",
            "13 BATTLETECH interstellar 0.0536\n",
            "14 BATTLETECH mechs        0.0536\n",
            "15 BATTLETECH mechwarriors 0.0536\n",
            "16 BATTLETECH mercenary    0.0536\n",
            "17 BATTLETECH outfit       0.0536\n",
            "18 BATTLETECH pilot        0.0536\n",
            "19 BATTLETECH stay         0.0536\n",
            "20 BATTLETECH struggling   0.0536\n"
          ]
        }
      ]
    },
    {
      "cell_type": "code",
      "source": [],
      "metadata": {
        "id": "UGUMA6Hl-LPF"
      },
      "execution_count": 40,
      "outputs": []
    },
    {
      "cell_type": "code",
      "source": [
        "# Question 4 - Similarity measure for terms based on tf-idf matrix"
      ],
      "metadata": {
        "id": "lTXideIc9ucw"
      },
      "execution_count": 41,
      "outputs": []
    },
    {
      "cell_type": "code",
      "source": [
        "%%R\n",
        "# closest words to each other\n",
        "library(widyr)\n",
        "closest_words <- ordered %>%\n",
        "  pairwise_similarity(word, name, n) %>%\n",
        "  arrange(desc(similarity))"
      ],
      "metadata": {
        "id": "9mhU_2QU5hVF"
      },
      "execution_count": 42,
      "outputs": []
    },
    {
      "cell_type": "code",
      "source": [
        "%%R\n",
        "head(filter(closest_words, similarity < 0.8), 20)"
      ],
      "metadata": {
        "colab": {
          "base_uri": "https://localhost:8080/"
        },
        "id": "CWLkCcFX5twB",
        "outputId": "23ce17c9-3117-4b8c-fb36-82f16e97b631"
      },
      "execution_count": 43,
      "outputs": [
        {
          "output_type": "stream",
          "name": "stdout",
          "text": [
            "# A tibble: 20 × 3\n",
            "   item1     item2 similarity\n",
            "   <chr>     <chr>      <dbl>\n",
            " 1 and       as         0.743\n",
            " 2 as        and        0.743\n",
            " 3 air       of         0.743\n",
            " 4 arab      of         0.743\n",
            " 5 attrition of         0.743\n",
            " 6 battle    of         0.743\n",
            " 7 bekaa     of         0.743\n",
            " 8 conflicts of         0.743\n",
            " 9 crisis    of         0.743\n",
            "10 day       of         0.743\n",
            "11 epic      of         0.743\n",
            "12 guerilla  of         0.743\n",
            "13 historic  of         0.743\n",
            "14 history   of         0.743\n",
            "15 israeli   of         0.743\n",
            "16 kippur    of         0.743\n",
            "17 lightning of         0.743\n",
            "18 like      of         0.743\n",
            "19 many      of         0.743\n",
            "20 osirak    of         0.743\n"
          ]
        }
      ]
    },
    {
      "cell_type": "code",
      "source": [],
      "metadata": {
        "id": "qrEXXasj5ypD"
      },
      "execution_count": 43,
      "outputs": []
    },
    {
      "cell_type": "code",
      "source": [
        "# Casting dataframe to a TermDocumentMatrix"
      ],
      "metadata": {
        "id": "IXkUadRI_jHe"
      },
      "execution_count": 44,
      "outputs": []
    },
    {
      "cell_type": "code",
      "source": [
        "%%R\n",
        "# let's first filter out the lower end of the tf-idf scores\n",
        "threshold <- 0.0005\n",
        "top_term <- ordered %>% filter (tf_idf > threshold) \n",
        "term_matrix <- top_term %>% cast_tdm(word, name, tf_idf)\n",
        "term_matrix # see the stats"
      ],
      "metadata": {
        "colab": {
          "base_uri": "https://localhost:8080/"
        },
        "id": "3guRBHdsw6Wd",
        "outputId": "73811d93-56f4-4a92-d909-f7bd352f2139"
      },
      "execution_count": 45,
      "outputs": [
        {
          "output_type": "stream",
          "name": "stdout",
          "text": [
            "<<TermDocumentMatrix (terms: 163, documents: 5)>>\n",
            "Non-/sparse entries: 185/630\n",
            "Sparsity           : 77%\n",
            "Maximal term length: 12\n",
            "Weighting          : term frequency (tf)\n"
          ]
        }
      ]
    },
    {
      "cell_type": "code",
      "source": [
        "%%R\n",
        "term_matrix_table <- tidy(term_matrix)\n",
        "head(term_matrix_table,20)"
      ],
      "metadata": {
        "colab": {
          "base_uri": "https://localhost:8080/"
        },
        "id": "ODo_uZOdxW-6",
        "outputId": "3f72833a-e551-44f3-a1b6-b73952c597ee"
      },
      "execution_count": 46,
      "outputs": [
        {
          "output_type": "stream",
          "name": "stdout",
          "text": [
            "# A tibble: 20 × 3\n",
            "   term         document   count\n",
            "   <chr>        <chr>      <dbl>\n",
            " 1 as           DOOM     0.0814 \n",
            " 2 mode         DOOM     0.0715 \n",
            " 3 multiplayer  DOOM     0.0715 \n",
            " 4 well         DOOM     0.0715 \n",
            " 5 the          DOOM     0.00992\n",
            " 6 all          DOOM     0.0407 \n",
            " 7 6.66         DOOM     0.0358 \n",
            " 8 arcade       DOOM     0.0358 \n",
            " 9 bloodfall    DOOM     0.0358 \n",
            "10 brings       DOOM     0.0358 \n",
            "11 dlc          DOOM     0.0358 \n",
            "12 evil         DOOM     0.0358 \n",
            "13 feature      DOOM     0.0358 \n",
            "14 followed     DOOM     0.0358 \n",
            "15 further      DOOM     0.0358 \n",
            "16 hell         DOOM     0.0358 \n",
            "17 improvements DOOM     0.0358 \n",
            "18 includes     DOOM     0.0358 \n",
            "19 including    DOOM     0.0358 \n",
            "20 latest       DOOM     0.0358 \n"
          ]
        }
      ]
    },
    {
      "cell_type": "code",
      "source": [],
      "metadata": {
        "id": "aD4CmB5_-0do"
      },
      "execution_count": 46,
      "outputs": []
    },
    {
      "cell_type": "code",
      "source": [
        "%%R\n",
        "#system2(\"sudo\", \"apt-get install libgsl0-dev\") # on your own linux machine, you would use sudo apt-get install libgsl0-dev (please consider installing a Linux VM unless you already have access to a Linux machine)\n",
        "#install.packages(\"topicmodels\")\n",
        "#install.packages(\"reshape\")\n",
        "#install.packages(\"reshape2\")"
      ],
      "metadata": {
        "colab": {
          "base_uri": "https://localhost:8080/"
        },
        "id": "4beeo2w0B97D",
        "outputId": "abb22203-7582-4b8a-99c0-8d4bab512291"
      },
      "execution_count": 47,
      "outputs": [
        {
          "output_type": "stream",
          "name": "stdout",
          "text": [
            "NULL\n"
          ]
        }
      ]
    },
    {
      "cell_type": "code",
      "source": [
        "%%R\n",
        "head(top_doc[order(top_doc$tf_idf, decreasing = TRUE),],30)"
      ],
      "metadata": {
        "colab": {
          "base_uri": "https://localhost:8080/"
        },
        "id": "T5KO3nXRCnG7",
        "outputId": "c7d25b68-990f-46cc-f598-bf35abf3bca1"
      },
      "execution_count": 48,
      "outputs": [
        {
          "output_type": "stream",
          "name": "stdout",
          "text": [
            "                      name         word  n total word_length         tf\n",
            "1                     DOOM           as  4    45           2 0.08888889\n",
            "2                     DOOM         mode  2    45           4 0.04444444\n",
            "3                     DOOM  multiplayer  2    45          11 0.04444444\n",
            "4                     DOOM         well  2    45           4 0.04444444\n",
            "5                     DayZ        virus  2    53           5 0.03773585\n",
            "6               BATTLETECH       afloat  1    30           6 0.03333333\n",
            "7               BATTLETECH       brutal  1    30           6 0.03333333\n",
            "8               BATTLETECH        civil  1    30           5 0.03333333\n",
            "9               BATTLETECH      command  1    30           7 0.03333333\n",
            "10              BATTLETECH        drawn  1    30           5 0.03333333\n",
            "11              BATTLETECH         find  1    30           4 0.03333333\n",
            "12              BATTLETECH interstellar  1    30          12 0.03333333\n",
            "13              BATTLETECH        mechs  1    30           5 0.03333333\n",
            "14              BATTLETECH mechwarriors  1    30          12 0.03333333\n",
            "15              BATTLETECH    mercenary  1    30           9 0.03333333\n",
            "16              BATTLETECH       outfit  1    30           6 0.03333333\n",
            "17              BATTLETECH        pilot  1    30           5 0.03333333\n",
            "18              BATTLETECH         stay  1    30           4 0.03333333\n",
            "19              BATTLETECH   struggling  1    30          10 0.03333333\n",
            "20              BATTLETECH         take  1    30           4 0.03333333\n",
            "21              BATTLETECH         that  1    30           4 0.03333333\n",
            "22              BATTLETECH         them  1    30           4 0.03333333\n",
            "23              BATTLETECH         your  1    30           4 0.03333333\n",
            "24              BATTLETECH     yourself  1    30           8 0.03333333\n",
            "25 Command: Shifting Sands          war  3    55           3 0.05454545\n",
            "26 Command: Shifting Sands          the 11    55           3 0.20000000\n",
            "27                    DOOM          all  2    45           3 0.04444444\n",
            "28              EVE Online      battles  1    40           7 0.02500000\n",
            "29              EVE Online          can  1    40           3 0.02500000\n",
            "30              EVE Online     choosing  1    40           8 0.02500000\n",
            "         idf     tf_idf\n",
            "1  0.9162907 0.08144807\n",
            "2  1.6094379 0.07153057\n",
            "3  1.6094379 0.07153057\n",
            "4  1.6094379 0.07153057\n",
            "5  1.6094379 0.06073351\n",
            "6  1.6094379 0.05364793\n",
            "7  1.6094379 0.05364793\n",
            "8  1.6094379 0.05364793\n",
            "9  1.6094379 0.05364793\n",
            "10 1.6094379 0.05364793\n",
            "11 1.6094379 0.05364793\n",
            "12 1.6094379 0.05364793\n",
            "13 1.6094379 0.05364793\n",
            "14 1.6094379 0.05364793\n",
            "15 1.6094379 0.05364793\n",
            "16 1.6094379 0.05364793\n",
            "17 1.6094379 0.05364793\n",
            "18 1.6094379 0.05364793\n",
            "19 1.6094379 0.05364793\n",
            "20 1.6094379 0.05364793\n",
            "21 1.6094379 0.05364793\n",
            "22 1.6094379 0.05364793\n",
            "23 1.6094379 0.05364793\n",
            "24 1.6094379 0.05364793\n",
            "25 0.9162907 0.04997949\n",
            "26 0.2231436 0.04462871\n",
            "27 0.9162907 0.04072403\n",
            "28 1.6094379 0.04023595\n",
            "29 1.6094379 0.04023595\n",
            "30 1.6094379 0.04023595\n"
          ]
        }
      ]
    },
    {
      "cell_type": "code",
      "source": [],
      "metadata": {
        "id": "lbQSkfMvVSoz"
      },
      "execution_count": 48,
      "outputs": []
    },
    {
      "cell_type": "code",
      "source": [
        "%%R\n",
        "library(topicmodels)\n",
        "dtm <- top_doc %>% cast_dtm(name, word, n) # we start from the regular TDM\n",
        "k <- 3 # how many topics are we expecting to detect (this could be tuned much like for k-means)\n",
        "model <- LDA(dtm, k) \n",
        "topics <- tidy(model, matrix = \"beta\")\n",
        "head(topics)"
      ],
      "metadata": {
        "colab": {
          "base_uri": "https://localhost:8080/"
        },
        "id": "2Tn8_NMNCAEa",
        "outputId": "8328f18e-7175-4008-afff-374b84eff08e"
      },
      "execution_count": 49,
      "outputs": [
        {
          "output_type": "stream",
          "name": "stdout",
          "text": [
            "# A tibble: 6 × 3\n",
            "  topic term       beta\n",
            "  <int> <chr>     <dbl>\n",
            "1     1 as    4.71e-  2\n",
            "2     2 as    5.69e-172\n",
            "3     3 as    1.20e-  2\n",
            "4     1 mode  2.35e-  2\n",
            "5     2 mode  7.01e-181\n",
            "6     3 mode  1.84e-182\n"
          ]
        }
      ]
    },
    {
      "cell_type": "code",
      "source": [
        "%%R\n",
        "model"
      ],
      "metadata": {
        "colab": {
          "base_uri": "https://localhost:8080/"
        },
        "id": "UzRC1XOqEO-x",
        "outputId": "532854a2-479b-4887-bfbe-36412cd7e064"
      },
      "execution_count": 50,
      "outputs": [
        {
          "output_type": "stream",
          "name": "stdout",
          "text": [
            "A LDA_VEM topic model with 3 topics.\n"
          ]
        }
      ]
    },
    {
      "cell_type": "code",
      "source": [
        "# Calculate the number of tokens for each topic\n",
        "%%R\n",
        "tokens <- topics %>% count(topic , term , sort = TRUE) %>% ungroup()\n",
        "head(tokens)"
      ],
      "metadata": {
        "colab": {
          "base_uri": "https://localhost:8080/"
        },
        "id": "MRI5R8fDWPkn",
        "outputId": "58485a4a-71f2-488d-cc90-5d131d7cea7e"
      },
      "execution_count": 51,
      "outputs": [
        {
          "output_type": "stream",
          "name": "stdout",
          "text": [
            "# A tibble: 6 × 3\n",
            "  topic term       n\n",
            "  <int> <chr>  <int>\n",
            "1     1 6.66       1\n",
            "2     1 a          1\n",
            "3     1 afloat     1\n",
            "4     1 air        1\n",
            "5     1 all        1\n",
            "6     1 among      1\n"
          ]
        }
      ]
    },
    {
      "cell_type": "code",
      "source": [
        "%%R\n",
        "total_tokens <- tokens %>% group_by(topic) %>% summarize(total = sum(n))\n",
        "total_tokens"
      ],
      "metadata": {
        "colab": {
          "base_uri": "https://localhost:8080/"
        },
        "id": "IGu5SuAeWPXQ",
        "outputId": "7c3104c3-e045-4a64-8794-d4c1199e8121"
      },
      "execution_count": 52,
      "outputs": [
        {
          "output_type": "stream",
          "name": "stdout",
          "text": [
            "# A tibble: 3 × 2\n",
            "  topic total\n",
            "  <int> <int>\n",
            "1     1   163\n",
            "2     2   163\n",
            "3     3   163\n"
          ]
        }
      ]
    },
    {
      "cell_type": "code",
      "source": [
        "%%R\n",
        "chapter_topics <- tidy(model, matrix = \"beta\")\n",
        "chapter_topics"
      ],
      "metadata": {
        "colab": {
          "base_uri": "https://localhost:8080/"
        },
        "id": "pY-1eDJxCvEB",
        "outputId": "b5b84f82-dddc-4cd2-99ca-f86dc1aea1e4"
      },
      "execution_count": 53,
      "outputs": [
        {
          "output_type": "stream",
          "name": "stdout",
          "text": [
            "# A tibble: 489 × 3\n",
            "   topic term             beta\n",
            "   <int> <chr>           <dbl>\n",
            " 1     1 as          4.71e-  2\n",
            " 2     2 as          5.69e-172\n",
            " 3     3 as          1.20e-  2\n",
            " 4     1 mode        2.35e-  2\n",
            " 5     2 mode        7.01e-181\n",
            " 6     3 mode        1.84e-182\n",
            " 7     1 multiplayer 2.35e-  2\n",
            " 8     2 multiplayer 2.23e-179\n",
            " 9     3 multiplayer 2.37e-182\n",
            "10     1 well        2.35e-  2\n",
            "# … with 479 more rows\n",
            "# ℹ Use `print(n = ...)` to see more rows\n"
          ]
        }
      ]
    },
    {
      "cell_type": "code",
      "source": [
        "%%R\n",
        "top_terms <- chapter_topics %>%\n",
        "  group_by(topic) %>%\n",
        "  slice_max(beta, n = 5) %>% \n",
        "  ungroup() %>%\n",
        "  arrange(topic, -beta)\n",
        "\n",
        "top_terms"
      ],
      "metadata": {
        "colab": {
          "base_uri": "https://localhost:8080/"
        },
        "id": "Dnj58XC3C63A",
        "outputId": "963f4555-4312-4df1-805d-8d63a51ba52c"
      },
      "execution_count": 54,
      "outputs": [
        {
          "output_type": "stream",
          "name": "stdout",
          "text": [
            "# A tibble: 54 × 3\n",
            "   topic term          beta\n",
            "   <int> <chr>        <dbl>\n",
            " 1     1 and         0.0588\n",
            " 2     1 as          0.0471\n",
            " 3     1 mode        0.0235\n",
            " 4     1 multiplayer 0.0235\n",
            " 5     1 well        0.0235\n",
            " 6     1 the         0.0235\n",
            " 7     1 all         0.0235\n",
            " 8     1 a           0.0235\n",
            " 9     2 the         0.2   \n",
            "10     2 of          0.0727\n",
            "# … with 44 more rows\n",
            "# ℹ Use `print(n = ...)` to see more rows\n"
          ]
        }
      ]
    },
    {
      "cell_type": "code",
      "source": [
        "%%R\n",
        "library(ggplot2)\n",
        "\n",
        "top_terms %>%\n",
        "  mutate(term = reorder_within(term, beta, topic)) %>%\n",
        "  ggplot(aes(beta, term, fill = factor(topic))) +\n",
        "  geom_col(show.legend = FALSE) +\n",
        "  facet_wrap(~ topic, scales = \"free\") +\n",
        "  scale_y_reordered()"
      ],
      "metadata": {
        "colab": {
          "base_uri": "https://localhost:8080/",
          "height": 497
        },
        "id": "0Mjy99KIDgdd",
        "outputId": "ab3264c4-8af0-413a-8a79-900d4eb1c0de"
      },
      "execution_count": 55,
      "outputs": [
        {
          "output_type": "display_data",
          "data": {
            "image/png": "[encoded data removed]"
          },
          "metadata": {}
        }
      ]
    },
    {
      "cell_type": "code",
      "source": [
        "%%R\n",
        "chapters_gamma <- tidy(model, matrix = \"gamma\")\n",
        "chapters_gamma"
      ],
      "metadata": {
        "colab": {
          "base_uri": "https://localhost:8080/"
        },
        "id": "Oe9dfXEwDpv1",
        "outputId": "db89a00e-ec78-41ea-9e0b-94324f0def6f"
      },
      "execution_count": 56,
      "outputs": [
        {
          "output_type": "stream",
          "name": "stdout",
          "text": [
            "# A tibble: 15 × 3\n",
            "   document                topic    gamma\n",
            "   <chr>                   <int>    <dbl>\n",
            " 1 DOOM                        1 0.999   \n",
            " 2 DayZ                        1 0.000341\n",
            " 3 BATTLETECH                  1 0.000603\n",
            " 4 Command: Shifting Sands     1 0.000329\n",
            " 5 EVE Online                  1 0.999   \n",
            " 6 DOOM                        2 0.000402\n",
            " 7 DayZ                        2 0.000341\n",
            " 8 BATTLETECH                  2 0.000603\n",
            " 9 Command: Shifting Sands     2 0.999   \n",
            "10 EVE Online                  2 0.000452\n",
            "11 DOOM                        3 0.000402\n",
            "12 DayZ                        3 0.999   \n",
            "13 BATTLETECH                  3 0.999   \n",
            "14 Command: Shifting Sands     3 0.000329\n",
            "15 EVE Online                  3 0.000452\n"
          ]
        }
      ]
    },
    {
      "cell_type": "code",
      "source": [],
      "metadata": {
        "id": "LuHyhwjDE1I6"
      },
      "execution_count": 56,
      "outputs": []
    },
    {
      "cell_type": "code",
      "source": [],
      "metadata": {
        "id": "9eLONfurFENZ"
      },
      "execution_count": 56,
      "outputs": []
    }
  ]
}