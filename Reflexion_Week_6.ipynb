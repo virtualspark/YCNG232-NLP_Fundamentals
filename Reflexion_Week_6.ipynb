{
  "nbformat": 4,
  "nbformat_minor": 0,
  "metadata": {
    "colab": {
      "provenance": [],
      "authorship_tag": "ABX9TyO7Q/Q9khIN/4zhWhshsgOw",
      "include_colab_link": true
    },
    "kernelspec": {
      "name": "python3",
      "display_name": "Python 3"
    },
    "language_info": {
      "name": "python"
    }
  },
  "cells": [
    {
      "cell_type": "markdown",
      "metadata": {
        "id": "view-in-github",
        "colab_type": "text"
      },
      "source": [
        "<a href=\"https://colab.research.google.com/github/virtualspark/YCNG232-NLP_Fundamentals/blob/main/Reflexion_Week_6.ipynb\" target=\"_parent\"><img src=\"https://colab.research.google.com/assets/colab-badge.svg\" alt=\"Open In Colab\"/></a>"
      ]
    },
    {
      "cell_type": "code",
      "source": [
        "import nltk\n",
        "from nltk.corpus import words\n",
        "from nltk.metrics.distance import (\n",
        "    edit_distance,\n",
        "    jaccard_distance,\n",
        "    )\n",
        "from nltk.util import ngrams\n",
        "nltk.download('words')\n",
        "nltk.download('punkt')\n",
        "import pandas\n",
        "from nltk import sent_tokenize, word_tokenize"
      ],
      "metadata": {
        "colab": {
          "base_uri": "https://localhost:8080/"
        },
        "id": "_zDqSRytVkaC",
        "outputId": "ba13611b-e4ac-4aa6-80b6-91a73a6bc043"
      },
      "execution_count": 1,
      "outputs": [
        {
          "output_type": "stream",
          "name": "stderr",
          "text": [
            "[nltk_data] Downloading package words to /root/nltk_data...\n",
            "[nltk_data]   Package words is already up-to-date!\n",
            "[nltk_data] Downloading package punkt to /root/nltk_data...\n",
            "[nltk_data]   Package punkt is already up-to-date!\n"
          ]
        }
      ]
    },
    {
      "cell_type": "code",
      "source": [],
      "metadata": {
        "id": "mQWpeNAQgrQH"
      },
      "execution_count": 1,
      "outputs": []
    },
    {
      "cell_type": "code",
      "source": [
        "# Question 1"
      ],
      "metadata": {
        "id": "o-yG0hrxuPBk"
      },
      "execution_count": 2,
      "outputs": []
    },
    {
      "cell_type": "code",
      "source": [
        "correct_spellings = words.words()\n",
        "spellings_series = pandas.Series(correct_spellings)\n",
        "spellings_series"
      ],
      "metadata": {
        "colab": {
          "base_uri": "https://localhost:8080/"
        },
        "id": "4Q2H9y7TVqsG",
        "outputId": "fffd3333-bf42-45c1-b374-c01bb4b04e16"
      },
      "execution_count": 3,
      "outputs": [
        {
          "output_type": "execute_result",
          "data": {
            "text/plain": [
              "0                 A\n",
              "1                 a\n",
              "2                aa\n",
              "3               aal\n",
              "4             aalii\n",
              "            ...    \n",
              "236731       yellow\n",
              "236732          yes\n",
              "236733    yesterday\n",
              "236734          you\n",
              "236735        young\n",
              "Length: 236736, dtype: object"
            ]
          },
          "metadata": {},
          "execution_count": 3
        }
      ]
    },
    {
      "cell_type": "code",
      "source": [
        "sentence = \"his frined is also a greate companieon\""
      ],
      "metadata": {
        "id": "iYEIdD1pW99k"
      },
      "execution_count": 4,
      "outputs": []
    },
    {
      "cell_type": "code",
      "source": [
        "sent_tokenize = nltk.word_tokenize(sentence)"
      ],
      "metadata": {
        "id": "x6ohTJtyW9zl"
      },
      "execution_count": 5,
      "outputs": []
    },
    {
      "cell_type": "code",
      "source": [
        "def jaccard_distance_method(sentence, ngram_number):\n",
        "  all_outcome = []\n",
        "  for word in sentence:\n",
        "    temp = [(jaccard_distance(set(ngrams(word, ngram_number)), set(ngrams(w, ngram_number))), w) for w in correct_spellings if w[0]==word[0]]\n",
        "    outcome = sorted(temp, key = lambda val:val[0])[0][1]\n",
        "    all_outcome.append(outcome)\n",
        "  return all_outcome"
      ],
      "metadata": {
        "id": "QJZXxkoHhg0Q"
      },
      "execution_count": 6,
      "outputs": []
    },
    {
      "cell_type": "code",
      "source": [
        "jaccard_distance_method(sent_tokenize, 1)"
      ],
      "metadata": {
        "colab": {
          "base_uri": "https://localhost:8080/"
        },
        "id": "PDZIo_rNhgxp",
        "outputId": "37c308a8-cbe6-4f5d-d9e7-5ef8b9aa6d84"
      },
      "execution_count": 7,
      "outputs": [
        {
          "output_type": "execute_result",
          "data": {
            "text/plain": [
              "['his', 'finder', 'is', 'also', 'a', 'garetta', 'camptonite']"
            ]
          },
          "metadata": {},
          "execution_count": 7
        }
      ]
    },
    {
      "cell_type": "code",
      "source": [],
      "metadata": {
        "id": "_Vxi9B4skxgs"
      },
      "execution_count": 7,
      "outputs": []
    },
    {
      "cell_type": "code",
      "source": [
        "def edit_distance_method(sentence):\n",
        "  all_outcome = []\n",
        "  for word in sent_tokenize:\n",
        "      temp = [(edit_distance(word, w),w) for w in correct_spellings if w[0]==word[0]]\n",
        "      outcome = sorted(temp, key = lambda val:val[0])[0][1]\n",
        "      all_outcome.append(outcome)\n",
        "  return all_outcome"
      ],
      "metadata": {
        "id": "xavhdp5vZ3xk"
      },
      "execution_count": 8,
      "outputs": []
    },
    {
      "cell_type": "code",
      "source": [
        "edit_distance_method(sent_tokenize)"
      ],
      "metadata": {
        "colab": {
          "base_uri": "https://localhost:8080/"
        },
        "id": "zZUsQglUiOPJ",
        "outputId": "5dc8fb83-0107-4657-d1fa-326c8cf73407"
      },
      "execution_count": 9,
      "outputs": [
        {
          "output_type": "execute_result",
          "data": {
            "text/plain": [
              "['his', 'fried', 'is', 'also', 'a', 'grate', 'companion']"
            ]
          },
          "metadata": {},
          "execution_count": 9
        }
      ]
    },
    {
      "cell_type": "code",
      "source": [],
      "metadata": {
        "id": "EXlbcW2wk89j"
      },
      "execution_count": 9,
      "outputs": []
    },
    {
      "cell_type": "code",
      "source": [
        "# pip install textblob"
      ],
      "metadata": {
        "id": "8vEISvURaR_O"
      },
      "execution_count": 10,
      "outputs": []
    },
    {
      "cell_type": "code",
      "source": [
        "from textblob import Word\n",
        "from textblob import TextBlob"
      ],
      "metadata": {
        "id": "CbEURf2FaR0i"
      },
      "execution_count": 11,
      "outputs": []
    },
    {
      "cell_type": "code",
      "source": [
        "def auto_corrector(input_sentence):\n",
        "  sentence = TextBlob(input_sentence)\n",
        "  result = sentence.correct()\n",
        "  return print(result)"
      ],
      "metadata": {
        "id": "zTZkTjAGbs5y"
      },
      "execution_count": 12,
      "outputs": []
    },
    {
      "cell_type": "code",
      "source": [
        "auto_corrector(sentence)"
      ],
      "metadata": {
        "colab": {
          "base_uri": "https://localhost:8080/"
        },
        "id": "lXQzsRRWbswi",
        "outputId": "86386fac-55b5-4406-cb79-6f13657b1b7a"
      },
      "execution_count": 13,
      "outputs": [
        {
          "output_type": "stream",
          "name": "stdout",
          "text": [
            "his friend is also a great companion\n"
          ]
        }
      ]
    },
    {
      "cell_type": "code",
      "source": [],
      "metadata": {
        "id": "Xmhb2CNjaqia"
      },
      "execution_count": 13,
      "outputs": []
    },
    {
      "cell_type": "code",
      "source": [
        "# Question 2"
      ],
      "metadata": {
        "id": "pSKzT7mjcCFk"
      },
      "execution_count": 14,
      "outputs": []
    },
    {
      "cell_type": "code",
      "source": [
        "import nltk\n",
        "import numpy as np\n",
        "import random\n",
        "import string\n",
        "\n",
        "import bs4 as bs\n",
        "import urllib.request\n",
        "import re"
      ],
      "metadata": {
        "id": "nY7NByIqA5kB"
      },
      "execution_count": 15,
      "outputs": []
    },
    {
      "cell_type": "code",
      "source": [
        "from nltk.tokenize import RegexpTokenizer\n",
        "tokenizer = RegexpTokenizer(r'\\w+') # remove punctuation"
      ],
      "metadata": {
        "id": "CLp4uPP2Yh-a"
      },
      "execution_count": 16,
      "outputs": []
    },
    {
      "cell_type": "code",
      "source": [
        "raw_html = urllib.request.urlopen('https://en.wikipedia.org/wiki/Tennis')"
      ],
      "metadata": {
        "id": "Hg6xXxV-A7el"
      },
      "execution_count": 17,
      "outputs": []
    },
    {
      "cell_type": "code",
      "source": [
        "raw_html = raw_html.read()"
      ],
      "metadata": {
        "id": "IPAufuAIA-3u"
      },
      "execution_count": 18,
      "outputs": []
    },
    {
      "cell_type": "code",
      "source": [
        "article_html = bs.BeautifulSoup(raw_html, 'lxml')\n",
        "article_paragraphs = article_html.find_all('p')\n",
        "article_text = ''"
      ],
      "metadata": {
        "id": "5iMBifzWBAfV"
      },
      "execution_count": 19,
      "outputs": []
    },
    {
      "cell_type": "code",
      "source": [
        "for para in article_paragraphs:\n",
        "    article_text += para.text"
      ],
      "metadata": {
        "id": "dlTJiNpTBBa2"
      },
      "execution_count": 20,
      "outputs": []
    },
    {
      "cell_type": "code",
      "source": [
        "article_text = article_text.lower()\n",
        "article_text = re.sub(r'[^A-Za-z. ]', '', article_text)"
      ],
      "metadata": {
        "id": "nBls3IAZBGDt"
      },
      "execution_count": 21,
      "outputs": []
    },
    {
      "cell_type": "code",
      "source": [],
      "metadata": {
        "id": "VsHSIsLxBH_i"
      },
      "execution_count": 21,
      "outputs": []
    },
    {
      "cell_type": "code",
      "source": [
        "article_text"
      ],
      "metadata": {
        "colab": {
          "base_uri": "https://localhost:8080/",
          "height": 87
        },
        "id": "HLcsibCYBKp7",
        "outputId": "6e7e6c9e-6d5d-4d3b-e7b0-da62aca2b746"
      },
      "execution_count": 22,
      "outputs": [
        {
          "output_type": "execute_result",
          "data": {
            "text/plain": [
              "'tennis is a racket sport that is played either individually against a single opponent singles or between two teams of two players each doubles. each player uses a tennis racket that is strung with cord to strike a hollow rubber ball covered with felt over or around a net and into the opponents court. the object of the game is to manoeuvre the ball in such a way that the opponent is not able to play a valid return. the player who is unable to return the ball validly will not gain a point while the opposite player will.tennis is an olympic sport and is played at all levels of society and at all ages. the sport can be played by anyone who can hold a racket including wheelchair users. the modern game of tennis originated in birmingham england in the late th century as lawn tennis. it had close connections both to various field lawn games such as croquet and bowls as well as to the older racket sport today called real tennis.the rules of modern tennis have changed little since the s. two exceptions are that until  the server had to keep one foot on the ground at all times and the adoption of the tiebreak in the s. a recent addition to professional tennis has been the adoption of electronic review technology coupled with a pointchallenge system which allows a player to contest the line call of a point a system known as hawkeye.tennis is played by millions of recreational players and is a popular worldwide spectator sport. the four grand slam tournaments also referred to as the majors are especially popular the australian open played on hardcourts the french open played on red clay courts wimbledon played on grass courts and the us open also played on hardcourts.historians believe that the games ancient origin lay in thcentury northern france where a ball was struck with the palm of the hand. louis x of france was a keen player of jeu de paume game of the palm which evolved into real tennis and became notable as the first person to construct indoor tennis courts in the modern style. louis was unhappy with playing tennis outdoors and accordingly had indoor enclosed courts made in paris around the end of the thcentury. in due course this design spread across royal palaces all over europe. in june at vincennes valdemarne and following a particularly exhausting game louis drank a large quantity of cooled wine and subsequently died of either pneumonia or pleurisy although there was also suspicion of poisoning. because of the contemporary accounts of his death louisx is historys first tennis player known by name. another of the early enthusiasts of the game was king charles v of france who had a court set up at the louvre palace.it was not until the thcentury that rackets came into use and the game began to be called tennis from the french term tenez which can be translated as hold receive or take an interjection used as a call from the server to his opponent. it was popular in england and france although the game was only played indoors where the ball could be hit off the wall. henry viii of england was a big fan of this game which is now known as real tennis.an epitaph in st michaels church coventry written c. read in parthere lyes an old tossd tennis ballwas racketted from spring to fallwith so much heat and so much hasttimes arm for shame grew tyred at last.during the th and early th centuries as real tennis declined new racket sports emerged in england.the invention of the first lawn mower in britain in  is believed to have been a catalyst for the preparation of modernstyle grass courts sporting ovals playing fields pitches greens etc. this in turn led to the codification of modern rules for many sports including lawn tennis most football codes lawn bowls and others.between  and  harry gem a solicitor and his friend augurio perera developed a game that combined elements of racquets and the basque ball game pelota which they played on pereras croquet lawn in birmingham england. in  along with two local doctors they founded the worlds first tennis club on avenue road leamington spa. this is where lawn tennis was used as the name of an activity by a club for the first time.in tennis a cultural history heiner gillmeister reveals that on december  british army officer walter clopton wingfield wrote to harry gem commenting that he wingfield had been experimenting with his version of lawn tennis for a year and a half. in december wingfield designed and patented a game which he called sphairistik greek  meaning ballplaying and which was soon known simply as sticky  for the amusement of guests at a garden party on his friends estate of nantclwyd hall in llanelidan wales. according to r. d. c. evans turfgrass agronomist sports historians all agree that wingfield deserves much of the credit for the development of modern tennis. according to honor godfrey museum curator at wimbledon wingfield popularized this game enormously. he produced a boxed set which included a net poles rackets balls for playing the game  and most importantly you had his rules. he was absolutely terrific at marketing and he sent his game all over the world. he had very good connections with the clergy the law profession and the aristocracy and he sent thousands of sets out in the first year or so in . the worlds oldest annual tennis tournament took place at leamington lawn tennis club in birmingham in . this was three years before the all england lawn tennis and croquet club would hold its first championships at wimbledon in . the first championships culminated in a significant debate on how to standardise the rules.in the united states in  mary ewing outerbridge a young socialite returned from bermuda with a sphairistik set. she became fascinated by the game of tennis after watching british army officers play. she laid out a tennis court at the staten island cricket club at camp washington tompkinsville staten island new york. the first american national championship was played there in september . an englishman named o.e. woodhouse won the singles title and a silver cup worth  by defeating canadian i. f. hellmuth. there was also a doubles match which was won by a local pair. there were different rules at each club. the ball in boston was larger than the one normally used in new york.on  may  the oldest nationwide tennis organization in the world was formed the united states national lawn tennis association now the united states tennis association in order to standardize the rules and organize competitions. the us national mens singles championship now the us open was first held in  at the newport casino newport rhode island. the us national womens singles championships were first held in  in philadelphia.tennis also became popular in france where the french championships date to  although until  they were open only to tennis players who were members of french clubs. thus wimbledon the us open the french open and the australian open dating to  became and have remained the most prestigious events in tennis. together these four events are called the majors or slams a term borrowed from bridge rather than baseball.in  the international lawn tennis federation iltf now the international tennis federation itf was founded and established three official tournaments as the major championships of the day. the world grass court championships were awarded to great britain. the world hard court championships were awarded to france the term hard court was used for clay courts at the time. some tournaments were held in belgium instead. and the world covered court championships for indoor courts were awarded annually sweden france great britain denmark switzerland and spain each hosted the tournament. at a meeting held on march  in paris the title world championship was dropped and a new category of official championship was created for events in great britain france the us and australia   todays grand slam events. the impact on the four recipient nations to replace the world championships with official championships was simple in a general sense each became a major nation of the federation with enhanced voting power and each now operated a major event.the comprehensive rules promulgated in  by the iltf have remained largely stable in the ensuing  years the one major change being the addition of the tiebreak system designed by jimmy van alen. that same year tennis withdrew from the olympics after the  games but returned  years later as a andunder demonstration event in . this reinstatement was credited by the efforts of then itf president philippe chatrier itf general secretary david gray and itf vice president pablo llorens with support from international olympic committee president juan antonio samaranch. the success of the event was overwhelming and the ioc decided to reintroduce tennis as a fullmedal sport at seoul in .the davis cup an annual competition between mens national teams dates to . the analogous competition for womens national teams the fed cup was founded as the federation cup in  to celebrate the th anniversary of the founding of the itf.in  promoter c. c. pyle established the first professional tennis tour with a group of american and french tennis players playing exhibition matches to paying audiences. the most notable of these early professionals were the american vinnie richards and the frenchwoman suzanne lenglen. once a player turned pro he or she was no longer permitted to compete in the major amateur tournaments.in  commercial pressures and rumours of some amateurs taking money under the table led to the abandonment of this distinction inaugurating the open era in which all players could compete in all tournaments and top players were able to make their living from tennis. with the beginning of the open era the establishment of an international professional tennis circuit and revenues from the sale of television rights tenniss popularity has spread worldwide and the sport has shed its middleclass englishspeaking image although it is acknowledged that this stereotype still exists.in  van alen founded the international tennis hall of fame a nonprofit museum in newport rhode island. the building contains a large collection of tennis memorabilia as well as a hall of fame honouring prominent members and tennis players from all over the world.part of the appeal of tennis stems from the simplicity of equipment required for play. beginners need only a racket and balls.the components of a tennis racket include a handle known as the grip connected to a neck which joins a roughly elliptical frame that holds a matrix of tightly pulled strings. for the first  years of the modern game rackets were made of wood and of standard size and strings were of animal gut. laminated wood construction yielded more strength in rackets used through most of the th century until first metal and then composites of carbon graphite ceramics and lighter metals such as titanium were introduced. these stronger materials enabled the production of oversized rackets that yielded yet more power. meanwhile technology led to the use of synthetic strings that match the feel of gut yet with added durability.under modern rules of tennis the rackets must adhere to the following guidelinesthe rules regarding rackets have changed over time as material and engineering advances have been made. for example the maximum length of the frame had been  inches cm until  when it was shortened to  inches cm.many companies manufacture and distribute tennis rackets. wilson head and babolat are three of the most commonly used brands however many more companies exist. the same companies sponsor players to use these rackets in the hopes that the company name will become better known by the public.there are multiple types of tennis strings such as natural gut synthetic stings made from materials such as nylon kevlar or polyesterthe first type of tennis strings available were natural gut strings introduced by babolat until synthetic strings were introduced in the s. natural gut strings are still used frequently by players such as roger federer. they are made from cow intestines and provide increased power and are easier on the arm than most strings.most synthetic strings are made from nylon such as synthetic gut and multifilament strings. synthetic gut cheap to buy and is used widely by many recreational level players for its all round performance while multifilament strings are created to mimic natural gut more closely by weaving together fibres but is generally more expensive than their synthetic gut counterparts. polyester strings allow for more spin on the ball than any other string due to their firm strings while keeping control of the ball and this is why many players use them especially higher player ones. kevlar tennis strings are highly durable and are mostly used by players that frequently break strings because they maintain tension well but these strings can be stiff on the arm.hybrid stringing is when a tennis racket is strung with two different strings for the mains the vertical strings and the crosses the horizontal strings. this is most commonly done with two different strings that are made of different materials but can also be done with two different types of the same string. a notable example of a player using hybrid strings is roger federer using natural gut strings in his mains and polyester strings in his crosses.tennis balls were originally made of cloth strips stitched together with thread and stuffed with feathers. modern tennis balls are made of hollow vulcanized rubber with a felt coating. traditionally white the predominant colour was gradually changed to optic yellow in the latter part of the th century to allow for improved visibility. tennis balls must conform to certain criteria for size weight deformation and bounce to be approved for regulation play. the international tennis federation itf defines the official diameter as ..mm ..in. balls must weigh between . and .g . and .oz. tennis balls were traditionally manufactured in the united states and europe. although the process of producing the balls has remained virtually unchanged for the past  years the majority of manufacturing now takes place in the far east. the relocation is due to cheaper labour costs and materials in the region. tournaments that are played under the itf rules of tennis must use balls that are approved by the international tennis federation itf and be named on the official itf list of approved tennis balls.tennis is played on a rectangular flat surface. the court is  feet .m long and  feet .m wide for singles matches and ft m for doubles matches. additional clear space around the court is required in order for players to reach overrun balls. a net is stretched across the full width of the court parallel with the baselines dividing it into two equal ends. it is held up by either a cord or metal cable of diameter no greater than .mwparseroutput .fracwhitespacenowrap.mwparseroutput .frac .num.mwparseroutput .frac .denfontsizelineheightverticalalignsuper.mwparseroutput .frac .denverticalalignsub.mwparseroutput .sronlybordercliprectheightpxmarginpxoverflowhiddenpaddingpositionabsolutewidthpx.cm in. the net is feet inches .m high at the posts and  feet .m high in the centre. the net posts are  feet .m outside the doubles court on each side or for a singles net  feet .m outside the singles court on each side.the modern tennis court owes its design to major walter clopton wingfield. in  wingfield patented a court much the same as the current one for his stick tennis sphairistike. this template was modified in  to the court design that exists today with markings similar to wingfields version but with the hourglass shape of his court changed to a rectangle.tennis is unusual in that it is played on a variety of surfaces. grass clay and hard courts of concrete or asphalt topped with acrylic are the most common. occasionally carpet is used for indoor play with hardwood flooring having been historically used. artificial turf courts can also be found.the lines that delineate the width of the court are called the baseline farthest back and the service line middle of the court. the short mark in the centre of each baseline is referred to as either the hash mark or the centre mark. the outermost lines that make up the length are called the doubles sidelines they are the boundaries for doubles matches. the lines to the inside of the doubles sidelines are the singles sidelines and are the boundaries in singles play. the area between a doubles sideline and the nearest singles sideline is called the doubles alley playable in doubles play. the line that runs across the centre of a players side of the court is called the service line because the serve must be delivered into the area between the service line and the net on the receiving side. despite its name this is not where a player legally stands when making a serve.the line dividing the service line in two is called the centre line or centre service line. the boxes this centre line creates are called the service boxes depending on a players position they have to hit the ball into one of these when serving. a ball is out only if none of it has hit the area inside the lines or the line upon its first bounce. all lines are required to be between  and  inches  and mm in width with the exception of the baseline which can be up to  inches mm wide although in practice it is often the same width as the others.the players or teams start on opposite sides of the net. one player is designated the server and the opposing player is the receiver. the choice to be server or receiver in the first game and the choice of ends is decided by a coin toss before the warmup starts. service alternates game by game between the two players or teams. for each point the server starts behind the baseline between the centre mark and the sideline. the receiver may start anywhere on their side of the net. when the receiver is ready the server will serve although the receiver must play to the pace of the server.for a service to be legal the ball must travel over the net without touching it into the diagonally opposite service box. if the ball hits the net but lands in the service box this is a let or net service which is void and the server retakes that serve. the player can serve any number of let services in a point and they are always treated as voids and not as faults. a fault is a serve that falls long or wide of the service box or does not clear the net. there is also a foot fault when a players foot touches the baseline or an extension of the centre mark before the ball is hit. if the second service after a fault is also a fault the server double faults and the receiver wins the point. however if the serve is in it is considered a legal service.a legal service starts a rally in which the players alternate hitting the ball across the net. a legal return consists of a player hitting the ball so that it falls in the servers court before it has bounced twice or hit any fixtures except the net. a player or team cannot hit the ball twice in a row. the ball must travel over or round the net into the other players court. a ball that hits the net during a rally is considered a legal return as long as it crosses into the opposite side of the court. the first player or team to fail to make a legal return loses the point. the server then moves to the other side of the service line at the start of a new point.a game consists of a sequence of points played with the same player serving. a game is won by the first player to have won at least four points in total and at least two points more than the opponent. the running score of each game is described in a manner peculiar to tennis scores from zero to three points are described as love   and  respectively. if at least three points have been scored by each player making the players scores equal at  apiece the score is not called out as  but rather as deuce. if at least three points have been scored by each side and a player has one more point than his opponent the score of the game is advantage for the player in the lead. during informal games advantage can also be called ad in or van in when the serving player is ahead and ad out or van out when the receiving player is ahead alternatively either player may simply call out my ad or your ad during informal play.the score of a tennis game during play is always read with the serving players score first. in tournament play the chair umpire calls the point count e.g. love after each point. at the end of a game the chair umpire also announces the winner of the game and the overall score.a set consists of a sequence of games played with service alternating between games ending when the count of games won meets certain criteria. typically a player wins a set by winning at least six games and at least two games more than the opponent. if one player has won six games and the opponent five an additional game is played. if the leading player wins that game the player wins the set . if the trailing player wins the game tying the set  a tiebreak is played. a tiebreak played under a separate set of rules allows one player to win one more game and thus the set to give a final set score of . a tiebreak game can be won by  scoring at least seven points and at least two points more than the opponent. in a tiebreak two players serve by abba system which has been proven to be fair.  if a tiebreak is not played the set is referred to as an advantage set where the set continues without limit until one player leadsby a twogame margin. a love set means that the loser of the set won zero games colloquially termed a jam donut in the us. in tournament play the chair umpire announces the winner of the set and the overall score. the final score in sets is always read with the winning players score first e.g.    .a match consists of a sequence of sets. the outcome is determined through a best of three or five sets system. on the professional circuit men play bestoffiveset matches at all four grand slam tournaments davis cup and the final of the olympic games and bestofthreeset matches at all other tournaments while women play bestofthreeset matches at all tournaments. the first player to win two sets in a bestofthree or three sets in a bestoffive wins the match. only in the final sets of matches at the french open the olympic games and fed cup are tiebreaks not played. in these cases sets are played indefinitely until one player has a twogame lead occasionally leading to some remarkably long matches.in tournament play the chair umpire announces the end of the match with the wellknown phrase game set match followed by the winning persons or teams name.a game point occurs in tennis whenever the player who is in the lead in the game needs only one more point to win the game. the terminology is extended to sets set point matches match point and even championships championship point. for example if the player who is serving has a score of love the player has a triple game point triple set point etc. as the player has three consecutive chances to win the game. game points set points and match points are not part of official scoring and are not announced by the chair umpire in tournament play.a break point occurs if the receiver not the server has a chance to win the game with the next point. break points are of particular importance because serving is generally considered advantageous with servers being expected to win games in which they are serving. a receiver who has one score of  or advantage two score of  or three score of love consecutive chances to win the game has break point double break point or triple break point respectively. if the receiver does in fact win their break point the game is awarded to the receiver and the receiver is said to have converted their break point. if the receiver fails to win their break point it is called a failure to convert. winning break points and thus the game is also referred to as breaking serve as the receiver has disrupted or broken the natural advantage of the server. if in the following game the previous server also wins a break point it is referred to as breaking back. except where tiebreaks apply at least one break of serve is required to win a set otherwise a twogame lead would never occur.another however informal tennis format is called canadian doubles. this involves three players with one person playing against a doubles team. the single player gets to utilize the alleys normally reserved only for a doubles team. conversely the doubles team does not use the alleys when executing a shot. the scoring is the same as for a regular game. this format is not sanctioned by any official body.australian doubles another informal and unsanctioned form of tennis is played with similar rules to the canadian doubles style only in this version players rotate court position after each game each player taking a turn at playing alone against the other two. as such each player plays doubles and singles over the course of a match with the singles player always serving. scoring styles vary but one popular method is to assign a value of  points to each game with the server taking both points if he or she holds serve and the doubles team each taking one if they break serve.wheelchair tennis can be played by ablebodied players as well as people who require a wheelchair for mobility. an extra bounce is permitted. this rule makes it possible to have mixed wheelchair and ablebodied matches. it is possible for a doubles team to consist of a wheelchair player and an ablebodied player referred to as oneup onedown or for a wheelchair player to play against an ablebodied player. in such cases the extra bounce is permitted for the wheelchair users only.a tennis match is intended to be continuous. because stamina is a relevant factor arbitrary delays are not permitted. in most cases service is required to occur no more than  seconds after the end of the previous point. this is increased to  seconds when the players change ends after every oddnumbered game and a minute break is permitted between sets. other than this breaks are permitted only when forced by events beyond the players control such as rain damaged footwear damaged racket or the need to retrieve an errant ball. should a player be deemed to be stalling repeatedly the chair umpire may initially give a warning followed by subsequent penalties of point game and default of the match for the player who is consistently taking longer than the allowed time limit.in the event of a rain delay darkness or other external conditions halting play the match is resumed at a later time with the same score as at the time of the delay and each player at the same end of the court as when rain halted play or as close to the same relative compass point if play is resumed on a different court.balls wear out quickly in serious play and therefore in atp and wta tournaments they are changed after every nine games with the first change occurring after only seven games because the first set of balls is also used for the prematch warmup. in itf tournaments like fed cup the balls are changed after every eleven games rather than nine with the first change occurring after only nine games instead of seven. an exception is that a ball change may not take place at the beginning of a tiebreaker in which case the ball change is delayed until the beginning of the second game of the next set. as a courtesy to the receiver the server will often signal to the receiver before the first serve of the game in which new balls are used as a reminder that they are using new balls. continuity of the balls condition is considered part of the game so if a rewarmup is required after an extended break in play usually due to rain then the rewarmup is done using a separate set of balls and use of the match balls is resumed only when play resumes.a recent rule change is to allow coaching on court on a limited basis during a match. this has been introduced in womens tennis for wta tour events in  and allows the player to request her coach once per set.stance refers to the way a player prepares themselves in order to best be able to return a shot. essentially it enables them to move quickly in order to achieve a particular stroke. there are four main stances in modern tennis open semiopen closed and neutral. all four stances involve the player crouching in some manner as well as being a more efficient striking posture it allows them to isometrically preload their muscles in order to play the stroke more dynamically. what stance is selected is strongly influenced by shot selection. a player may quickly alter their stance depending on the circumstances and the type of shot they intend to play. any given stance also alters dramatically based upon the actual playing of the shot with dynamic movements and shifts of body weight occurring.this is the most common stance in tennis. the players feet are placed parallel to the net. they may be pointing sideways directly at the net or diagonally towards it. this stance allows for a high degree of torso rotation which can add significant power to the stroke. this process is sometimes likened to the coiling and uncoiling of a spring. i.e. the torso is rotated as a means of preloading the muscular system in preparation for playing the stroke this is the coiling phase. when the stroke is played the torso rotates to face forwards again called uncoiling and adds significant power to the stroke. a disadvantage of this stance is that it does not always allow for proper weight transfer and maintenance of balance when making powerful strokes. it is commonly used for forehand strokes doublehanded backhands can also be made effectively from it.this stance is somewhere between open and closed and is a very flexible stance. the feet are aligned diagonally towards the net. it allows for a lot of shoulder rotation and the torso can be coiled before being uncoiled into the shot in order to increase the power of the shot. it is commonly used in modern tennis especially by top professional players on the forehand. twohanded backhands can also be employed from this stance.the closed stance is the least commonly used of the three main stances. one foot is placed further towards the net with the other foot further from it there is a diagonal alignment between the feet.  it allows for effective torso rotation in order to increase the power of the shot. it is usually used to play backhand shots and it is rare to see forehand shots played from it. a stroke from this stance may entail the rear foot coming completely off the floor with bodyweight being transferred entirely to the front foot.this is sometimes also referred to as the square stance. one foot is positioned closer to the net and ahead of the other which is  behind and in line with it. both feet are aligned at a  degree angle to the net. the neutral stance is often taught early because it allows beginners to learn about shifting weight and rotation of the body. forehands and backhands may be made from it.a competent tennis player has eight basic shots in his or her repertoire the serve forehand backhand volley halfvolley overhead smash drop shot and lob.a grip is a way of holding the racket in order to hit shots during a match. the grip affects the angle of the racket face when it hits the ball and influences the pace spin and placement of the shot. players use various grips during play including the continental the handshake grip eastern can be either semieastern or full eastern. usually used for backhands. and western semiwestern or full western usually for forehand grips grips. most players change grips during a match depending on what shot they are hitting for example slice shots and serves call for a continental grip.a serve or more formally a service in tennis is a shot to start a point. the serve is initiated by tossing the ball into the air and hitting it usually near the apex of its trajectory into the diagonally opposite service box without touching the net. the serve may be hit under or overhand although underhand serving remains a rarity. if the ball hits the net on the first serve and bounces over into the correct diagonal box then it is called a let and the server gets two more additional serves to get it in. there can also be a let if the server serves the ball and the receiver isnt prepared. if the server misses his or her first serve and gets a let on the second serve then they get one more try to get the serve in the box.experienced players strive to master the conventional overhand serve to maximize its power and placement. the server may employ different types of serve including flat serve topspin serve slice serve and kick american twist serve. a reverse type of spin serve is hit in a manner that spins the ball opposite the natural spin of the server the spin direction depending upon right or lefthandedness. if the ball is spinning counterclockwise it will curve right from the hitters point of view and curve left if spinning clockwise.some servers are content to use the serve simply to initiate the point however advanced players often try to hit a winning shot with their serve. a winning serve that is not touched by the opponent is called an ace.for a righthanded player the forehand is a stroke that begins on the right side of the body continues across the body as contact is made with the ball and ends on the left side of the body. there are various grips for executing the forehand and their popularity has fluctuated over the years. the most important ones are the continental the eastern the semiwestern and the western. for a number of years the small frail s player bill johnston was considered by many to have had the best forehand of all time a stroke that he hit shoulderhigh using a western grip. few top players used the western grip after the s but in the latter part of the th century as shotmaking techniques and equipment changed radically the western forehand made a strong comeback and is now used by many modern players. no matter which grip is used most forehands are generally executed with one hand holding the racket but there have been fine players with twohanded forehands. in the s and s the ecuadorianamerican player pancho segura used a twohanded forehand to achieve a devastating effect against larger more powerful players. players such as monica seles or frances fabrice santoro and marion bartoli are also notable players known for their twohanded forehands.for righthanded players the backhand is a stroke that begins on the left side of their body continues across their body as contact is made with the ball and ends on the right side of their body. it can be executed with either one hand or with both and is generally considered more difficult to master than the forehand. for most of the th century the backhand was performed with one hand using either an eastern or a continental grip. the first notable players to use two hands were the s australians vivian mcgrath and john bromwich but they were lone exceptions. the twohanded grip gained popularity in the s as bjrn borg chris evert jimmy connors and later mats wilander and marat safin used it to great effect and it is now used by a large number of the worlds best players including novak djokovic rafael nadal and serena williams.two hands give the player more control while one hand can generate a slice shot applying backspin on the ball to produce a low trajectory bounce. reach is also limited with the twohanded shot. the player long considered to have had the best backhand of all time don budge had a powerful onehanded stroke in the s and s that imparted topspin onto the ball. ken rosewall another player noted for his onehanded backhand used a very accurate slice backhand through the s and s. a small number of players notably monica seles use two hands on both the backhand and forehand sides.a volley is a shot returned to the opponent in midair before the ball bounces generally performed near the net and is usually made with a stiffwristed punching motion to hit the ball into an open area of the opponents court. the half volley is made by hitting the ball on the rise just after it has bounced also generally in the vicinity of the net and played with the racket close to the ground. the swinging volley is hit out of the air as the player approaches the net. it is an offensive shot used to take preparation time away from the opponent as it returns the ball into the opponents court much faster than a standard volley.from a poor defensive position on the baseline the lob can be used as either an offensive or defensive weapon hitting the ball high and deep into the opponents court to either enable the lobber to get into better defensive position or to win the point outright by hitting it over the opponents head. if the lob is not hit deeply enough into the other court however an opponent near the net may then hit an overhead smash a hard servelike shot to try to end the point.a difficult shot in tennis is the return of an attempted lob over the backhand side of a player. when the contact point is higher than the reach of a twohanded backhand most players will try to execute a high slice under the ball or sideways. fewer players attempt the backhand skyhook or smash. rarely a player will go for a high topspin backhand while themselves in the air. a successful execution of any of these alternatives requires balance and timing with less margin of error than the lower contact point backhands since this shot is a break in the regular pattern of play.if their opponent is deep in their court a player may suddenly employ an unexpected drop shot by softly tapping the ball just over the net so that the opponent is unable to run in fast enough to retrieve it. advanced players will often apply back spin to a drop shot causing the ball to skid upon landing and bounce sideways with less forward momentum toward their opponent or even backwards towards the net thus making it even more difficult to return.tournaments are often organized by gender and number of players. common tournament configurations include mens singles womens singles and doubles where two players play on each side of the net. tournaments may be organized for specific age groups with upper age limits for youth and lower age limits for senior players. example of this include the orange bowl and les petits as junior tournaments. there are also tournaments for players with disabilities such as wheelchair tennis and deaf tennis. in the four grand slam tournaments the singles draws are limited to  players for each gender.most large tournaments seed players but players may also be matched by their skill level. according to how well a person does in sanctioned play a player is given a rating that is adjusted periodically to maintain competitive matches. for example the united states tennis association administers the national tennis rating program ntrp which rates players between . and . in  point increments. average club players under this system would rate .. while world class players would be . on this scale.the four grand slam tournaments are considered to be the most prestigious tennis events in the world. they are held annually and comprise in chronological order the australian open the french open wimbledon and the us open. apart from the olympic games davis cup fed cup and hopman cup they are the only tournaments regulated by the international tennis federation itf. the itfs national associations tennis australia australian open the fdration franaise de tennis french open the lawn tennis association wimbledon and the united states tennis association us open are delegated the responsibility to organize these events.aside from the historical significance of these events they also carry larger prize funds than any other tour event and are worth double the number of ranking points to the champion than in the next echelon of tournaments the atp masters  men and premier events women. another distinguishing feature is the number of players in the singles draw. there are  more than any other professional tennis tournament. this draw is composed of  seeded players other players ranked in the worlds top  qualifiers and players who receive invitations through wild cards. grand slam mens tournaments have bestoffive set matches while the women play bestofthree. grand slam tournaments are among the small number of events that last two weeks the others being the indian wells masters and the miami masters.currently the grand slam tournaments are the only tour events that have mixed doubles contests. grand slam tournaments are held in conjunction with wheelchair tennis tournaments and junior tennis competitions. these tournaments also contain their own idiosyncrasies. for example players at wimbledon are required to wear predominantly white. andre agassi chose to skip wimbledon from  through  citing the events traditionalism particularly its predominantly white dress code. wimbledon has its own particular methods for disseminating tickets often leading tennis fans to follow complex procedures to obtain tickets.the atp masters  is a group of nine tournaments that form the secondhighest echelon in mens tennis. each event is held annually and a win at one of these events is worth  ranking points. when the atp led by hamilton jordan began running the mens tour in  the directors designated the top nine tournaments outside of the grand slam events as super  events. in  this became the tennis masters series and in  the atp masters series. in november at the end of the tennis year the worlds top eight players compete in the atp finals a tournament with a rotating locale. it is currently held in london.in august  the atp announced major changes to the tour that were introduced in . the masters series was renamed to the atp masters  the addition of the number  referring to the number of ranking points earned by the winner of each tournament. contrary to earlier plans the number of tournaments was not reduced from nine to eight and the montecarlo masters remains part of the series although unlike the other events it does not have a mandatory player commitment. the hamburg masters has been downgraded to a point event. the madrid masters moved to may and onto clay courts and a new tournament in shanghai took over madrids former indoor october slot. as of  six of the nine  level tournaments are combined atp and wta events.the third and fourth tier of mens tennis tournaments are formed by the atp  series consisting of  tournaments and the atp  series with  tournaments. like the atp masters  these events offer various amounts of prize money and the numbers refer to the number of ranking points earned by  the winner of a tournament. the dubai tennis championships offer the largest financial incentive to players with total prize money of us . these series have various draws of    and  for singles and  and  for doubles. it is mandatory for leading players to enter at least four  events including at least one after the us open.the challenger tour for men is the lowest level of tournament administered by the atp. it is composed of about  events and as a result features a more diverse range of countries hosting events. the majority of players use the challenger series at the beginning of their career to work their way up the rankings. andre agassi between winning grand slam tournaments plummeted to world no.  and used challenger series events for match experience and to progress back up the rankings. the challenger series offers prize funds of between us and us.below the challenger tour are the futures tournaments events on the itf mens circuit. these tournaments also contribute towards a players atp rankings points. futures tournaments offer prize funds of between us and us. approximately  futures tournaments are played each year.in  the wta rebranded resembling the mens tournament series and also providing extra simplicity for fans and consumers. the numbers do not indicate ranking points or prize money but is a system to help define different levels of womens tennis.the wta  tournaments formerly the premier mandatory and premier  tournaments are a series of seven tournaments that are part of the secondhighest tier in womens tennis.the third and fourth tier of womens tennis tournaments are formed from the wta  series formerly premier  with fifteen tournaments and the wta  series formerly international consisting of thirty tournaments.the wta  series formerly k series is the lowest tier of womens tennis with fourteen tournaments.professional tennis players enjoy the same relative perks as most top sports personalities clothing equipment and endorsements. like players of other individual sports such as golf they are not salaried but must play and finish highly in tournaments to obtain prize money.in recent years professional tennis players have been mocked by tabloids and fans for the involuntary or deliberate noise caused by players grunting. this controversy has spurred the grand slam committee the international tennis association and the womens tennis association to teach players techniques to avoid grunting.while players are gradually less competitive in singles by their late s and early s they can still continue competitively in doubles as instanced by martina navratilova and john mcenroe who won doubles titles in their s.in the open era several female players such as martina navratilova margaret court martina hingis serena williams and venus williams the latter two sisters playing together have been prolific at both singles and doubles events throughout their careers. john mcenroe is one of the very few professional male players to be top ranked in both singles and doubles at the same time and yevgeny kafelnikov is the most recent male player to win multiple grand slams in both singles and doubles during the same period of his career.in terms of public attention and earnings see below singles champions have far surpassed their doubles counterparts. the open era particularly the mens side has seen many topranked singles players that only sparingly compete in doubles while having doubles specialists who are typically being eliminated early in the singles draw but do well in the doubles portion of a tournament. notable doubles pairings include the woodies todd woodbridge and mark woodforde and the bryan brothers identical twin brothers robert charles bob bryan and michael carl mike bryan. woodbridge has disliked the term doubles specialists saying that he and woodforde set a singles schedule and doubles fitted in around that although later in woodbridges career he focused exclusively on doubles as his singles ranking fell too low that it was no longer financially viable to recover at that age. woodbridge noted that while top singles players earn enough that they dont need to nor want to play doubles he suggested that lowerranked singles players outside the top ten should play doubles to earn more playing time and money.the olympics doubles tennis tournament necessitates that both members of a doubles pairing be from the same country hence several top professional pairs such as jamie murray and bruno soares cannot compete in the olympics. topranked singles players that are usually rivals on the professional circuit such as boris becker and michael stich and roger federer and stan wawrinka have formed a rare doubles partnership for the olympics. unlike professional tennis tournaments see below where singles players receive much more prize money than doubles players an olympic medal for both singles and doubles has similar prestige. the olympics is more of a priority for doubles champions while singles champions often skip the tournament. while the atp has voted for olympic results to count towards player ranking points wta players voted against it.for the  olympics lisa raymond was passed over for team usa in favour of serena williams by captain billie jean king even though raymond was the topranked doubles player in the world at the time and raymond unsuccessfully challenged the selection.in professional tennis tournaments such as wimbledon the singles competition receives the most prize money and coverage followed by doubles and then mixed doubles usually receive the lowest monetary awards. for instance in the us open as of  the mens and womens singles prize money us accounts for . percent of total player base compensation while mens and womens doubles us mens and womens singles qualifying us and mixed doubles us account for . percent . percent and . percent respectively. the singles winner receives us while the doubles winning pair receives  and the mixed doubles winning pair receives us.the following players have won at least five singles titles at grand slam tournaments active players in boldken rosewallrod laverroger federerrafael nadalnovak djokovica frequent topic of discussion among tennis fans and commentators is who was the greatest male singles player of all time. by a large margin an associated press poll in  named bill tilden as the greatest player of the first half of the th century. from  to  tilden won singles titles at wimbledon three times and the us championships seven times. in  however donald budge became the first person to win all four major singles titles during the same calendar year the grand slam and won six consecutive major titles in  and . tilden called budge the finest player  days a year that ever lived. in his  autobiography jack kramer said that based on consistent play budge was the greatest player ever. some observers however also felt that kramer deserved consideration for the title. kramer was among the few who dominated amateur and professional tennis during the late s and early s. tony trabert has said that of the players he saw before the start of the open era kramer was the best male champion.by the s budge and others had added pancho gonzales and lew hoad to the list of contenders. budge reportedly believed that gonzales was the greatest player ever. gonzales said about hoad when lews game was at its peak nobody could touch him.... i think his game was the best game ever. better than mine. he was capable of making more shots than anybody. his two volleys were great. his overhead was enormous. he had the most natural tennis mind with the most natural tennis physique.before and during the open era rod laver remains the only male player in history to have won the calendar year grand slam twice in  and   and also the calendar year professional grand slam in .jimmy connors bjrn borg and john mcenroe had a fierce rivalry in the late s and early s that propelled the mens game to new heights of popularity.  connors had a long and prolific career and holds the open era mens singles records of  titles including eight grand slams  matches played and  match wins.  borg was regarded by his contemporaries as among the greatest ever having a calm court demeanor and unrivalled physical conditioning winning six french opens and five straight wimbledon titles retiring at age  when he was still in his prime.  mcenroe attained the no.  ranking in both singles and doubles finishing his career with  singles and  doubles titles this remains the highest mens combined total of the open era.the agassisampras rivalry showcased the two best players in the s. andre agassi the first of two male players in history to have achieved a career golden slam in singles tennis followed by rafael nadal has been called the best service returner in the history of the game. agassi was the first man to win grand slams on all modern surfaces hard grass and clay court as previous holders of all grand slam tournaments played in an era of grass and clay only and is regarded by a number of critics and fellow players to be among the greatest players of all time. both rod laver and ken rosewall also won major pro slam tournaments on all three surfaces grass clay hard court rosewall in  and laver in . pete sampras had a precise and powerful serve set the record of six consecutive yearend no. finishes and was the first player to break roy emersons record of twelve grand slams. sampras retired with a thenopen era record of fourteen grand slam titles which was by far the most among his contemporaries as the secondmost slams held at the time by another active player was agassi with seven. earlier in sampras career the most grand slams won up to that point by other active players was eight jointly held by jimmy connors and ivan lendl.by the early twentyfirst century the big three of roger federer rafael nadal and novak djokovic had dominated. as of  rafael nadal holds the record for the most grand slam titles with .helen willsmargaret courtmartina navratilovachris evertsteffi grafserena williamsas with the men there are frequent discussions about who is the greatest female singles player of all time with steffi graf martina navratilova and serena williams being the three players most often nominated.in march  the tennis channel published a combined list of the  greatest men and women tennis players of all time. it ranked steffi graf as the greatest female player in rd place overall followed by martina navratilova th place and margaret court th place. the rankings were determined by an international panel.sportswriter john wertheim of sports illustrated stated in an article in july  that serena williams is the greatest female tennis player ever with the argument that headtohead on a neutral surface i.e. hard courts everyone at their best i cant help feeling that she crushes the other legends.. in a reaction to this article yahoo sports blog busted racket published a list of the top womens tennis players of all time placing martina navratilova in first spot. this top list was similar to the one published in june  by the bleacher report who also ranked martina navratilova as the top female player of all time.steffi graf is considered by some to be the greatest female player. billie jean king said in  steffi is definitely the greatest womens tennis player of all time. martina navratilova has included graf on her list of great players. in december  graf was named the greatest female tennis player of the th century by a panel of experts assembled by the associated press. tennis writer steve flink in his book the greatest tennis matches of the twentieth century named her as the best female player of the th century directly followed by martina navratilova.tennis magazine selected martina navratilova as the greatest female tennis player for the years  through . tennis historian and journalist bud collins has called navratilova arguably the greatest player of all time. billie jean king said about navratilova in  shes the greatest singles doubles and mixed doubles player whos ever lived.in  a tennis.com panel selected serena williams as the greatest female tennis player in the open era. in may  the tennis channel ranked williams as the greatest female tennis player of all time.in november  tennis.com polled its readers to choose the greatest womens tennis player of all time and graf came in first. in july  the guardian polled its readers to determine the greatest female tennis player of the past  years and steffi was the clear favorite picking up nearly twice as many votes as any other player.in most professional play and some amateur competition there is an officiating head judge or chair umpire usually referred to simply as the umpire who sits in a raised chair to one side of the court. the umpire has absolute authority to make factual determinations. the umpire may be assisted by line judges who determine whether the ball has landed within the required part of the court and who also call foot faults. there also may be a net judge who determines whether the ball has touched the net during service. the umpire has the right to overrule a line judge or a net judge if the umpire is sure that a clear mistake has been made.in past tournaments line judges tasked with calling the serve were sometimes assisted by electronic sensors that beeped to indicate an outofbounds serve one such system was called cyclops. cyclops has since largely been replaced by the hawkeye system. in professional tournaments using this system players are allowed three unsuccessful appeals per set plus one additional appeal in the tiebreak to challenge close line calls by means of an electronic review. the us open miami masters us open series and world team tennis started using this challenge system in  and the australian open and wimbledon introduced the system in . in claycourt matches such as at the french open a call may be questioned by reference to the mark left by the balls impact on the court surface.the referee who is usually located off the court is the final authority about tennis rules. when called to the court by a player or team captain the referee may overrule the umpires decision if the tennis rules were violated question of law but may not change the umpires decision on a question of fact. if however the referee is on the court during play the referee may overrule the umpires decision. this would only happen in davis cup or fed cup matches not at the world group level when a chair umpire from a nonneutral country is in the chair.in tennis a junior is a player under  who is still legally protected by a parent or guardian. players on the main adult tour who are under  must have documents signed by a parent or guardian. these players however are still eligible to play in junior tournaments.the international tennis federation itf conducts a junior tour that allows juniors to establish a world ranking and an association of tennis professionals atp or womens tennis association wta ranking. most juniors who enter the international circuit do so by progressing through itf satellite future and challenger tournaments before entering the main circuit. the latter three circuits also have adults competing in them. some juniors however such as australian lleyton hewitt and frenchman gal monfils have catapulted directly from the junior tour to the atp tour by dominating the junior scene or by taking advantage of opportunities given to them to participate in professional tournaments.in  the itf implemented a new rankings scheme to encourage greater participation in doubles by combining two rankings singles and doubles into one combined tally. junior tournaments do not offer prize money except for the grand slam tournaments which are the most prestigious junior events. juniors may earn income from tennis by participating in the future satellite or challenger tours. tournaments are broken up into different tiers offering different amounts of ranking points culminating with grade a.leading juniors are allowed to participate for their nation in the junior fed cup and davis cup competitions. to succeed in tennis often means having to begin playing at a young age. to facilitate and nurture a juniors growth in tennis almost all tennis playing nations have developed a junior development system. juniors develop their play through a range of tournaments on all surfaces accommodating all different standards of play. talented juniors may also receive sponsorships from governing bodies or private institutions.muscle strain is one of the most common injuries in tennis. when an isolated largeenergy appears during the muscle contraction and at the same time body weight apply huge amount of pressure to the lengthened muscle muscle strain can occur. inflammation and bleeding are triggered when muscle strain occurs which can result in redness pain and swelling. overuse is also common in tennis players of all levels. muscle cartilage nerves bursae ligaments and tendons may be damaged from overuse. the repetitive use of a particular muscle without time for repair and recovery is the most common cause of injury.'"
            ],
            "application/vnd.google.colaboratory.intrinsic+json": {
              "type": "string"
            }
          },
          "metadata": {},
          "execution_count": 22
        }
      ]
    },
    {
      "cell_type": "code",
      "source": [],
      "metadata": {
        "id": "r12Ps9wbuPVu"
      },
      "execution_count": 22,
      "outputs": []
    },
    {
      "cell_type": "code",
      "source": [
        "# Auto Complete - Trigram - single word input"
      ],
      "metadata": {
        "id": "JIvkzN2ouPPN"
      },
      "execution_count": 23,
      "outputs": []
    },
    {
      "cell_type": "code",
      "source": [
        "tokens = tokenizer.tokenize(article_text.lower()) # all in lower case \n",
        "find = nltk.TrigramCollocationFinder.from_words(tokens) # of course there is a Trigram one in NTLK\n",
        "pmi = find.score_ngrams(nltk.TrigramAssocMeasures().pmi) # score with PMI"
      ],
      "metadata": {
        "id": "5nYjvDvxCgx8"
      },
      "execution_count": 24,
      "outputs": []
    },
    {
      "cell_type": "code",
      "source": [
        "word = 'tennis'\n",
        "for (pair, score) in pmi:\n",
        "  (first, second, third) = pair\n",
        "  if first == word:\n",
        "    print(second, third, score)"
      ],
      "metadata": {
        "colab": {
          "base_uri": "https://localhost:8080/"
        },
        "id": "UlLx61ttCizl",
        "outputId": "58021bc3-6942-4db8-b5b3-8340192fc3b4"
      },
      "execution_count": 25,
      "outputs": [
        {
          "output_type": "stream",
          "name": "stdout",
          "text": [
            "ballwas racketted 19.482764622578035\n",
            "writer steve 19.482764622578035\n",
            "rating program 18.482764622578035\n",
            "magazine selected 17.897802121856877\n",
            "com polled 17.482764622578035\n",
            "channel published 16.897802121856877\n",
            "com panel 16.897802121856877\n",
            "started using 16.482764622578035\n",
            "association administers 16.312839621135723\n",
            "rackets wilson 16.312839621135723\n",
            "channel ranked 16.160836527690673\n",
            "declined new 16.160836527690673\n",
            "physique before 16.160836527690673\n",
            "australia australian 15.675409700520431\n",
            "after watching 15.575874026969517\n",
            "federation iltf 15.482764622578035\n",
            "tournament necessitates 15.395301781327696\n",
            "federation itf 14.897802121856879\n",
            "playing nations 14.897802121856879\n",
            "strings available 14.897802121856879\n",
            "most football 14.43837050321958\n",
            "open semiopen 14.43837050321958\n",
            "professionals atp 14.395301781327696\n",
            "tournament took 14.395301781327696\n",
            "almost all 14.312839621135723\n",
            "an epitaph 14.312839621135723\n",
            "stems from 14.312839621135723\n",
            "withdrew from 14.312839621135723\n",
            "often means 14.160836527690673\n",
            "court owes 14.090447199799275\n",
            "sphairistike this 14.023333003940738\n",
            "competitions these 13.897802121856879\n",
            "championships offer 13.782324904436942\n",
            "racket include 13.675409700520431\n",
            "together these 13.482764622578035\n",
            "association now 13.312839621135723\n",
            "scores from 13.312839621135723\n",
            "mind with 13.23483710913445\n",
            "by participating 13.039821126729306\n",
            "association wta 12.990911526248361\n",
            "memorabilia as 12.912909014247088\n",
            "players enjoy 12.853408002498425\n",
            "association wimbledon 12.61239990299463\n",
            "must use 12.46039680954958\n",
            "with fourteen 12.23483710913445\n",
            "each event 12.031553510745706\n",
            "tournaments see 11.990911526248361\n",
            "is unusual 11.98291873549483\n",
            "balls must 11.83890843280331\n",
            "have changed 11.768519104911912\n",
            "masters series 11.694862063186603\n",
            "association us 11.668983431360997\n",
            "balls were 11.575874026969515\n",
            "organization in 11.540250117238795\n",
            "originated in 11.540250117238795\n",
            "also became 11.46595633489148\n",
            "especially by 11.45485862600815\n",
            "a cultural 11.322893285799646\n",
            "and deaf 11.317857695902347\n",
            "historian and 11.317857695902347\n",
            "outdoors and 11.317857695902347\n",
            "rules were 11.090447199799275\n",
            "rules when 11.031553510745706\n",
            "format is 10.98291873549483\n",
            "french open 10.978938884582284\n",
            "club on 10.84251968635569\n",
            "strings such 10.575874026969515\n",
            "followed by 10.45485862600815\n",
            "has been 10.14737426788411\n",
            "player ever 10.105554092189482\n",
            "player known 10.105554092189482\n",
            "according to 10.084020930639841\n",
            "tournament this 9.9358701626904\n",
            "and croquet 9.73289519518119\n",
            "whenever the 9.68024825745681\n",
            "game during 9.67540970052043\n",
            "fans to 9.668983431361\n",
            "for wta 9.668983431361\n",
            "when an 9.668983431361\n",
            "tour with 9.649874608413292\n",
            "hall of 9.64513668940663\n",
            "it had 9.58794685927009\n",
            "racket that 9.546126683575466\n",
            "can be 9.499771047883726\n",
            "fans and 9.317857695902347\n",
            "players playing 9.268445501777268\n",
            "tournaments such 9.253945932082154\n",
            "balls are 8.820986524806049\n",
            "was used 8.81742870539286\n",
            "circuit and 8.73289519518119\n",
            "club in 8.73289519518119\n",
            "the third 8.68024825745681\n",
            "is played 8.660990640607466\n",
            "strings are 8.557952118972253\n",
            "and became 8.510502773844742\n",
            "association to 8.499058429918687\n",
            "association in 8.370325115796483\n",
            "players who 8.268445501777268\n",
            "tournaments are 8.236024024084891\n",
            "racket is 8.175563813437225\n",
            "association and 8.147932694460035\n",
            "court at 8.113167276299357\n",
            "courts in 8.080818498601499\n",
            "balls tennis 7.980927437675739\n",
            "players have 7.946517406889907\n",
            "a junior 7.863461667162348\n",
            "match is 7.812993734052519\n",
            "players from 7.683483001056114\n",
            "player has 7.664981500803503\n",
            "matches of 7.142636348877446\n",
            "player of 6.9821716766841995\n",
            "events in 6.839810399097704\n",
            "is an 6.812993734052519\n",
            "the rackets 6.510323256014498\n",
            "year the 6.510323256014498\n",
            "player for 6.421055917917414\n",
            "the wta 6.3583201625694485\n",
            "players of 6.18570507076933\n",
            "the rules 5.872893335399208\n",
            "during the 5.68024825745681\n",
            "tournaments and 5.410967100293828\n",
            "player in 4.970394508907848\n",
            "for a 4.83104018946997\n",
            "is a 4.82304739871644\n",
            "as a 4.753037677468697\n",
            "from the 4.510323256014498\n",
            "with the 3.432320744013225\n",
            "the players 3.0508916373772017\n",
            "is the 2.1804023703736064\n",
            "in the 1.7377337521175704\n"
          ]
        }
      ]
    },
    {
      "cell_type": "code",
      "source": [
        "def autocomplete(word, scoring, k = 3):\n",
        "  top = []\n",
        "  bot = []\n",
        "  for (pair, score) in scoring:\n",
        "   (first, second, third) = pair\n",
        "   if first == word and second != word and third != word: # no word repetitions, those would just loop\n",
        "       if len(top) < k or score >= min(top, key = lambda o: o[1])[1]:\n",
        "         top.append((second, score))\n",
        "         top.append((third, score))\n",
        "       if len(bot) < k or score <= max(bot, key = lambda o: o[1])[1]:\n",
        "         bot.append((second, score))\n",
        "         bot.append((third, score))\n",
        "       if len(bot) > k:\n",
        "         # ditch the HIGHEST score from bot(tom)\n",
        "         bot.remove(max(bot, key = lambda o: o[1]))\n",
        "       if len(top) > k:\n",
        "         # ditch the LOWEST score from top\n",
        "         top.remove(min(top, key = lambda o: o[1]))\n",
        "  return (top, bot)"
      ],
      "metadata": {
        "id": "XCS7hzfcCjmk"
      },
      "execution_count": 26,
      "outputs": []
    },
    {
      "cell_type": "code",
      "source": [
        "print(autocomplete('tennis', pmi, k = 3))"
      ],
      "metadata": {
        "colab": {
          "base_uri": "https://localhost:8080/"
        },
        "id": "o77ySR3DDmI_",
        "outputId": "8d52e1a0-72d7-41bf-b3f4-9f3dd02a8bcc"
      },
      "execution_count": 27,
      "outputs": [
        {
          "output_type": "stream",
          "name": "stdout",
          "text": [
            "([('racketted', 19.482764622578035), ('writer', 19.482764622578035), ('steve', 19.482764622578035)], [('french', 10.978938884582284), ('open', 10.978938884582284), ('club', 10.84251968635569), ('on', 10.84251968635569), ('strings', 10.575874026969515), ('such', 10.575874026969515), ('followed', 10.45485862600815), ('by', 10.45485862600815), ('has', 10.14737426788411), ('been', 10.14737426788411), ('player', 10.105554092189482), ('ever', 10.105554092189482), ('player', 10.105554092189482), ('known', 10.105554092189482), ('according', 10.084020930639841), ('to', 10.084020930639841), ('tournament', 9.9358701626904), ('this', 9.9358701626904), ('and', 9.73289519518119), ('croquet', 9.73289519518119), ('whenever', 9.68024825745681), ('the', 9.68024825745681), ('game', 9.67540970052043), ('during', 9.67540970052043), ('fans', 9.668983431361), ('to', 9.668983431361), ('for', 9.668983431361), ('wta', 9.668983431361), ('when', 9.668983431361), ('an', 9.668983431361), ('tour', 9.649874608413292), ('with', 9.649874608413292), ('hall', 9.64513668940663), ('of', 9.64513668940663), ('it', 9.58794685927009), ('had', 9.58794685927009), ('racket', 9.546126683575466), ('that', 9.546126683575466), ('can', 9.499771047883726), ('be', 9.499771047883726), ('fans', 9.317857695902347), ('and', 9.317857695902347), ('players', 9.268445501777268), ('playing', 9.268445501777268), ('tournaments', 9.253945932082154), ('such', 9.253945932082154), ('balls', 8.820986524806049), ('are', 8.820986524806049), ('was', 8.81742870539286), ('used', 8.81742870539286), ('circuit', 8.73289519518119), ('and', 8.73289519518119), ('club', 8.73289519518119), ('in', 8.73289519518119), ('the', 8.68024825745681), ('third', 8.68024825745681), ('is', 8.660990640607466), ('played', 8.660990640607466), ('strings', 8.557952118972253), ('are', 8.557952118972253), ('and', 8.510502773844742), ('became', 8.510502773844742), ('association', 8.499058429918687), ('to', 8.499058429918687), ('association', 8.370325115796483), ('in', 8.370325115796483), ('players', 8.268445501777268), ('who', 8.268445501777268), ('tournaments', 8.236024024084891), ('are', 8.236024024084891), ('racket', 8.175563813437225), ('is', 8.175563813437225), ('association', 8.147932694460035), ('and', 8.147932694460035), ('court', 8.113167276299357), ('at', 8.113167276299357), ('courts', 8.080818498601499), ('in', 8.080818498601499), ('players', 7.946517406889907), ('have', 7.946517406889907), ('a', 7.863461667162348), ('junior', 7.863461667162348), ('match', 7.812993734052519), ('is', 7.812993734052519), ('players', 7.683483001056114), ('from', 7.683483001056114), ('player', 7.664981500803503), ('has', 7.664981500803503), ('matches', 7.142636348877446), ('of', 7.142636348877446), ('player', 6.9821716766841995), ('of', 6.9821716766841995), ('events', 6.839810399097704), ('in', 6.839810399097704), ('is', 6.812993734052519), ('an', 6.812993734052519), ('the', 6.510323256014498), ('rackets', 6.510323256014498), ('year', 6.510323256014498), ('the', 6.510323256014498), ('player', 6.421055917917414), ('for', 6.421055917917414), ('the', 6.3583201625694485), ('wta', 6.3583201625694485), ('players', 6.18570507076933), ('of', 6.18570507076933), ('the', 5.872893335399208), ('rules', 5.872893335399208), ('during', 5.68024825745681), ('the', 5.68024825745681), ('tournaments', 5.410967100293828), ('and', 5.410967100293828), ('player', 4.970394508907848), ('in', 4.970394508907848), ('for', 4.83104018946997), ('a', 4.83104018946997), ('is', 4.82304739871644), ('a', 4.82304739871644), ('as', 4.753037677468697), ('a', 4.753037677468697), ('from', 4.510323256014498), ('the', 4.510323256014498), ('with', 3.432320744013225), ('the', 3.432320744013225), ('the', 3.0508916373772017), ('players', 3.0508916373772017), ('is', 2.1804023703736064), ('the', 2.1804023703736064), ('in', 1.7377337521175704), ('the', 1.7377337521175704)])\n"
          ]
        }
      ]
    },
    {
      "cell_type": "code",
      "source": [],
      "metadata": {
        "id": "CyVu9tWUDue_"
      },
      "execution_count": 27,
      "outputs": []
    },
    {
      "cell_type": "code",
      "source": [
        "# Auto Complete - Quadgram - single word input"
      ],
      "metadata": {
        "id": "mQ5IFvmFuW7J"
      },
      "execution_count": 28,
      "outputs": []
    },
    {
      "cell_type": "code",
      "source": [
        "tokens = tokenizer.tokenize(article_text.lower()) # all in lower case \n",
        "find = nltk.QuadgramCollocationFinder.from_words(tokens) # of course there is a Quadgram one in NTLK\n",
        "pmi = find.score_ngrams(nltk.QuadgramAssocMeasures().pmi) # score with PMI"
      ],
      "metadata": {
        "id": "qc7LKh7MGI9P"
      },
      "execution_count": 29,
      "outputs": []
    },
    {
      "cell_type": "code",
      "source": [
        "word = 'tennis'\n",
        "for (pair, score) in pmi:\n",
        "  (first, second, third, fourth) = pair\n",
        "  if first == word:\n",
        "    print(second, third, fourth, score)"
      ],
      "metadata": {
        "colab": {
          "base_uri": "https://localhost:8080/"
        },
        "id": "mFZKxgfsGLwq",
        "outputId": "aff92884-c7bd-4d62-cd32-dffd56349607"
      },
      "execution_count": 30,
      "outputs": [
        {
          "output_type": "stream",
          "name": "stdout",
          "text": [
            "writer steve flink 32.81410147887452\n",
            "rating program ntrp 31.814101478874516\n",
            "com panel selected 28.644176477432204\n",
            "rackets wilson head 28.05921397671105\n",
            "after watching british 27.907210883265996\n",
            "magazine selected martina 27.907210883265996\n",
            "most football codes 27.76970735951606\n",
            "ballwas racketted from 27.644176477432204\n",
            "sphairistike this template 27.35466986023722\n",
            "com polled its 27.11366176073342\n",
            "channel ranked williams 26.492173383987154\n",
            "open semiopen closed 26.184744858794907\n",
            "federation itf conducts 25.907210883265996\n",
            "federation itf defines 25.907210883265996\n",
            "federation iltf now 25.814101478874516\n",
            "declined new racket 25.68481846192955\n",
            "scores from zero 25.644176477432204\n",
            "often means having 25.492173383987154\n",
            "balls must conform 25.17024528909979\n",
            "tournament took place 25.141676136903023\n",
            "have changed little 25.09985596120839\n",
            "historian and journalist 24.64919455219883\n",
            "outdoors and accordingly 24.64919455219883\n",
            "rules were violated 24.421784056095756\n",
            "started using this 24.35466986023722\n",
            "club on avenue 24.17385654265217\n",
            "australia australian open 23.96235243745846\n",
            "balls were originally 23.907210883265996\n",
            "tournaments see below 23.737285881823684\n",
            "court owes its 23.721344337954662\n",
            "strings available were 23.644176477432204\n",
            "memorabilia as well 23.436890948485964\n",
            "according to honor 23.415357786936323\n",
            "together these four 23.35466986023722\n",
            "playing nations have 23.322248382544842\n",
            "originated in birmingham 23.28662447281412\n",
            "fans to follow 23.00032028765748\n",
            "when an isolated 23.00032028765748\n",
            "balls were traditionally 22.907210883265996\n",
            "association wta ranking 22.862816763907546\n",
            "a cultural history 22.654230142096125\n",
            "fans and commentators 22.64919455219883\n",
            "players playing exhibition 22.59978235807375\n",
            "tournament necessitates that 22.59735562067921\n",
            "also became popular 22.4753650963006\n",
            "channel published a 22.06926764137497\n",
            "circuit and revenues 22.06423205147767\n",
            "hall of fame 21.97647354570311\n",
            "association to teach 21.83039528621517\n",
            "followed by rafael 21.78619548230463\n",
            "tournament this draw 21.682244518265723\n",
            "professionals atp or 21.639175796373838\n",
            "must use balls 21.469805570958698\n",
            "physique before and 21.327266457311467\n",
            "competitions these tournaments 21.322248382544842\n",
            "match is intended 21.144330590349\n",
            "especially by top 20.97884056024703\n",
            "it had close 20.91928371556657\n",
            "strings are highly 20.889288975268734\n",
            "racket is strung 20.506900669733707\n",
            "club in birmingham 20.479269550756516\n",
            "almost all tennis 20.46426738741727\n",
            "and croquet club 20.25687712942007\n",
            "federation itf was 20.049229888138424\n",
            "association us open 19.955926168299026\n",
            "rules when called 19.90345874840489\n",
            "format is called 19.854823973154012\n",
            "association administers the 19.84166011231098\n",
            "an epitaph in 19.701661972092964\n",
            "with fourteen tournaments 19.65928336982241\n",
            "tournaments are formed 19.567360880381372\n",
            "for wta tour 19.415357786936323\n",
            "and became notable 19.25687712942007\n",
            "racket include a 18.846875220038523\n",
            "player has eight 18.67439026221262\n",
            "association in order 18.531736970650652\n",
            "by participating in 18.42864347768655\n",
            "as a fullmedal 18.08437453376518\n",
            "balls are made 18.06486053985219\n",
            "can be played 17.924217308571688\n",
            "each event is 17.863044479958983\n",
            "stems from the 17.84166011231098\n",
            "withdrew from the 17.84166011231098\n",
            "association wimbledon and 17.778829832615422\n",
            "federation itf and 17.74230395659031\n",
            "game during play 17.68481846192955\n",
            "year the worlds 17.519732017423618\n",
            "and deaf tennis 17.469285462183894\n",
            "is unusual in 17.371741086452072\n",
            "strings such as 17.33735527493505\n",
            "is an olympic 17.336975668291394\n",
            "championships offer the 17.3111453956122\n",
            "players have been 17.19039142193605\n",
            "player ever with 17.18896343504238\n",
            "players who were 17.014819857352595\n",
            "during the late 17.01158511375329\n",
            "player known by 16.993947452637236\n",
            "masters series and 16.861291992807395\n",
            "association now the 16.84166011231098\n",
            "mind with the 16.763657600309706\n",
            "the rackets must 16.519732017423618\n",
            "whenever the player 16.441729505422344\n",
            "players enjoy the 16.382228493673683\n",
            "federation itf the 16.104694518144775\n",
            "tournaments such as 16.015427180047688\n",
            "players from all 15.844894855910283\n",
            "was used as 15.57890995335839\n",
            "racket that is 15.37761765278874\n",
            "tournaments and junior 15.282872337953012\n",
            "organization in the 15.069070608414052\n",
            "for a year 14.99245204432414\n",
            "tour with a 14.821340127931386\n",
            "with the beginning 14.763657600309706\n",
            "is played on 14.57447498201805\n",
            "french open the 14.50775937575754\n",
            "player of all 14.406617937372168\n",
            "from the french 14.382228493673683\n",
            "players of all 14.347116925623506\n",
            "is played with 14.159437482739207\n",
            "is played by 13.964421500334065\n",
            "the third and 13.846678187077604\n",
            "balls tennis is 13.812418406889012\n",
            "the wta tournaments 13.782766423257414\n",
            "a junior is 13.694952636375625\n",
            "has been the 13.676194759059367\n",
            "is a racket 13.347029332955316\n",
            "the players feet 13.060300398786321\n",
            "is a shot 12.694952636375625\n",
            "is the return 12.511739226670088\n",
            "association and the 11.676753185635292\n",
            "court at the 11.641987767474617\n",
            "courts in the 11.609638989776755\n",
            "in the four 11.609638989776755\n",
            "the rules of 10.95156475924544\n",
            "matches of the 10.671456840052706\n",
            "events in the 10.36863089027296\n",
            "player for the 9.94987640909267\n",
            "player of the 9.189064072972098\n",
            "player in the 8.499215000083105\n"
          ]
        }
      ]
    },
    {
      "cell_type": "code",
      "source": [
        "def autocomplete(word, scoring, k = 4):\n",
        "  top = []\n",
        "  bot = []\n",
        "  for (pair, score) in scoring:\n",
        "   (first, second, third, fourth) = pair\n",
        "   if first == word and word not in (second, third, fourth): # no word repetitions, those would just loop\n",
        "       if len(top) < k or score >= min(top, key = lambda o: o[1])[1]:\n",
        "         top.append((second, score))\n",
        "         top.append((third, score))\n",
        "         top.append((fourth, score))\n",
        "       if len(bot) < k or score <= max(bot, key = lambda o: o[1])[1]:\n",
        "         bot.append((second, score))\n",
        "         bot.append((third, score))\n",
        "         bot.append((fourth, score))\n",
        "       if len(bot) > k:\n",
        "         # ditch the HIGHEST score from bot(tom)\n",
        "         bot.remove(max(bot, key = lambda o: o[1]))\n",
        "       if len(top) > k:\n",
        "         # ditch the LOWEST score from top\n",
        "         top.remove(min(top, key = lambda o: o[1]))\n",
        "  return (top, bot)"
      ],
      "metadata": {
        "id": "V1H_fzMyGQod"
      },
      "execution_count": 31,
      "outputs": []
    },
    {
      "cell_type": "code",
      "source": [
        "print(autocomplete('tennis', pmi, k = 4))"
      ],
      "metadata": {
        "colab": {
          "base_uri": "https://localhost:8080/"
        },
        "id": "XojYKhJNGbjS",
        "outputId": "3170ca34-9e0f-4daa-fc96-d4d364d96b60"
      },
      "execution_count": 32,
      "outputs": [
        {
          "output_type": "stream",
          "name": "stdout",
          "text": [
            "([('writer', 32.81410147887452), ('steve', 32.81410147887452), ('flink', 32.81410147887452), ('ntrp', 31.814101478874516)], [('channel', 22.06926764137497), ('published', 22.06926764137497), ('a', 22.06926764137497), ('circuit', 22.06423205147767), ('and', 22.06423205147767), ('revenues', 22.06423205147767), ('hall', 21.97647354570311), ('of', 21.97647354570311), ('fame', 21.97647354570311), ('association', 21.83039528621517), ('to', 21.83039528621517), ('teach', 21.83039528621517), ('followed', 21.78619548230463), ('by', 21.78619548230463), ('rafael', 21.78619548230463), ('tournament', 21.682244518265723), ('this', 21.682244518265723), ('draw', 21.682244518265723), ('professionals', 21.639175796373838), ('atp', 21.639175796373838), ('or', 21.639175796373838), ('must', 21.469805570958698), ('use', 21.469805570958698), ('balls', 21.469805570958698), ('physique', 21.327266457311467), ('before', 21.327266457311467), ('and', 21.327266457311467), ('competitions', 21.322248382544842), ('these', 21.322248382544842), ('tournaments', 21.322248382544842), ('match', 21.144330590349), ('is', 21.144330590349), ('intended', 21.144330590349), ('especially', 20.97884056024703), ('by', 20.97884056024703), ('top', 20.97884056024703), ('it', 20.91928371556657), ('had', 20.91928371556657), ('close', 20.91928371556657), ('strings', 20.889288975268734), ('are', 20.889288975268734), ('highly', 20.889288975268734), ('racket', 20.506900669733707), ('is', 20.506900669733707), ('strung', 20.506900669733707), ('club', 20.479269550756516), ('in', 20.479269550756516), ('birmingham', 20.479269550756516), ('and', 20.25687712942007), ('croquet', 20.25687712942007), ('club', 20.25687712942007), ('federation', 20.049229888138424), ('itf', 20.049229888138424), ('was', 20.049229888138424), ('association', 19.955926168299026), ('us', 19.955926168299026), ('open', 19.955926168299026), ('rules', 19.90345874840489), ('when', 19.90345874840489), ('called', 19.90345874840489), ('format', 19.854823973154012), ('is', 19.854823973154012), ('called', 19.854823973154012), ('association', 19.84166011231098), ('administers', 19.84166011231098), ('the', 19.84166011231098), ('an', 19.701661972092964), ('epitaph', 19.701661972092964), ('in', 19.701661972092964), ('with', 19.65928336982241), ('fourteen', 19.65928336982241), ('tournaments', 19.65928336982241), ('tournaments', 19.567360880381372), ('are', 19.567360880381372), ('formed', 19.567360880381372), ('for', 19.415357786936323), ('wta', 19.415357786936323), ('tour', 19.415357786936323), ('and', 19.25687712942007), ('became', 19.25687712942007), ('notable', 19.25687712942007), ('racket', 18.846875220038523), ('include', 18.846875220038523), ('a', 18.846875220038523), ('player', 18.67439026221262), ('has', 18.67439026221262), ('eight', 18.67439026221262), ('association', 18.531736970650652), ('in', 18.531736970650652), ('order', 18.531736970650652), ('by', 18.42864347768655), ('participating', 18.42864347768655), ('in', 18.42864347768655), ('as', 18.08437453376518), ('a', 18.08437453376518), ('fullmedal', 18.08437453376518), ('balls', 18.06486053985219), ('are', 18.06486053985219), ('made', 18.06486053985219), ('can', 17.924217308571688), ('be', 17.924217308571688), ('played', 17.924217308571688), ('each', 17.863044479958983), ('event', 17.863044479958983), ('is', 17.863044479958983), ('stems', 17.84166011231098), ('from', 17.84166011231098), ('the', 17.84166011231098), ('withdrew', 17.84166011231098), ('from', 17.84166011231098), ('the', 17.84166011231098), ('association', 17.778829832615422), ('wimbledon', 17.778829832615422), ('and', 17.778829832615422), ('federation', 17.74230395659031), ('itf', 17.74230395659031), ('and', 17.74230395659031), ('game', 17.68481846192955), ('during', 17.68481846192955), ('play', 17.68481846192955), ('year', 17.519732017423618), ('the', 17.519732017423618), ('worlds', 17.519732017423618), ('is', 17.371741086452072), ('unusual', 17.371741086452072), ('in', 17.371741086452072), ('strings', 17.33735527493505), ('such', 17.33735527493505), ('as', 17.33735527493505), ('is', 17.336975668291394), ('an', 17.336975668291394), ('olympic', 17.336975668291394), ('championships', 17.3111453956122), ('offer', 17.3111453956122), ('the', 17.3111453956122), ('players', 17.19039142193605), ('have', 17.19039142193605), ('been', 17.19039142193605), ('player', 17.18896343504238), ('ever', 17.18896343504238), ('with', 17.18896343504238), ('players', 17.014819857352595), ('who', 17.014819857352595), ('were', 17.014819857352595), ('during', 17.01158511375329), ('the', 17.01158511375329), ('late', 17.01158511375329), ('player', 16.993947452637236), ('known', 16.993947452637236), ('by', 16.993947452637236), ('masters', 16.861291992807395), ('series', 16.861291992807395), ('and', 16.861291992807395), ('association', 16.84166011231098), ('now', 16.84166011231098), ('the', 16.84166011231098), ('mind', 16.763657600309706), ('with', 16.763657600309706), ('the', 16.763657600309706), ('the', 16.519732017423618), ('rackets', 16.519732017423618), ('must', 16.519732017423618), ('whenever', 16.441729505422344), ('the', 16.441729505422344), ('player', 16.441729505422344), ('players', 16.382228493673683), ('enjoy', 16.382228493673683), ('the', 16.382228493673683), ('federation', 16.104694518144775), ('itf', 16.104694518144775), ('the', 16.104694518144775), ('tournaments', 16.015427180047688), ('such', 16.015427180047688), ('as', 16.015427180047688), ('players', 15.844894855910283), ('from', 15.844894855910283), ('all', 15.844894855910283), ('was', 15.57890995335839), ('used', 15.57890995335839), ('as', 15.57890995335839), ('racket', 15.37761765278874), ('that', 15.37761765278874), ('is', 15.37761765278874), ('tournaments', 15.282872337953012), ('and', 15.282872337953012), ('junior', 15.282872337953012), ('organization', 15.069070608414052), ('in', 15.069070608414052), ('the', 15.069070608414052), ('for', 14.99245204432414), ('a', 14.99245204432414), ('year', 14.99245204432414), ('tour', 14.821340127931386), ('with', 14.821340127931386), ('a', 14.821340127931386), ('with', 14.763657600309706), ('the', 14.763657600309706), ('beginning', 14.763657600309706), ('is', 14.57447498201805), ('played', 14.57447498201805), ('on', 14.57447498201805), ('french', 14.50775937575754), ('open', 14.50775937575754), ('the', 14.50775937575754), ('player', 14.406617937372168), ('of', 14.406617937372168), ('all', 14.406617937372168), ('from', 14.382228493673683), ('the', 14.382228493673683), ('french', 14.382228493673683), ('players', 14.347116925623506), ('of', 14.347116925623506), ('all', 14.347116925623506), ('is', 14.159437482739207), ('played', 14.159437482739207), ('with', 14.159437482739207), ('is', 13.964421500334065), ('played', 13.964421500334065), ('by', 13.964421500334065), ('the', 13.846678187077604), ('third', 13.846678187077604), ('and', 13.846678187077604), ('the', 13.782766423257414), ('wta', 13.782766423257414), ('tournaments', 13.782766423257414), ('a', 13.694952636375625), ('junior', 13.694952636375625), ('is', 13.694952636375625), ('has', 13.676194759059367), ('been', 13.676194759059367), ('the', 13.676194759059367), ('is', 13.347029332955316), ('a', 13.347029332955316), ('racket', 13.347029332955316), ('the', 13.060300398786321), ('players', 13.060300398786321), ('feet', 13.060300398786321), ('is', 12.694952636375625), ('a', 12.694952636375625), ('shot', 12.694952636375625), ('is', 12.511739226670088), ('the', 12.511739226670088), ('return', 12.511739226670088), ('association', 11.676753185635292), ('and', 11.676753185635292), ('the', 11.676753185635292), ('court', 11.641987767474617), ('at', 11.641987767474617), ('the', 11.641987767474617), ('courts', 11.609638989776755), ('in', 11.609638989776755), ('the', 11.609638989776755), ('in', 11.609638989776755), ('the', 11.609638989776755), ('four', 11.609638989776755), ('the', 10.95156475924544), ('rules', 10.95156475924544), ('of', 10.95156475924544), ('matches', 10.671456840052706), ('of', 10.671456840052706), ('the', 10.671456840052706), ('events', 10.36863089027296), ('in', 10.36863089027296), ('the', 10.36863089027296), ('player', 9.94987640909267), ('for', 9.94987640909267), ('the', 9.94987640909267), ('player', 9.189064072972098), ('of', 9.189064072972098), ('the', 9.189064072972098), ('player', 8.499215000083105), ('in', 8.499215000083105), ('the', 8.499215000083105)])\n"
          ]
        }
      ]
    },
    {
      "cell_type": "code",
      "source": [],
      "metadata": {
        "id": "513ZplunWsG2"
      },
      "execution_count": 32,
      "outputs": []
    },
    {
      "cell_type": "code",
      "source": [
        "# Auto Complete - Bigram - 2 words input"
      ],
      "metadata": {
        "id": "wiaH8-p0uaap"
      },
      "execution_count": 33,
      "outputs": []
    },
    {
      "cell_type": "code",
      "source": [
        "ngrams = {}\n",
        "words = 2\n",
        "\n",
        "words_tokens = nltk.word_tokenize(article_text)\n",
        "for i in range(len(words_tokens)-words):\n",
        "    seq = ' '.join(words_tokens[i:i+words])\n",
        "    # print(seq)\n",
        "    if  seq not in ngrams.keys():\n",
        "        ngrams[seq] = []\n",
        "    ngrams[seq].append(words_tokens[i+words])"
      ],
      "metadata": {
        "id": "3_rqG7WJl-vg"
      },
      "execution_count": 34,
      "outputs": []
    },
    {
      "cell_type": "code",
      "source": [
        "words_tokens[0:words]"
      ],
      "metadata": {
        "colab": {
          "base_uri": "https://localhost:8080/"
        },
        "id": "9UL13fWRpNse",
        "outputId": "b2b54cf4-fd6b-4289-b0c2-e8de45d7088e"
      },
      "execution_count": 35,
      "outputs": [
        {
          "output_type": "execute_result",
          "data": {
            "text/plain": [
              "['tennis', 'is']"
            ]
          },
          "metadata": {},
          "execution_count": 35
        }
      ]
    },
    {
      "cell_type": "code",
      "source": [
        "curr_sequence = ' '.join(['tennis', 'is'])\n",
        "output = curr_sequence"
      ],
      "metadata": {
        "id": "6bBAnutYl-ss"
      },
      "execution_count": 36,
      "outputs": []
    },
    {
      "cell_type": "code",
      "source": [
        "curr_sequence"
      ],
      "metadata": {
        "colab": {
          "base_uri": "https://localhost:8080/",
          "height": 35
        },
        "id": "XZBmxjzMpcp7",
        "outputId": "77f8f172-342b-4b6c-d06a-8aa77d5a1d46"
      },
      "execution_count": 37,
      "outputs": [
        {
          "output_type": "execute_result",
          "data": {
            "text/plain": [
              "'tennis is'"
            ],
            "application/vnd.google.colaboratory.intrinsic+json": {
              "type": "string"
            }
          },
          "metadata": {},
          "execution_count": 37
        }
      ]
    },
    {
      "cell_type": "code",
      "source": [
        "for i in range(50):\n",
        "    if curr_sequence not in ngrams.keys():\n",
        "        break\n",
        "    possible_words = ngrams[curr_sequence]\n",
        "    next_word = possible_words[random.randrange(len(possible_words))]\n",
        "    output += ' ' + next_word\n",
        "    seq_words = nltk.word_tokenize(output)\n",
        "    curr_sequence = ' '.join(seq_words[len(seq_words)-words:len(seq_words)])\n",
        "\n",
        "print(output)"
      ],
      "metadata": {
        "colab": {
          "base_uri": "https://localhost:8080/"
        },
        "id": "QZzTc5PPl-pw",
        "outputId": "9210a369-930c-46ea-d7a6-2b5ec9f4b6ab"
      },
      "execution_count": 38,
      "outputs": [
        {
          "output_type": "stream",
          "name": "stdout",
          "text": [
            "tennis is the most natural tennis mind with the wellknown phrase game set match followed by the first player to win the game . the terminology is extended to sets set point matches match point and even championships championship point . this stance allows for effective torso rotation which can result in\n"
          ]
        }
      ]
    },
    {
      "cell_type": "code",
      "source": [],
      "metadata": {
        "id": "eIPBvdtBl-hQ"
      },
      "execution_count": 38,
      "outputs": []
    },
    {
      "cell_type": "code",
      "source": [
        "# Auto Complete - Trigram - 3 words input"
      ],
      "metadata": {
        "id": "1P0v3zZ6l-eW"
      },
      "execution_count": 39,
      "outputs": []
    },
    {
      "cell_type": "code",
      "source": [
        "ngrams = {}\n",
        "words = 3\n",
        "\n",
        "words_tokens = nltk.word_tokenize(article_text)\n",
        "for i in range(len(words_tokens)-words):\n",
        "    seq = ' '.join(words_tokens[i:i+words])\n",
        "    # print(seq)\n",
        "    if  seq not in ngrams.keys():\n",
        "        ngrams[seq] = []\n",
        "    ngrams[seq].append(words_tokens[i+words])"
      ],
      "metadata": {
        "id": "AaS-mI7is9kH"
      },
      "execution_count": 40,
      "outputs": []
    },
    {
      "cell_type": "code",
      "source": [
        "curr_sequence = ' '.join(['tennis', 'is', 'a'])\n",
        "output = curr_sequence"
      ],
      "metadata": {
        "id": "kG1FSDLetK3V"
      },
      "execution_count": 41,
      "outputs": []
    },
    {
      "cell_type": "code",
      "source": [
        "for i in range(50):\n",
        "    if curr_sequence not in ngrams.keys():\n",
        "        break\n",
        "    possible_words = ngrams[curr_sequence]\n",
        "    next_word = possible_words[random.randrange(len(possible_words))]\n",
        "    output += ' ' + next_word\n",
        "    seq_words = nltk.word_tokenize(output)\n",
        "    curr_sequence = ' '.join(seq_words[len(seq_words)-words:len(seq_words)])\n",
        "\n",
        "print(output)"
      ],
      "metadata": {
        "colab": {
          "base_uri": "https://localhost:8080/"
        },
        "id": "nI6WCzwPs9hM",
        "outputId": "3049e55d-a83d-4de5-fd9d-d79accc63aa3"
      },
      "execution_count": 42,
      "outputs": [
        {
          "output_type": "stream",
          "name": "stdout",
          "text": [
            "tennis is a shot returned to the opponent in midair before the ball is spinning counterclockwise it will curve right from the hitters point of view and curve left if spinning clockwise.some servers are content to use the serve simply to initiate the point however advanced players often try to hit a winning\n"
          ]
        }
      ]
    },
    {
      "cell_type": "code",
      "source": [],
      "metadata": {
        "id": "xGdpOgQ5s9eP"
      },
      "execution_count": 42,
      "outputs": []
    },
    {
      "cell_type": "code",
      "source": [
        "# Auto Complete - Quadgram - 4 words input"
      ],
      "metadata": {
        "id": "5-wsIGo6l-bX"
      },
      "execution_count": 43,
      "outputs": []
    },
    {
      "cell_type": "code",
      "source": [
        "ngrams = {}\n",
        "words = 4\n",
        "\n",
        "words_tokens = nltk.word_tokenize(article_text)\n",
        "for i in range(len(words_tokens)-words):\n",
        "    seq = ' '.join(words_tokens[i:i+words])\n",
        "    # print(seq)\n",
        "    if  seq not in ngrams.keys():\n",
        "        ngrams[seq] = []\n",
        "    ngrams[seq].append(words_tokens[i+words])"
      ],
      "metadata": {
        "id": "fuZoe5kJtVzJ"
      },
      "execution_count": 44,
      "outputs": []
    },
    {
      "cell_type": "code",
      "source": [
        "curr_sequence = ' '.join(['tennis', 'is', 'a', 'racket'])\n",
        "output = curr_sequence"
      ],
      "metadata": {
        "id": "cW2HMVD1tVwP"
      },
      "execution_count": 45,
      "outputs": []
    },
    {
      "cell_type": "code",
      "source": [
        "for i in range(50):\n",
        "    if curr_sequence not in ngrams.keys():\n",
        "        break\n",
        "    possible_words = ngrams[curr_sequence]\n",
        "    next_word = possible_words[random.randrange(len(possible_words))]\n",
        "    output += ' ' + next_word\n",
        "    seq_words = nltk.word_tokenize(output)\n",
        "    curr_sequence = ' '.join(seq_words[len(seq_words)-words:len(seq_words)])\n",
        "\n",
        "print(output)"
      ],
      "metadata": {
        "colab": {
          "base_uri": "https://localhost:8080/"
        },
        "id": "_LRic2BDtVtl",
        "outputId": "a7724160-9a19-4783-b1b1-1ccdcbee793b"
      },
      "execution_count": 46,
      "outputs": [
        {
          "output_type": "stream",
          "name": "stdout",
          "text": [
            "tennis is a racket sport that is played either individually against a single opponent singles or between two teams of two players each doubles . each player uses a tennis racket that is strung with cord to strike a hollow rubber ball covered with felt over or around a net and into the opponents\n"
          ]
        }
      ]
    },
    {
      "cell_type": "code",
      "source": [],
      "metadata": {
        "id": "Y8RbtDG_tVqi"
      },
      "execution_count": 46,
      "outputs": []
    },
    {
      "cell_type": "code",
      "source": [
        "# Question 3"
      ],
      "metadata": {
        "id": "HqkZNITbWr_M"
      },
      "execution_count": 47,
      "outputs": []
    },
    {
      "cell_type": "code",
      "source": [
        "nltk.download('names')"
      ],
      "metadata": {
        "colab": {
          "base_uri": "https://localhost:8080/"
        },
        "id": "aPVEUu4uJswv",
        "outputId": "93a9a064-c08b-4fac-eced-562e5344ac9c"
      },
      "execution_count": 48,
      "outputs": [
        {
          "output_type": "stream",
          "name": "stderr",
          "text": [
            "[nltk_data] Downloading package names to /root/nltk_data...\n",
            "[nltk_data]   Package names is already up-to-date!\n"
          ]
        },
        {
          "output_type": "execute_result",
          "data": {
            "text/plain": [
              "True"
            ]
          },
          "metadata": {},
          "execution_count": 48
        }
      ]
    },
    {
      "cell_type": "code",
      "source": [
        "from nltk.corpus import names"
      ],
      "metadata": {
        "id": "VnPKU4IdKHmO"
      },
      "execution_count": 49,
      "outputs": []
    },
    {
      "cell_type": "code",
      "source": [
        "name_corpus = names.words()\n",
        "name_corpus_series = pandas.Series(name_corpus)\n",
        "name_corpus_series"
      ],
      "metadata": {
        "colab": {
          "base_uri": "https://localhost:8080/"
        },
        "id": "ozPmebcDKOfT",
        "outputId": "bc835e43-3344-4d18-f6c4-06295a38aab9"
      },
      "execution_count": 50,
      "outputs": [
        {
          "output_type": "execute_result",
          "data": {
            "text/plain": [
              "0       Abagael\n",
              "1       Abagail\n",
              "2          Abbe\n",
              "3         Abbey\n",
              "4          Abbi\n",
              "         ...   \n",
              "7939       Zeus\n",
              "7940      Zippy\n",
              "7941     Zollie\n",
              "7942      Zolly\n",
              "7943      Zorro\n",
              "Length: 7944, dtype: object"
            ]
          },
          "metadata": {},
          "execution_count": 50
        }
      ]
    },
    {
      "cell_type": "code",
      "source": [
        "name_corpus_series = name_corpus_series.str.lower()"
      ],
      "metadata": {
        "id": "5YX8SyuRWwNV"
      },
      "execution_count": 51,
      "outputs": []
    },
    {
      "cell_type": "code",
      "source": [],
      "metadata": {
        "id": "jFMSstZbWwE2"
      },
      "execution_count": 51,
      "outputs": []
    },
    {
      "cell_type": "code",
      "source": [
        "def autocomplete(word, scoring, k = 4):\n",
        "  top = []\n",
        "  bot = []\n",
        "  for (pair, score) in scoring:\n",
        "   (first, second, third, fourth) = pair\n",
        "   if first == word and word not in (second, third, fourth) and not name_corpus_series.str.contains(first).any() \\\n",
        "   and not name_corpus_series.str.contains(second).any() \\\n",
        "   and not name_corpus_series.str.contains(third).any() \\\n",
        "   and not name_corpus_series.str.contains(fourth).any(): # no word repetitions, those would just loop\n",
        "       if len(top) < k or score >= min(top, key = lambda o: o[1])[1]:\n",
        "         top.append((second, score))\n",
        "         top.append((third, score))\n",
        "         top.append((fourth, score))\n",
        "       if len(bot) < k or score <= max(bot, key = lambda o: o[1])[1]:\n",
        "         bot.append((second, score))\n",
        "         bot.append((third, score))\n",
        "         bot.append((fourth, score))\n",
        "       if len(bot) > k:\n",
        "         # ditch the HIGHEST score from bot(tom)\n",
        "         bot.remove(max(bot, key = lambda o: o[1]))\n",
        "       if len(top) > k:\n",
        "         # ditch the LOWEST score from top\n",
        "         top.remove(min(top, key = lambda o: o[1]))\n",
        "  return (top, bot)"
      ],
      "metadata": {
        "id": "oPWqVdqFLnEP"
      },
      "execution_count": 52,
      "outputs": []
    },
    {
      "cell_type": "code",
      "source": [
        "print(autocomplete('tennis', pmi, k = 4))"
      ],
      "metadata": {
        "colab": {
          "base_uri": "https://localhost:8080/"
        },
        "id": "ICa5B_AAQjwV",
        "outputId": "a32ecbea-6cda-440e-8703-616655c8e2ef"
      },
      "execution_count": 53,
      "outputs": [
        {
          "output_type": "stream",
          "name": "stdout",
          "text": [
            "([('rating', 31.814101478874516), ('program', 31.814101478874516), ('ntrp', 31.814101478874516), ('british', 27.907210883265996)], [('conducts', 25.907210883265996), ('federation', 25.907210883265996), ('itf', 25.907210883265996), ('defines', 25.907210883265996), ('federation', 25.814101478874516), ('iltf', 25.814101478874516), ('now', 25.814101478874516), ('scores', 25.644176477432204), ('from', 25.644176477432204), ('zero', 25.644176477432204), ('often', 25.492173383987154), ('means', 25.492173383987154), ('having', 25.492173383987154), ('tournament', 25.141676136903023), ('took', 25.141676136903023), ('place', 25.141676136903023), ('started', 24.35466986023722), ('using', 24.35466986023722), ('this', 24.35466986023722), ('australia', 23.96235243745846), ('australian', 23.96235243745846), ('open', 23.96235243745846), ('together', 23.35466986023722), ('these', 23.35466986023722), ('four', 23.35466986023722), ('association', 22.862816763907546), ('wta', 22.862816763907546), ('ranking', 22.862816763907546), ('players', 22.59978235807375), ('playing', 22.59978235807375), ('exhibition', 22.59978235807375), ('tournament', 21.682244518265723), ('this', 21.682244518265723), ('draw', 21.682244518265723), ('competitions', 21.322248382544842), ('these', 21.322248382544842), ('tournaments', 21.322248382544842), ('rules', 19.90345874840489), ('when', 19.90345874840489), ('called', 19.90345874840489), ('with', 19.65928336982241), ('fourteen', 19.65928336982241), ('tournaments', 19.65928336982241)])\n"
          ]
        }
      ]
    },
    {
      "cell_type": "code",
      "source": [],
      "metadata": {
        "id": "8G1C36lKY1Pr"
      },
      "execution_count": 53,
      "outputs": []
    },
    {
      "cell_type": "code",
      "source": [],
      "metadata": {
        "id": "-8Bk3e87jH9e"
      },
      "execution_count": 53,
      "outputs": []
    }
  ]
}