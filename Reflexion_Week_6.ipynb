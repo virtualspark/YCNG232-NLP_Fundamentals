{
  "nbformat": 4,
  "nbformat_minor": 0,
  "metadata": {
    "colab": {
      "provenance": [],
      "authorship_tag": "ABX9TyPc16dZuGrCe759IcupfZEQ",
      "include_colab_link": true
    },
    "kernelspec": {
      "name": "python3",
      "display_name": "Python 3"
    },
    "language_info": {
      "name": "python"
    }
  },
  "cells": [
    {
      "cell_type": "markdown",
      "metadata": {
        "id": "view-in-github",
        "colab_type": "text"
      },
      "source": [
        "<a href=\"https://colab.research.google.com/github/virtualspark/YCNG232-NLP_Fundamentals/blob/main/Reflexion_Week_6.ipynb\" target=\"_parent\"><img src=\"https://colab.research.google.com/assets/colab-badge.svg\" alt=\"Open In Colab\"/></a>"
      ]
    },
    {
      "cell_type": "code",
      "source": [
        "import nltk\n",
        "from nltk.corpus import words\n",
        "from nltk.metrics.distance import (\n",
        "    edit_distance,\n",
        "    jaccard_distance,\n",
        "    )\n",
        "from nltk.util import ngrams\n",
        "nltk.download('words')\n",
        "nltk.download('punkt')\n",
        "import pandas\n",
        "from nltk import sent_tokenize, word_tokenize"
      ],
      "metadata": {
        "colab": {
          "base_uri": "https://localhost:8080/"
        },
        "id": "_zDqSRytVkaC",
        "outputId": "497ef920-00a0-42f6-fb5c-801b097b72c0"
      },
      "execution_count": 1,
      "outputs": [
        {
          "output_type": "stream",
          "name": "stderr",
          "text": [
            "[nltk_data] Downloading package words to /root/nltk_data...\n",
            "[nltk_data]   Package words is already up-to-date!\n",
            "[nltk_data] Downloading package punkt to /root/nltk_data...\n",
            "[nltk_data]   Package punkt is already up-to-date!\n"
          ]
        }
      ]
    },
    {
      "cell_type": "code",
      "source": [],
      "metadata": {
        "id": "mQWpeNAQgrQH"
      },
      "execution_count": 1,
      "outputs": []
    },
    {
      "cell_type": "code",
      "source": [
        "# Question 1"
      ],
      "metadata": {
        "id": "o-yG0hrxuPBk"
      },
      "execution_count": 2,
      "outputs": []
    },
    {
      "cell_type": "code",
      "source": [
        "correct_spellings = words.words()\n",
        "spellings_series = pandas.Series(correct_spellings)\n",
        "spellings_series"
      ],
      "metadata": {
        "colab": {
          "base_uri": "https://localhost:8080/"
        },
        "id": "4Q2H9y7TVqsG",
        "outputId": "1d9a28e6-5272-4047-fea0-4c391f5fcf73"
      },
      "execution_count": 3,
      "outputs": [
        {
          "output_type": "execute_result",
          "data": {
            "text/plain": [
              "0                 A\n",
              "1                 a\n",
              "2                aa\n",
              "3               aal\n",
              "4             aalii\n",
              "            ...    \n",
              "236731       yellow\n",
              "236732          yes\n",
              "236733    yesterday\n",
              "236734          you\n",
              "236735        young\n",
              "Length: 236736, dtype: object"
            ]
          },
          "metadata": {},
          "execution_count": 3
        }
      ]
    },
    {
      "cell_type": "code",
      "source": [
        "sentence = \"his frined is also a greate companieon\""
      ],
      "metadata": {
        "id": "iYEIdD1pW99k"
      },
      "execution_count": 4,
      "outputs": []
    },
    {
      "cell_type": "code",
      "source": [
        "sent_tokenize = nltk.word_tokenize(sentence)"
      ],
      "metadata": {
        "id": "x6ohTJtyW9zl"
      },
      "execution_count": 5,
      "outputs": []
    },
    {
      "cell_type": "code",
      "source": [
        "def jaccard_distance_method(sentence, ngram_number):\n",
        "  all_outcome = []\n",
        "  for word in sentence:\n",
        "    temp = [(jaccard_distance(set(ngrams(word, ngram_number)), set(ngrams(w, ngram_number))), w) for w in correct_spellings if w[0]==word[0]]\n",
        "    outcome = sorted(temp, key = lambda val:val[0])[0][1]\n",
        "    all_outcome.append(outcome)\n",
        "  return all_outcome"
      ],
      "metadata": {
        "id": "QJZXxkoHhg0Q"
      },
      "execution_count": 6,
      "outputs": []
    },
    {
      "cell_type": "code",
      "source": [
        "jaccard_distance_method(sent_tokenize, 1)"
      ],
      "metadata": {
        "colab": {
          "base_uri": "https://localhost:8080/"
        },
        "id": "PDZIo_rNhgxp",
        "outputId": "01c8a318-64ce-4ab1-9e56-3c5f088a675b"
      },
      "execution_count": 7,
      "outputs": [
        {
          "output_type": "execute_result",
          "data": {
            "text/plain": [
              "['his', 'finder', 'is', 'also', 'a', 'garetta', 'camptonite']"
            ]
          },
          "metadata": {},
          "execution_count": 7
        }
      ]
    },
    {
      "cell_type": "code",
      "source": [],
      "metadata": {
        "id": "_Vxi9B4skxgs"
      },
      "execution_count": 7,
      "outputs": []
    },
    {
      "cell_type": "code",
      "source": [
        "def edit_distance_method(sentence):\n",
        "  all_outcome = []\n",
        "  for word in sent_tokenize:\n",
        "      temp = [(edit_distance(word, w),w) for w in correct_spellings if w[0]==word[0]]\n",
        "      outcome = sorted(temp, key = lambda val:val[0])[0][1]\n",
        "      all_outcome.append(outcome)\n",
        "  return all_outcome"
      ],
      "metadata": {
        "id": "xavhdp5vZ3xk"
      },
      "execution_count": 8,
      "outputs": []
    },
    {
      "cell_type": "code",
      "source": [
        "edit_distance_method(sent_tokenize)"
      ],
      "metadata": {
        "colab": {
          "base_uri": "https://localhost:8080/"
        },
        "id": "zZUsQglUiOPJ",
        "outputId": "fbe39f04-1d58-4491-af98-8fda5733595f"
      },
      "execution_count": 9,
      "outputs": [
        {
          "output_type": "execute_result",
          "data": {
            "text/plain": [
              "['his', 'fried', 'is', 'also', 'a', 'grate', 'companion']"
            ]
          },
          "metadata": {},
          "execution_count": 9
        }
      ]
    },
    {
      "cell_type": "code",
      "source": [],
      "metadata": {
        "id": "EXlbcW2wk89j"
      },
      "execution_count": 9,
      "outputs": []
    },
    {
      "cell_type": "code",
      "source": [
        "# pip install textblob"
      ],
      "metadata": {
        "id": "8vEISvURaR_O"
      },
      "execution_count": 10,
      "outputs": []
    },
    {
      "cell_type": "code",
      "source": [
        "from textblob import Word\n",
        "from textblob import TextBlob"
      ],
      "metadata": {
        "id": "CbEURf2FaR0i"
      },
      "execution_count": 11,
      "outputs": []
    },
    {
      "cell_type": "code",
      "source": [
        "def auto_corrector(input_sentence):\n",
        "  sentence = TextBlob(input_sentence)\n",
        "  result = sentence.correct()\n",
        "  return print(result)"
      ],
      "metadata": {
        "id": "zTZkTjAGbs5y"
      },
      "execution_count": 12,
      "outputs": []
    },
    {
      "cell_type": "code",
      "source": [
        "auto_corrector(sentence)"
      ],
      "metadata": {
        "colab": {
          "base_uri": "https://localhost:8080/"
        },
        "id": "lXQzsRRWbswi",
        "outputId": "074cc9b9-db16-4e43-d22a-55b4180d23dc"
      },
      "execution_count": 13,
      "outputs": [
        {
          "output_type": "stream",
          "name": "stdout",
          "text": [
            "his friend is also a great companion\n"
          ]
        }
      ]
    },
    {
      "cell_type": "code",
      "source": [],
      "metadata": {
        "id": "Xmhb2CNjaqia"
      },
      "execution_count": 13,
      "outputs": []
    },
    {
      "cell_type": "code",
      "source": [
        "# Question 2"
      ],
      "metadata": {
        "id": "pSKzT7mjcCFk"
      },
      "execution_count": 14,
      "outputs": []
    },
    {
      "cell_type": "code",
      "source": [
        "import nltk\n",
        "import numpy as np\n",
        "import random\n",
        "import string\n",
        "\n",
        "import bs4 as bs\n",
        "import urllib.request\n",
        "import re"
      ],
      "metadata": {
        "id": "nY7NByIqA5kB"
      },
      "execution_count": 15,
      "outputs": []
    },
    {
      "cell_type": "code",
      "source": [
        "from nltk.tokenize import RegexpTokenizer\n",
        "tokenizer = RegexpTokenizer(r'\\w+') # remove punctuation"
      ],
      "metadata": {
        "id": "CLp4uPP2Yh-a"
      },
      "execution_count": 16,
      "outputs": []
    },
    {
      "cell_type": "code",
      "source": [
        "raw_html = urllib.request.urlopen('https://en.wikipedia.org/wiki/Tennis')"
      ],
      "metadata": {
        "id": "Hg6xXxV-A7el"
      },
      "execution_count": 17,
      "outputs": []
    },
    {
      "cell_type": "code",
      "source": [
        "raw_html = raw_html.read()"
      ],
      "metadata": {
        "id": "IPAufuAIA-3u"
      },
      "execution_count": 18,
      "outputs": []
    },
    {
      "cell_type": "code",
      "source": [
        "article_html = bs.BeautifulSoup(raw_html, 'lxml')\n",
        "article_paragraphs = article_html.find_all('p')\n",
        "article_text = ''"
      ],
      "metadata": {
        "id": "5iMBifzWBAfV"
      },
      "execution_count": 19,
      "outputs": []
    },
    {
      "cell_type": "code",
      "source": [
        "for para in article_paragraphs:\n",
        "    article_text += para.text"
      ],
      "metadata": {
        "id": "dlTJiNpTBBa2"
      },
      "execution_count": 20,
      "outputs": []
    },
    {
      "cell_type": "code",
      "source": [
        "article_text = article_text.lower()\n",
        "article_text = re.sub(r'[^A-Za-z. ]', '', article_text)"
      ],
      "metadata": {
        "id": "nBls3IAZBGDt"
      },
      "execution_count": 21,
      "outputs": []
    },
    {
      "cell_type": "code",
      "source": [],
      "metadata": {
        "id": "VsHSIsLxBH_i"
      },
      "execution_count": 21,
      "outputs": []
    },
    {
      "cell_type": "code",
      "source": [
        "# article_text"
      ],
      "metadata": {
        "id": "HLcsibCYBKp7"
      },
      "execution_count": 22,
      "outputs": []
    },
    {
      "cell_type": "code",
      "source": [],
      "metadata": {
        "id": "r12Ps9wbuPVu"
      },
      "execution_count": 22,
      "outputs": []
    },
    {
      "cell_type": "code",
      "source": [
        "# Auto Complete - Trigram - single word input"
      ],
      "metadata": {
        "id": "JIvkzN2ouPPN"
      },
      "execution_count": 23,
      "outputs": []
    },
    {
      "cell_type": "code",
      "source": [
        "tokens = tokenizer.tokenize(article_text.lower()) # all in lower case \n",
        "find = nltk.TrigramCollocationFinder.from_words(tokens) # of course there is a Trigram one in NTLK\n",
        "pmi = find.score_ngrams(nltk.TrigramAssocMeasures().pmi) # score with PMI"
      ],
      "metadata": {
        "id": "5nYjvDvxCgx8"
      },
      "execution_count": 24,
      "outputs": []
    },
    {
      "cell_type": "code",
      "source": [
        "word = 'tennis'\n",
        "for (pair, score) in pmi:\n",
        "  (first, second, third) = pair\n",
        "  if first == word:\n",
        "    print(second, third, score)"
      ],
      "metadata": {
        "colab": {
          "base_uri": "https://localhost:8080/"
        },
        "id": "UlLx61ttCizl",
        "outputId": "763a0d0e-0710-4c19-a4ae-095d9eeb5336"
      },
      "execution_count": 25,
      "outputs": [
        {
          "output_type": "stream",
          "name": "stdout",
          "text": [
            "ballwas racketted 19.482764622578035\n",
            "writer steve 19.482764622578035\n",
            "rating program 18.482764622578035\n",
            "magazine selected 17.897802121856877\n",
            "com polled 17.482764622578035\n",
            "channel published 16.897802121856877\n",
            "com panel 16.897802121856877\n",
            "started using 16.482764622578035\n",
            "association administers 16.312839621135723\n",
            "rackets wilson 16.312839621135723\n",
            "channel ranked 16.160836527690673\n",
            "declined new 16.160836527690673\n",
            "physique before 16.160836527690673\n",
            "australia australian 15.675409700520431\n",
            "after watching 15.575874026969517\n",
            "federation iltf 15.482764622578035\n",
            "tournament necessitates 15.395301781327696\n",
            "federation itf 14.897802121856879\n",
            "playing nations 14.897802121856879\n",
            "strings available 14.897802121856879\n",
            "most football 14.43837050321958\n",
            "open semiopen 14.43837050321958\n",
            "professionals atp 14.395301781327696\n",
            "tournament took 14.395301781327696\n",
            "almost all 14.312839621135723\n",
            "an epitaph 14.312839621135723\n",
            "stems from 14.312839621135723\n",
            "withdrew from 14.312839621135723\n",
            "often means 14.160836527690673\n",
            "court owes 14.090447199799275\n",
            "sphairistike this 14.023333003940738\n",
            "competitions these 13.897802121856879\n",
            "championships offer 13.782324904436942\n",
            "racket include 13.675409700520431\n",
            "together these 13.482764622578035\n",
            "association now 13.312839621135723\n",
            "scores from 13.312839621135723\n",
            "mind with 13.23483710913445\n",
            "by participating 13.039821126729306\n",
            "association wta 12.990911526248361\n",
            "memorabilia as 12.912909014247088\n",
            "players enjoy 12.853408002498425\n",
            "association wimbledon 12.61239990299463\n",
            "must use 12.46039680954958\n",
            "with fourteen 12.23483710913445\n",
            "each event 12.031553510745706\n",
            "tournaments see 11.990911526248361\n",
            "is unusual 11.98291873549483\n",
            "balls must 11.83890843280331\n",
            "have changed 11.768519104911912\n",
            "masters series 11.694862063186603\n",
            "association us 11.668983431360997\n",
            "balls were 11.575874026969515\n",
            "organization in 11.540250117238795\n",
            "originated in 11.540250117238795\n",
            "also became 11.46595633489148\n",
            "especially by 11.45485862600815\n",
            "a cultural 11.322893285799646\n",
            "and deaf 11.317857695902347\n",
            "historian and 11.317857695902347\n",
            "outdoors and 11.317857695902347\n",
            "rules were 11.090447199799275\n",
            "rules when 11.031553510745706\n",
            "format is 10.98291873549483\n",
            "french open 10.978938884582284\n",
            "club on 10.84251968635569\n",
            "strings such 10.575874026969515\n",
            "followed by 10.45485862600815\n",
            "has been 10.14737426788411\n",
            "player ever 10.105554092189482\n",
            "player known 10.105554092189482\n",
            "according to 10.084020930639841\n",
            "tournament this 9.9358701626904\n",
            "and croquet 9.73289519518119\n",
            "whenever the 9.68024825745681\n",
            "game during 9.67540970052043\n",
            "fans to 9.668983431361\n",
            "for wta 9.668983431361\n",
            "when an 9.668983431361\n",
            "tour with 9.649874608413292\n",
            "hall of 9.64513668940663\n",
            "it had 9.58794685927009\n",
            "racket that 9.546126683575466\n",
            "can be 9.499771047883726\n",
            "fans and 9.317857695902347\n",
            "players playing 9.268445501777268\n",
            "tournaments such 9.253945932082154\n",
            "balls are 8.820986524806049\n",
            "was used 8.81742870539286\n",
            "circuit and 8.73289519518119\n",
            "club in 8.73289519518119\n",
            "the third 8.68024825745681\n",
            "is played 8.660990640607466\n",
            "strings are 8.557952118972253\n",
            "and became 8.510502773844742\n",
            "association to 8.499058429918687\n",
            "association in 8.370325115796483\n",
            "players who 8.268445501777268\n",
            "tournaments are 8.236024024084891\n",
            "racket is 8.175563813437225\n",
            "association and 8.147932694460035\n",
            "court at 8.113167276299357\n",
            "courts in 8.080818498601499\n",
            "balls tennis 7.980927437675739\n",
            "players have 7.946517406889907\n",
            "a junior 7.863461667162348\n",
            "match is 7.812993734052519\n",
            "players from 7.683483001056114\n",
            "player has 7.664981500803503\n",
            "matches of 7.142636348877446\n",
            "player of 6.9821716766841995\n",
            "events in 6.839810399097704\n",
            "is an 6.812993734052519\n",
            "the rackets 6.510323256014498\n",
            "year the 6.510323256014498\n",
            "player for 6.421055917917414\n",
            "the wta 6.3583201625694485\n",
            "players of 6.18570507076933\n",
            "the rules 5.872893335399208\n",
            "during the 5.68024825745681\n",
            "tournaments and 5.410967100293828\n",
            "player in 4.970394508907848\n",
            "for a 4.83104018946997\n",
            "is a 4.82304739871644\n",
            "as a 4.753037677468697\n",
            "from the 4.510323256014498\n",
            "with the 3.432320744013225\n",
            "the players 3.0508916373772017\n",
            "is the 2.1804023703736064\n",
            "in the 1.7377337521175704\n"
          ]
        }
      ]
    },
    {
      "cell_type": "code",
      "source": [
        "def autocomplete(word, scoring, k = 3):\n",
        "  top = []\n",
        "  bot = []\n",
        "  for (pair, score) in scoring:\n",
        "   (first, second, third) = pair\n",
        "   if first == word and second != word and third != word: # no word repetitions, those would just loop\n",
        "       if len(top) < k or score >= min(top, key = lambda o: o[1])[1]:\n",
        "         top.append((second, score))\n",
        "         top.append((third, score))\n",
        "       if len(bot) < k or score <= max(bot, key = lambda o: o[1])[1]:\n",
        "         bot.append((second, score))\n",
        "         bot.append((third, score))\n",
        "       if len(bot) > k:\n",
        "         # ditch the HIGHEST score from bot(tom)\n",
        "         bot.remove(max(bot, key = lambda o: o[1]))\n",
        "       if len(top) > k:\n",
        "         # ditch the LOWEST score from top\n",
        "         top.remove(min(top, key = lambda o: o[1]))\n",
        "  return (top, bot)"
      ],
      "metadata": {
        "id": "XCS7hzfcCjmk"
      },
      "execution_count": 26,
      "outputs": []
    },
    {
      "cell_type": "code",
      "source": [
        "print(autocomplete('tennis', pmi, k = 3))"
      ],
      "metadata": {
        "colab": {
          "base_uri": "https://localhost:8080/"
        },
        "id": "o77ySR3DDmI_",
        "outputId": "c81f8970-ec70-4c5f-d73d-68fa50abbf21"
      },
      "execution_count": 27,
      "outputs": [
        {
          "output_type": "stream",
          "name": "stdout",
          "text": [
            "([('racketted', 19.482764622578035), ('writer', 19.482764622578035), ('steve', 19.482764622578035)], [('french', 10.978938884582284), ('open', 10.978938884582284), ('club', 10.84251968635569), ('on', 10.84251968635569), ('strings', 10.575874026969515), ('such', 10.575874026969515), ('followed', 10.45485862600815), ('by', 10.45485862600815), ('has', 10.14737426788411), ('been', 10.14737426788411), ('player', 10.105554092189482), ('ever', 10.105554092189482), ('player', 10.105554092189482), ('known', 10.105554092189482), ('according', 10.084020930639841), ('to', 10.084020930639841), ('tournament', 9.9358701626904), ('this', 9.9358701626904), ('and', 9.73289519518119), ('croquet', 9.73289519518119), ('whenever', 9.68024825745681), ('the', 9.68024825745681), ('game', 9.67540970052043), ('during', 9.67540970052043), ('fans', 9.668983431361), ('to', 9.668983431361), ('for', 9.668983431361), ('wta', 9.668983431361), ('when', 9.668983431361), ('an', 9.668983431361), ('tour', 9.649874608413292), ('with', 9.649874608413292), ('hall', 9.64513668940663), ('of', 9.64513668940663), ('it', 9.58794685927009), ('had', 9.58794685927009), ('racket', 9.546126683575466), ('that', 9.546126683575466), ('can', 9.499771047883726), ('be', 9.499771047883726), ('fans', 9.317857695902347), ('and', 9.317857695902347), ('players', 9.268445501777268), ('playing', 9.268445501777268), ('tournaments', 9.253945932082154), ('such', 9.253945932082154), ('balls', 8.820986524806049), ('are', 8.820986524806049), ('was', 8.81742870539286), ('used', 8.81742870539286), ('circuit', 8.73289519518119), ('and', 8.73289519518119), ('club', 8.73289519518119), ('in', 8.73289519518119), ('the', 8.68024825745681), ('third', 8.68024825745681), ('is', 8.660990640607466), ('played', 8.660990640607466), ('strings', 8.557952118972253), ('are', 8.557952118972253), ('and', 8.510502773844742), ('became', 8.510502773844742), ('association', 8.499058429918687), ('to', 8.499058429918687), ('association', 8.370325115796483), ('in', 8.370325115796483), ('players', 8.268445501777268), ('who', 8.268445501777268), ('tournaments', 8.236024024084891), ('are', 8.236024024084891), ('racket', 8.175563813437225), ('is', 8.175563813437225), ('association', 8.147932694460035), ('and', 8.147932694460035), ('court', 8.113167276299357), ('at', 8.113167276299357), ('courts', 8.080818498601499), ('in', 8.080818498601499), ('players', 7.946517406889907), ('have', 7.946517406889907), ('a', 7.863461667162348), ('junior', 7.863461667162348), ('match', 7.812993734052519), ('is', 7.812993734052519), ('players', 7.683483001056114), ('from', 7.683483001056114), ('player', 7.664981500803503), ('has', 7.664981500803503), ('matches', 7.142636348877446), ('of', 7.142636348877446), ('player', 6.9821716766841995), ('of', 6.9821716766841995), ('events', 6.839810399097704), ('in', 6.839810399097704), ('is', 6.812993734052519), ('an', 6.812993734052519), ('the', 6.510323256014498), ('rackets', 6.510323256014498), ('year', 6.510323256014498), ('the', 6.510323256014498), ('player', 6.421055917917414), ('for', 6.421055917917414), ('the', 6.3583201625694485), ('wta', 6.3583201625694485), ('players', 6.18570507076933), ('of', 6.18570507076933), ('the', 5.872893335399208), ('rules', 5.872893335399208), ('during', 5.68024825745681), ('the', 5.68024825745681), ('tournaments', 5.410967100293828), ('and', 5.410967100293828), ('player', 4.970394508907848), ('in', 4.970394508907848), ('for', 4.83104018946997), ('a', 4.83104018946997), ('is', 4.82304739871644), ('a', 4.82304739871644), ('as', 4.753037677468697), ('a', 4.753037677468697), ('from', 4.510323256014498), ('the', 4.510323256014498), ('with', 3.432320744013225), ('the', 3.432320744013225), ('the', 3.0508916373772017), ('players', 3.0508916373772017), ('is', 2.1804023703736064), ('the', 2.1804023703736064), ('in', 1.7377337521175704), ('the', 1.7377337521175704)])\n"
          ]
        }
      ]
    },
    {
      "cell_type": "code",
      "source": [],
      "metadata": {
        "id": "CyVu9tWUDue_"
      },
      "execution_count": 27,
      "outputs": []
    },
    {
      "cell_type": "code",
      "source": [
        "# Auto Complete - Quadgram - single word input"
      ],
      "metadata": {
        "id": "mQ5IFvmFuW7J"
      },
      "execution_count": 28,
      "outputs": []
    },
    {
      "cell_type": "code",
      "source": [
        "tokens = tokenizer.tokenize(article_text.lower()) # all in lower case \n",
        "find = nltk.QuadgramCollocationFinder.from_words(tokens) # of course there is a Quadgram one in NTLK\n",
        "pmi = find.score_ngrams(nltk.QuadgramAssocMeasures().pmi) # score with PMI"
      ],
      "metadata": {
        "id": "qc7LKh7MGI9P"
      },
      "execution_count": 29,
      "outputs": []
    },
    {
      "cell_type": "code",
      "source": [
        "word = 'tennis'\n",
        "for (pair, score) in pmi:\n",
        "  (first, second, third, fourth) = pair\n",
        "  if first == word:\n",
        "    print(second, third, fourth, score)"
      ],
      "metadata": {
        "colab": {
          "base_uri": "https://localhost:8080/"
        },
        "id": "mFZKxgfsGLwq",
        "outputId": "0de5dc08-a714-4a94-cdc5-f37adfb4a871"
      },
      "execution_count": 30,
      "outputs": [
        {
          "output_type": "stream",
          "name": "stdout",
          "text": [
            "writer steve flink 32.81410147887452\n",
            "rating program ntrp 31.814101478874516\n",
            "com panel selected 28.644176477432204\n",
            "rackets wilson head 28.05921397671105\n",
            "after watching british 27.907210883265996\n",
            "magazine selected martina 27.907210883265996\n",
            "most football codes 27.76970735951606\n",
            "ballwas racketted from 27.644176477432204\n",
            "sphairistike this template 27.35466986023722\n",
            "com polled its 27.11366176073342\n",
            "channel ranked williams 26.492173383987154\n",
            "open semiopen closed 26.184744858794907\n",
            "federation itf conducts 25.907210883265996\n",
            "federation itf defines 25.907210883265996\n",
            "federation iltf now 25.814101478874516\n",
            "declined new racket 25.68481846192955\n",
            "scores from zero 25.644176477432204\n",
            "often means having 25.492173383987154\n",
            "balls must conform 25.17024528909979\n",
            "tournament took place 25.141676136903023\n",
            "have changed little 25.09985596120839\n",
            "historian and journalist 24.64919455219883\n",
            "outdoors and accordingly 24.64919455219883\n",
            "rules were violated 24.421784056095756\n",
            "started using this 24.35466986023722\n",
            "club on avenue 24.17385654265217\n",
            "australia australian open 23.96235243745846\n",
            "balls were originally 23.907210883265996\n",
            "tournaments see below 23.737285881823684\n",
            "court owes its 23.721344337954662\n",
            "strings available were 23.644176477432204\n",
            "memorabilia as well 23.436890948485964\n",
            "according to honor 23.415357786936323\n",
            "together these four 23.35466986023722\n",
            "playing nations have 23.322248382544842\n",
            "originated in birmingham 23.28662447281412\n",
            "fans to follow 23.00032028765748\n",
            "when an isolated 23.00032028765748\n",
            "balls were traditionally 22.907210883265996\n",
            "association wta ranking 22.862816763907546\n",
            "a cultural history 22.654230142096125\n",
            "fans and commentators 22.64919455219883\n",
            "players playing exhibition 22.59978235807375\n",
            "tournament necessitates that 22.59735562067921\n",
            "also became popular 22.4753650963006\n",
            "channel published a 22.06926764137497\n",
            "circuit and revenues 22.06423205147767\n",
            "hall of fame 21.97647354570311\n",
            "association to teach 21.83039528621517\n",
            "followed by rafael 21.78619548230463\n",
            "tournament this draw 21.682244518265723\n",
            "professionals atp or 21.639175796373838\n",
            "must use balls 21.469805570958698\n",
            "physique before and 21.327266457311467\n",
            "competitions these tournaments 21.322248382544842\n",
            "match is intended 21.144330590349\n",
            "especially by top 20.97884056024703\n",
            "it had close 20.91928371556657\n",
            "strings are highly 20.889288975268734\n",
            "racket is strung 20.506900669733707\n",
            "club in birmingham 20.479269550756516\n",
            "almost all tennis 20.46426738741727\n",
            "and croquet club 20.25687712942007\n",
            "federation itf was 20.049229888138424\n",
            "association us open 19.955926168299026\n",
            "rules when called 19.90345874840489\n",
            "format is called 19.854823973154012\n",
            "association administers the 19.84166011231098\n",
            "an epitaph in 19.701661972092964\n",
            "with fourteen tournaments 19.65928336982241\n",
            "tournaments are formed 19.567360880381372\n",
            "for wta tour 19.415357786936323\n",
            "and became notable 19.25687712942007\n",
            "racket include a 18.846875220038523\n",
            "player has eight 18.67439026221262\n",
            "association in order 18.531736970650652\n",
            "by participating in 18.42864347768655\n",
            "as a fullmedal 18.08437453376518\n",
            "balls are made 18.06486053985219\n",
            "can be played 17.924217308571688\n",
            "each event is 17.863044479958983\n",
            "stems from the 17.84166011231098\n",
            "withdrew from the 17.84166011231098\n",
            "association wimbledon and 17.778829832615422\n",
            "federation itf and 17.74230395659031\n",
            "game during play 17.68481846192955\n",
            "year the worlds 17.519732017423618\n",
            "and deaf tennis 17.469285462183894\n",
            "is unusual in 17.371741086452072\n",
            "strings such as 17.33735527493505\n",
            "is an olympic 17.336975668291394\n",
            "championships offer the 17.3111453956122\n",
            "players have been 17.19039142193605\n",
            "player ever with 17.18896343504238\n",
            "players who were 17.014819857352595\n",
            "during the late 17.01158511375329\n",
            "player known by 16.993947452637236\n",
            "masters series and 16.861291992807395\n",
            "association now the 16.84166011231098\n",
            "mind with the 16.763657600309706\n",
            "the rackets must 16.519732017423618\n",
            "whenever the player 16.441729505422344\n",
            "players enjoy the 16.382228493673683\n",
            "federation itf the 16.104694518144775\n",
            "tournaments such as 16.015427180047688\n",
            "players from all 15.844894855910283\n",
            "was used as 15.57890995335839\n",
            "racket that is 15.37761765278874\n",
            "tournaments and junior 15.282872337953012\n",
            "organization in the 15.069070608414052\n",
            "for a year 14.99245204432414\n",
            "tour with a 14.821340127931386\n",
            "with the beginning 14.763657600309706\n",
            "is played on 14.57447498201805\n",
            "french open the 14.50775937575754\n",
            "player of all 14.406617937372168\n",
            "from the french 14.382228493673683\n",
            "players of all 14.347116925623506\n",
            "is played with 14.159437482739207\n",
            "is played by 13.964421500334065\n",
            "the third and 13.846678187077604\n",
            "balls tennis is 13.812418406889012\n",
            "the wta tournaments 13.782766423257414\n",
            "a junior is 13.694952636375625\n",
            "has been the 13.676194759059367\n",
            "is a racket 13.347029332955316\n",
            "the players feet 13.060300398786321\n",
            "is a shot 12.694952636375625\n",
            "is the return 12.511739226670088\n",
            "association and the 11.676753185635292\n",
            "court at the 11.641987767474617\n",
            "courts in the 11.609638989776755\n",
            "in the four 11.609638989776755\n",
            "the rules of 10.95156475924544\n",
            "matches of the 10.671456840052706\n",
            "events in the 10.36863089027296\n",
            "player for the 9.94987640909267\n",
            "player of the 9.189064072972098\n",
            "player in the 8.499215000083105\n"
          ]
        }
      ]
    },
    {
      "cell_type": "code",
      "source": [
        "def autocomplete(word, scoring, k = 4):\n",
        "  top = []\n",
        "  bot = []\n",
        "  for (pair, score) in scoring:\n",
        "   (first, second, third, fourth) = pair\n",
        "   if first == word and word not in (second, third, fourth): # no word repetitions, those would just loop\n",
        "       if len(top) < k or score >= min(top, key = lambda o: o[1])[1]:\n",
        "         top.append((second, score))\n",
        "         top.append((third, score))\n",
        "         top.append((fourth, score))\n",
        "       if len(bot) < k or score <= max(bot, key = lambda o: o[1])[1]:\n",
        "         bot.append((second, score))\n",
        "         bot.append((third, score))\n",
        "         bot.append((fourth, score))\n",
        "       if len(bot) > k:\n",
        "         # ditch the HIGHEST score from bot(tom)\n",
        "         bot.remove(max(bot, key = lambda o: o[1]))\n",
        "       if len(top) > k:\n",
        "         # ditch the LOWEST score from top\n",
        "         top.remove(min(top, key = lambda o: o[1]))\n",
        "  return (top, bot)"
      ],
      "metadata": {
        "id": "V1H_fzMyGQod"
      },
      "execution_count": 31,
      "outputs": []
    },
    {
      "cell_type": "code",
      "source": [
        "print(autocomplete('tennis', pmi, k = 4))"
      ],
      "metadata": {
        "colab": {
          "base_uri": "https://localhost:8080/"
        },
        "id": "XojYKhJNGbjS",
        "outputId": "6bce2fc6-8ce5-4127-cb2f-b4e7bb4053ce"
      },
      "execution_count": 32,
      "outputs": [
        {
          "output_type": "stream",
          "name": "stdout",
          "text": [
            "([('writer', 32.81410147887452), ('steve', 32.81410147887452), ('flink', 32.81410147887452), ('ntrp', 31.814101478874516)], [('channel', 22.06926764137497), ('published', 22.06926764137497), ('a', 22.06926764137497), ('circuit', 22.06423205147767), ('and', 22.06423205147767), ('revenues', 22.06423205147767), ('hall', 21.97647354570311), ('of', 21.97647354570311), ('fame', 21.97647354570311), ('association', 21.83039528621517), ('to', 21.83039528621517), ('teach', 21.83039528621517), ('followed', 21.78619548230463), ('by', 21.78619548230463), ('rafael', 21.78619548230463), ('tournament', 21.682244518265723), ('this', 21.682244518265723), ('draw', 21.682244518265723), ('professionals', 21.639175796373838), ('atp', 21.639175796373838), ('or', 21.639175796373838), ('must', 21.469805570958698), ('use', 21.469805570958698), ('balls', 21.469805570958698), ('physique', 21.327266457311467), ('before', 21.327266457311467), ('and', 21.327266457311467), ('competitions', 21.322248382544842), ('these', 21.322248382544842), ('tournaments', 21.322248382544842), ('match', 21.144330590349), ('is', 21.144330590349), ('intended', 21.144330590349), ('especially', 20.97884056024703), ('by', 20.97884056024703), ('top', 20.97884056024703), ('it', 20.91928371556657), ('had', 20.91928371556657), ('close', 20.91928371556657), ('strings', 20.889288975268734), ('are', 20.889288975268734), ('highly', 20.889288975268734), ('racket', 20.506900669733707), ('is', 20.506900669733707), ('strung', 20.506900669733707), ('club', 20.479269550756516), ('in', 20.479269550756516), ('birmingham', 20.479269550756516), ('and', 20.25687712942007), ('croquet', 20.25687712942007), ('club', 20.25687712942007), ('federation', 20.049229888138424), ('itf', 20.049229888138424), ('was', 20.049229888138424), ('association', 19.955926168299026), ('us', 19.955926168299026), ('open', 19.955926168299026), ('rules', 19.90345874840489), ('when', 19.90345874840489), ('called', 19.90345874840489), ('format', 19.854823973154012), ('is', 19.854823973154012), ('called', 19.854823973154012), ('association', 19.84166011231098), ('administers', 19.84166011231098), ('the', 19.84166011231098), ('an', 19.701661972092964), ('epitaph', 19.701661972092964), ('in', 19.701661972092964), ('with', 19.65928336982241), ('fourteen', 19.65928336982241), ('tournaments', 19.65928336982241), ('tournaments', 19.567360880381372), ('are', 19.567360880381372), ('formed', 19.567360880381372), ('for', 19.415357786936323), ('wta', 19.415357786936323), ('tour', 19.415357786936323), ('and', 19.25687712942007), ('became', 19.25687712942007), ('notable', 19.25687712942007), ('racket', 18.846875220038523), ('include', 18.846875220038523), ('a', 18.846875220038523), ('player', 18.67439026221262), ('has', 18.67439026221262), ('eight', 18.67439026221262), ('association', 18.531736970650652), ('in', 18.531736970650652), ('order', 18.531736970650652), ('by', 18.42864347768655), ('participating', 18.42864347768655), ('in', 18.42864347768655), ('as', 18.08437453376518), ('a', 18.08437453376518), ('fullmedal', 18.08437453376518), ('balls', 18.06486053985219), ('are', 18.06486053985219), ('made', 18.06486053985219), ('can', 17.924217308571688), ('be', 17.924217308571688), ('played', 17.924217308571688), ('each', 17.863044479958983), ('event', 17.863044479958983), ('is', 17.863044479958983), ('stems', 17.84166011231098), ('from', 17.84166011231098), ('the', 17.84166011231098), ('withdrew', 17.84166011231098), ('from', 17.84166011231098), ('the', 17.84166011231098), ('association', 17.778829832615422), ('wimbledon', 17.778829832615422), ('and', 17.778829832615422), ('federation', 17.74230395659031), ('itf', 17.74230395659031), ('and', 17.74230395659031), ('game', 17.68481846192955), ('during', 17.68481846192955), ('play', 17.68481846192955), ('year', 17.519732017423618), ('the', 17.519732017423618), ('worlds', 17.519732017423618), ('is', 17.371741086452072), ('unusual', 17.371741086452072), ('in', 17.371741086452072), ('strings', 17.33735527493505), ('such', 17.33735527493505), ('as', 17.33735527493505), ('is', 17.336975668291394), ('an', 17.336975668291394), ('olympic', 17.336975668291394), ('championships', 17.3111453956122), ('offer', 17.3111453956122), ('the', 17.3111453956122), ('players', 17.19039142193605), ('have', 17.19039142193605), ('been', 17.19039142193605), ('player', 17.18896343504238), ('ever', 17.18896343504238), ('with', 17.18896343504238), ('players', 17.014819857352595), ('who', 17.014819857352595), ('were', 17.014819857352595), ('during', 17.01158511375329), ('the', 17.01158511375329), ('late', 17.01158511375329), ('player', 16.993947452637236), ('known', 16.993947452637236), ('by', 16.993947452637236), ('masters', 16.861291992807395), ('series', 16.861291992807395), ('and', 16.861291992807395), ('association', 16.84166011231098), ('now', 16.84166011231098), ('the', 16.84166011231098), ('mind', 16.763657600309706), ('with', 16.763657600309706), ('the', 16.763657600309706), ('the', 16.519732017423618), ('rackets', 16.519732017423618), ('must', 16.519732017423618), ('whenever', 16.441729505422344), ('the', 16.441729505422344), ('player', 16.441729505422344), ('players', 16.382228493673683), ('enjoy', 16.382228493673683), ('the', 16.382228493673683), ('federation', 16.104694518144775), ('itf', 16.104694518144775), ('the', 16.104694518144775), ('tournaments', 16.015427180047688), ('such', 16.015427180047688), ('as', 16.015427180047688), ('players', 15.844894855910283), ('from', 15.844894855910283), ('all', 15.844894855910283), ('was', 15.57890995335839), ('used', 15.57890995335839), ('as', 15.57890995335839), ('racket', 15.37761765278874), ('that', 15.37761765278874), ('is', 15.37761765278874), ('tournaments', 15.282872337953012), ('and', 15.282872337953012), ('junior', 15.282872337953012), ('organization', 15.069070608414052), ('in', 15.069070608414052), ('the', 15.069070608414052), ('for', 14.99245204432414), ('a', 14.99245204432414), ('year', 14.99245204432414), ('tour', 14.821340127931386), ('with', 14.821340127931386), ('a', 14.821340127931386), ('with', 14.763657600309706), ('the', 14.763657600309706), ('beginning', 14.763657600309706), ('is', 14.57447498201805), ('played', 14.57447498201805), ('on', 14.57447498201805), ('french', 14.50775937575754), ('open', 14.50775937575754), ('the', 14.50775937575754), ('player', 14.406617937372168), ('of', 14.406617937372168), ('all', 14.406617937372168), ('from', 14.382228493673683), ('the', 14.382228493673683), ('french', 14.382228493673683), ('players', 14.347116925623506), ('of', 14.347116925623506), ('all', 14.347116925623506), ('is', 14.159437482739207), ('played', 14.159437482739207), ('with', 14.159437482739207), ('is', 13.964421500334065), ('played', 13.964421500334065), ('by', 13.964421500334065), ('the', 13.846678187077604), ('third', 13.846678187077604), ('and', 13.846678187077604), ('the', 13.782766423257414), ('wta', 13.782766423257414), ('tournaments', 13.782766423257414), ('a', 13.694952636375625), ('junior', 13.694952636375625), ('is', 13.694952636375625), ('has', 13.676194759059367), ('been', 13.676194759059367), ('the', 13.676194759059367), ('is', 13.347029332955316), ('a', 13.347029332955316), ('racket', 13.347029332955316), ('the', 13.060300398786321), ('players', 13.060300398786321), ('feet', 13.060300398786321), ('is', 12.694952636375625), ('a', 12.694952636375625), ('shot', 12.694952636375625), ('is', 12.511739226670088), ('the', 12.511739226670088), ('return', 12.511739226670088), ('association', 11.676753185635292), ('and', 11.676753185635292), ('the', 11.676753185635292), ('court', 11.641987767474617), ('at', 11.641987767474617), ('the', 11.641987767474617), ('courts', 11.609638989776755), ('in', 11.609638989776755), ('the', 11.609638989776755), ('in', 11.609638989776755), ('the', 11.609638989776755), ('four', 11.609638989776755), ('the', 10.95156475924544), ('rules', 10.95156475924544), ('of', 10.95156475924544), ('matches', 10.671456840052706), ('of', 10.671456840052706), ('the', 10.671456840052706), ('events', 10.36863089027296), ('in', 10.36863089027296), ('the', 10.36863089027296), ('player', 9.94987640909267), ('for', 9.94987640909267), ('the', 9.94987640909267), ('player', 9.189064072972098), ('of', 9.189064072972098), ('the', 9.189064072972098), ('player', 8.499215000083105), ('in', 8.499215000083105), ('the', 8.499215000083105)])\n"
          ]
        }
      ]
    },
    {
      "cell_type": "code",
      "source": [],
      "metadata": {
        "id": "513ZplunWsG2"
      },
      "execution_count": 32,
      "outputs": []
    },
    {
      "cell_type": "code",
      "source": [
        "# Auto Complete - Bigram - 2 words input"
      ],
      "metadata": {
        "id": "wiaH8-p0uaap"
      },
      "execution_count": 33,
      "outputs": []
    },
    {
      "cell_type": "code",
      "source": [
        "ngrams = {}\n",
        "words = 2\n",
        "\n",
        "words_tokens = nltk.word_tokenize(article_text)\n",
        "for i in range(len(words_tokens)-words):\n",
        "    seq = ' '.join(words_tokens[i:i+words])\n",
        "    # print(seq)\n",
        "    if  seq not in ngrams.keys():\n",
        "        ngrams[seq] = []\n",
        "    ngrams[seq].append(words_tokens[i+words])"
      ],
      "metadata": {
        "id": "3_rqG7WJl-vg"
      },
      "execution_count": 34,
      "outputs": []
    },
    {
      "cell_type": "code",
      "source": [
        "words_tokens[0:words]"
      ],
      "metadata": {
        "colab": {
          "base_uri": "https://localhost:8080/"
        },
        "id": "9UL13fWRpNse",
        "outputId": "56671d53-a05c-4693-cdb3-7fe42d6f9605"
      },
      "execution_count": 35,
      "outputs": [
        {
          "output_type": "execute_result",
          "data": {
            "text/plain": [
              "['tennis', 'is']"
            ]
          },
          "metadata": {},
          "execution_count": 35
        }
      ]
    },
    {
      "cell_type": "code",
      "source": [
        "curr_sequence = ' '.join(['tennis', 'is'])\n",
        "output = curr_sequence"
      ],
      "metadata": {
        "id": "6bBAnutYl-ss"
      },
      "execution_count": 36,
      "outputs": []
    },
    {
      "cell_type": "code",
      "source": [
        "curr_sequence"
      ],
      "metadata": {
        "colab": {
          "base_uri": "https://localhost:8080/",
          "height": 35
        },
        "id": "XZBmxjzMpcp7",
        "outputId": "4824eda6-4a93-4d4b-8de1-b8636d80fa1e"
      },
      "execution_count": 37,
      "outputs": [
        {
          "output_type": "execute_result",
          "data": {
            "text/plain": [
              "'tennis is'"
            ],
            "application/vnd.google.colaboratory.intrinsic+json": {
              "type": "string"
            }
          },
          "metadata": {},
          "execution_count": 37
        }
      ]
    },
    {
      "cell_type": "code",
      "source": [
        "for i in range(50):\n",
        "    if curr_sequence not in ngrams.keys():\n",
        "        break\n",
        "    possible_words = ngrams[curr_sequence]\n",
        "    next_word = possible_words[random.randrange(len(possible_words))]\n",
        "    output += ' ' + next_word\n",
        "    seq_words = nltk.word_tokenize(output)\n",
        "    curr_sequence = ' '.join(seq_words[len(seq_words)-words:len(seq_words)])\n",
        "\n",
        "print(output)"
      ],
      "metadata": {
        "colab": {
          "base_uri": "https://localhost:8080/"
        },
        "id": "QZzTc5PPl-pw",
        "outputId": "927847d4-7bb7-47ba-a929-fe048eab8155"
      },
      "execution_count": 38,
      "outputs": [
        {
          "output_type": "stream",
          "name": "stdout",
          "text": [
            "tennis is played the set is referred to as either the hash mark or the line upon its first championships at wimbledon in . the player has eight basic shots in his or her first serve and gets a let or net service which is void and the server will serve although\n"
          ]
        }
      ]
    },
    {
      "cell_type": "code",
      "source": [],
      "metadata": {
        "id": "eIPBvdtBl-hQ"
      },
      "execution_count": 38,
      "outputs": []
    },
    {
      "cell_type": "code",
      "source": [
        "# Auto Complete - Trigram - 3 words input"
      ],
      "metadata": {
        "id": "1P0v3zZ6l-eW"
      },
      "execution_count": 39,
      "outputs": []
    },
    {
      "cell_type": "code",
      "source": [
        "ngrams = {}\n",
        "words = 3\n",
        "\n",
        "words_tokens = nltk.word_tokenize(article_text)\n",
        "for i in range(len(words_tokens)-words):\n",
        "    seq = ' '.join(words_tokens[i:i+words])\n",
        "    # print(seq)\n",
        "    if  seq not in ngrams.keys():\n",
        "        ngrams[seq] = []\n",
        "    ngrams[seq].append(words_tokens[i+words])"
      ],
      "metadata": {
        "id": "AaS-mI7is9kH"
      },
      "execution_count": 40,
      "outputs": []
    },
    {
      "cell_type": "code",
      "source": [
        "curr_sequence = ' '.join(['tennis', 'is', 'a'])\n",
        "output = curr_sequence"
      ],
      "metadata": {
        "id": "kG1FSDLetK3V"
      },
      "execution_count": 41,
      "outputs": []
    },
    {
      "cell_type": "code",
      "source": [
        "for i in range(50):\n",
        "    if curr_sequence not in ngrams.keys():\n",
        "        break\n",
        "    possible_words = ngrams[curr_sequence]\n",
        "    next_word = possible_words[random.randrange(len(possible_words))]\n",
        "    output += ' ' + next_word\n",
        "    seq_words = nltk.word_tokenize(output)\n",
        "    curr_sequence = ' '.join(seq_words[len(seq_words)-words:len(seq_words)])\n",
        "\n",
        "print(output)"
      ],
      "metadata": {
        "colab": {
          "base_uri": "https://localhost:8080/"
        },
        "id": "nI6WCzwPs9hM",
        "outputId": "fb484feb-8f0f-48af-a575-5ee31ba1377d"
      },
      "execution_count": 42,
      "outputs": [
        {
          "output_type": "stream",
          "name": "stdout",
          "text": [
            "tennis is a racket sport that is played either individually against a single opponent singles or between two teams of two players each doubles . each player uses a tennis racket that is strung with cord to strike a hollow rubber ball covered with felt over or around a net and into the\n"
          ]
        }
      ]
    },
    {
      "cell_type": "code",
      "source": [],
      "metadata": {
        "id": "xGdpOgQ5s9eP"
      },
      "execution_count": 42,
      "outputs": []
    },
    {
      "cell_type": "code",
      "source": [
        "# Auto Complete - Quadgram - 4 words input"
      ],
      "metadata": {
        "id": "5-wsIGo6l-bX"
      },
      "execution_count": 43,
      "outputs": []
    },
    {
      "cell_type": "code",
      "source": [
        "ngrams = {}\n",
        "words = 4\n",
        "\n",
        "words_tokens = nltk.word_tokenize(article_text)\n",
        "for i in range(len(words_tokens)-words):\n",
        "    seq = ' '.join(words_tokens[i:i+words])\n",
        "    # print(seq)\n",
        "    if  seq not in ngrams.keys():\n",
        "        ngrams[seq] = []\n",
        "    ngrams[seq].append(words_tokens[i+words])"
      ],
      "metadata": {
        "id": "fuZoe5kJtVzJ"
      },
      "execution_count": 44,
      "outputs": []
    },
    {
      "cell_type": "code",
      "source": [
        "curr_sequence = ' '.join(['tennis', 'is', 'a', 'racket'])\n",
        "output = curr_sequence"
      ],
      "metadata": {
        "id": "cW2HMVD1tVwP"
      },
      "execution_count": 45,
      "outputs": []
    },
    {
      "cell_type": "code",
      "source": [
        "for i in range(50):\n",
        "    if curr_sequence not in ngrams.keys():\n",
        "        break\n",
        "    possible_words = ngrams[curr_sequence]\n",
        "    next_word = possible_words[random.randrange(len(possible_words))]\n",
        "    output += ' ' + next_word\n",
        "    seq_words = nltk.word_tokenize(output)\n",
        "    curr_sequence = ' '.join(seq_words[len(seq_words)-words:len(seq_words)])\n",
        "\n",
        "print(output)"
      ],
      "metadata": {
        "colab": {
          "base_uri": "https://localhost:8080/"
        },
        "id": "_LRic2BDtVtl",
        "outputId": "394c91eb-a87d-4931-b171-8f789bf806dc"
      },
      "execution_count": 46,
      "outputs": [
        {
          "output_type": "stream",
          "name": "stdout",
          "text": [
            "tennis is a racket sport that is played either individually against a single opponent singles or between two teams of two players each doubles . each player uses a tennis racket that is strung with cord to strike a hollow rubber ball covered with felt over or around a net and into the opponents\n"
          ]
        }
      ]
    },
    {
      "cell_type": "code",
      "source": [],
      "metadata": {
        "id": "Y8RbtDG_tVqi"
      },
      "execution_count": 46,
      "outputs": []
    },
    {
      "cell_type": "code",
      "source": [
        "# Question 3"
      ],
      "metadata": {
        "id": "HqkZNITbWr_M"
      },
      "execution_count": 47,
      "outputs": []
    },
    {
      "cell_type": "code",
      "source": [
        "nltk.download('names')"
      ],
      "metadata": {
        "colab": {
          "base_uri": "https://localhost:8080/"
        },
        "id": "aPVEUu4uJswv",
        "outputId": "3adaa25f-9e6d-4dee-96d4-2265113d8ea6"
      },
      "execution_count": 48,
      "outputs": [
        {
          "output_type": "stream",
          "name": "stderr",
          "text": [
            "[nltk_data] Downloading package names to /root/nltk_data...\n",
            "[nltk_data]   Package names is already up-to-date!\n"
          ]
        },
        {
          "output_type": "execute_result",
          "data": {
            "text/plain": [
              "True"
            ]
          },
          "metadata": {},
          "execution_count": 48
        }
      ]
    },
    {
      "cell_type": "code",
      "source": [
        "from nltk.corpus import names"
      ],
      "metadata": {
        "id": "VnPKU4IdKHmO"
      },
      "execution_count": 49,
      "outputs": []
    },
    {
      "cell_type": "code",
      "source": [
        "name_corpus = names.words()\n",
        "name_corpus_series = pandas.Series(name_corpus)\n",
        "name_corpus_series"
      ],
      "metadata": {
        "colab": {
          "base_uri": "https://localhost:8080/"
        },
        "id": "ozPmebcDKOfT",
        "outputId": "f4d80324-2de6-443b-fe0f-023522851767"
      },
      "execution_count": 50,
      "outputs": [
        {
          "output_type": "execute_result",
          "data": {
            "text/plain": [
              "0       Abagael\n",
              "1       Abagail\n",
              "2          Abbe\n",
              "3         Abbey\n",
              "4          Abbi\n",
              "         ...   \n",
              "7939       Zeus\n",
              "7940      Zippy\n",
              "7941     Zollie\n",
              "7942      Zolly\n",
              "7943      Zorro\n",
              "Length: 7944, dtype: object"
            ]
          },
          "metadata": {},
          "execution_count": 50
        }
      ]
    },
    {
      "cell_type": "code",
      "source": [
        "name_corpus_series = name_corpus_series.str.lower()"
      ],
      "metadata": {
        "id": "5YX8SyuRWwNV"
      },
      "execution_count": 51,
      "outputs": []
    },
    {
      "cell_type": "code",
      "source": [],
      "metadata": {
        "id": "jFMSstZbWwE2"
      },
      "execution_count": 51,
      "outputs": []
    },
    {
      "cell_type": "code",
      "source": [
        "def autocomplete(word, scoring, k = 4):\n",
        "  top = []\n",
        "  bot = []\n",
        "  for (pair, score) in scoring:\n",
        "   (first, second, third, fourth) = pair\n",
        "   if first == word and word not in (second, third, fourth) and not name_corpus_series.str.contains(first).any() \\\n",
        "   and not name_corpus_series.str.contains(second).any() \\\n",
        "   and not name_corpus_series.str.contains(third).any() \\\n",
        "   and not name_corpus_series.str.contains(fourth).any(): # no word repetitions, those would just loop\n",
        "       if len(top) < k or score >= min(top, key = lambda o: o[1])[1]:\n",
        "         top.append((second, score))\n",
        "         top.append((third, score))\n",
        "         top.append((fourth, score))\n",
        "       if len(bot) < k or score <= max(bot, key = lambda o: o[1])[1]:\n",
        "         bot.append((second, score))\n",
        "         bot.append((third, score))\n",
        "         bot.append((fourth, score))\n",
        "       if len(bot) > k:\n",
        "         # ditch the HIGHEST score from bot(tom)\n",
        "         bot.remove(max(bot, key = lambda o: o[1]))\n",
        "       if len(top) > k:\n",
        "         # ditch the LOWEST score from top\n",
        "         top.remove(min(top, key = lambda o: o[1]))\n",
        "  return (top, bot)"
      ],
      "metadata": {
        "id": "oPWqVdqFLnEP"
      },
      "execution_count": 52,
      "outputs": []
    },
    {
      "cell_type": "code",
      "source": [
        "print(autocomplete('tennis', pmi, k = 4))"
      ],
      "metadata": {
        "colab": {
          "base_uri": "https://localhost:8080/"
        },
        "id": "ICa5B_AAQjwV",
        "outputId": "b428aae8-20f6-44bb-b30c-9db34c82e23e"
      },
      "execution_count": 53,
      "outputs": [
        {
          "output_type": "stream",
          "name": "stdout",
          "text": [
            "([('rating', 31.814101478874516), ('program', 31.814101478874516), ('ntrp', 31.814101478874516), ('british', 27.907210883265996)], [('conducts', 25.907210883265996), ('federation', 25.907210883265996), ('itf', 25.907210883265996), ('defines', 25.907210883265996), ('federation', 25.814101478874516), ('iltf', 25.814101478874516), ('now', 25.814101478874516), ('scores', 25.644176477432204), ('from', 25.644176477432204), ('zero', 25.644176477432204), ('often', 25.492173383987154), ('means', 25.492173383987154), ('having', 25.492173383987154), ('tournament', 25.141676136903023), ('took', 25.141676136903023), ('place', 25.141676136903023), ('started', 24.35466986023722), ('using', 24.35466986023722), ('this', 24.35466986023722), ('australia', 23.96235243745846), ('australian', 23.96235243745846), ('open', 23.96235243745846), ('together', 23.35466986023722), ('these', 23.35466986023722), ('four', 23.35466986023722), ('association', 22.862816763907546), ('wta', 22.862816763907546), ('ranking', 22.862816763907546), ('players', 22.59978235807375), ('playing', 22.59978235807375), ('exhibition', 22.59978235807375), ('tournament', 21.682244518265723), ('this', 21.682244518265723), ('draw', 21.682244518265723), ('competitions', 21.322248382544842), ('these', 21.322248382544842), ('tournaments', 21.322248382544842), ('rules', 19.90345874840489), ('when', 19.90345874840489), ('called', 19.90345874840489), ('with', 19.65928336982241), ('fourteen', 19.65928336982241), ('tournaments', 19.65928336982241)])\n"
          ]
        }
      ]
    },
    {
      "cell_type": "code",
      "source": [],
      "metadata": {
        "id": "8G1C36lKY1Pr"
      },
      "execution_count": 53,
      "outputs": []
    },
    {
      "cell_type": "code",
      "source": [],
      "metadata": {
        "id": "-8Bk3e87jH9e"
      },
      "execution_count": 53,
      "outputs": []
    }
  ]
}