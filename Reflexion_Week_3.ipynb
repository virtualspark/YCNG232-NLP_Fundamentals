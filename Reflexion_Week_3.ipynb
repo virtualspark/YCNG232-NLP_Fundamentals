{
  "nbformat": 4,
  "nbformat_minor": 0,
  "metadata": {
    "colab": {
      "provenance": [],
      "collapsed_sections": [],
      "authorship_tag": "ABX9TyO0hTOAOfbeZ31x32nQ7ZhY",
      "include_colab_link": true
    },
    "kernelspec": {
      "name": "python3",
      "display_name": "Python 3"
    },
    "language_info": {
      "name": "python"
    }
  },
  "cells": [
    {
      "cell_type": "markdown",
      "metadata": {
        "id": "view-in-github",
        "colab_type": "text"
      },
      "source": [
        "<a href=\"https://colab.research.google.com/github/virtualspark/YCNG232-NLP_Fundamentals/blob/main/Reflexion_Week_3.ipynb\" target=\"_parent\"><img src=\"https://colab.research.google.com/assets/colab-badge.svg\" alt=\"Open In Colab\"/></a>"
      ]
    },
    {
      "cell_type": "code",
      "source": [
        "%load_ext rpy2.ipython"
      ],
      "metadata": {
        "id": "aTPgjTCnPbqQ"
      },
      "execution_count": 1,
      "outputs": []
    },
    {
      "cell_type": "code",
      "execution_count": 2,
      "metadata": {
        "colab": {
          "base_uri": "https://localhost:8080/"
        },
        "id": "zfeP_zkVPFWJ",
        "outputId": "a02e8885-5cd7-4a2d-987e-c3648f3ae0aa"
      },
      "outputs": [
        {
          "output_type": "stream",
          "name": "stdout",
          "text": [
            "NULL\n"
          ]
        }
      ],
      "source": [
        "%%R\n",
        "#install.packages(\"tidytext\") \n",
        "#install.packages(\"tm\") \n",
        "#install.packages(\"textdata\")"
      ]
    },
    {
      "cell_type": "code",
      "source": [
        "%%R\n",
        "library(tidytext)\n",
        "library(textdata)\n",
        "library(dplyr)"
      ],
      "metadata": {
        "colab": {
          "base_uri": "https://localhost:8080/"
        },
        "id": "ZHS14MMVPOYq",
        "outputId": "969a62e4-4064-42f8-c416-d542b2dc6eea"
      },
      "execution_count": 3,
      "outputs": [
        {
          "output_type": "stream",
          "name": "stderr",
          "text": [
            "WARNING:rpy2.rinterface_lib.callbacks:R[write to console]: \n",
            "Attaching package: ‘dplyr’\n",
            "\n",
            "\n",
            "WARNING:rpy2.rinterface_lib.callbacks:R[write to console]: The following objects are masked from ‘package:stats’:\n",
            "\n",
            "    filter, lag\n",
            "\n",
            "\n",
            "WARNING:rpy2.rinterface_lib.callbacks:R[write to console]: The following objects are masked from ‘package:base’:\n",
            "\n",
            "    intersect, setdiff, setequal, union\n",
            "\n",
            "\n"
          ]
        }
      ]
    },
    {
      "cell_type": "code",
      "source": [
        "%%R\n",
        "# s1 assigns a category to each\n",
        "s1 <- get_sentiments(\"nrc\")\n",
        "head(s1, 10)\n",
        "# s1 %>% count(sentiment)"
      ],
      "metadata": {
        "colab": {
          "base_uri": "https://localhost:8080/"
        },
        "id": "kF8rqn_RQHCZ",
        "outputId": "65051a93-c6a1-4148-c40c-a279252a2739"
      },
      "execution_count": 4,
      "outputs": [
        {
          "output_type": "stream",
          "name": "stdout",
          "text": [
            "# A tibble: 10 × 2\n",
            "   word        sentiment\n",
            "   <chr>       <chr>    \n",
            " 1 abacus      trust    \n",
            " 2 abandon     fear     \n",
            " 3 abandon     negative \n",
            " 4 abandon     sadness  \n",
            " 5 abandoned   anger    \n",
            " 6 abandoned   fear     \n",
            " 7 abandoned   negative \n",
            " 8 abandoned   sadness  \n",
            " 9 abandonment anger    \n",
            "10 abandonment fear     \n"
          ]
        }
      ]
    },
    {
      "cell_type": "code",
      "source": [
        "%%R\n",
        "# s2 assigns a numeric score\n",
        "s2 <- get_sentiments(\"afinn\")\n",
        "head(s2)\n",
        "s2 %>% count(value)"
      ],
      "metadata": {
        "colab": {
          "base_uri": "https://localhost:8080/"
        },
        "id": "7Yuiqt78Q5is",
        "outputId": "5b78b72c-7339-404f-f5d9-14eba4b7ed15"
      },
      "execution_count": 5,
      "outputs": [
        {
          "output_type": "stream",
          "name": "stdout",
          "text": [
            "# A tibble: 11 × 2\n",
            "   value     n\n",
            "   <dbl> <int>\n",
            " 1    -5    16\n",
            " 2    -4    43\n",
            " 3    -3   264\n",
            " 4    -2   966\n",
            " 5    -1   309\n",
            " 6     0     1\n",
            " 7     1   208\n",
            " 8     2   448\n",
            " 9     3   172\n",
            "10     4    45\n",
            "11     5     5\n"
          ]
        }
      ]
    },
    {
      "cell_type": "code",
      "source": [
        "%%R\n",
        "library(tidyr)\n",
        "# s3 is just positive/negative\n",
        "s3 <- get_sentiments(\"bing\")\n",
        "head(s3)\n",
        "# s3 %>% count(sentiment)\n",
        "# count_s3_sentiment <- s3 %>% count(sentiment) %>% mutate(percent = n/sum(n)) %>% select(-n)\n",
        "# head(count_s3_sentiment)"
      ],
      "metadata": {
        "colab": {
          "base_uri": "https://localhost:8080/"
        },
        "id": "Z7SURUA8QK7J",
        "outputId": "767f4cc4-e8c4-4732-96b3-0ec9f51f3424"
      },
      "execution_count": 6,
      "outputs": [
        {
          "output_type": "stream",
          "name": "stdout",
          "text": [
            "# A tibble: 6 × 2\n",
            "  word       sentiment\n",
            "  <chr>      <chr>    \n",
            "1 2-faces    negative \n",
            "2 abnormal   negative \n",
            "3 abolish    negative \n",
            "4 abominable negative \n",
            "5 abominably negative \n",
            "6 abominate  negative \n"
          ]
        }
      ]
    },
    {
      "cell_type": "code",
      "source": [
        "%%R\n",
        "s4 <- get_sentiments(\"loughran\")\n",
        "head(s4,10)\n",
        "# s4 %>% count(sentiment)"
      ],
      "metadata": {
        "colab": {
          "base_uri": "https://localhost:8080/"
        },
        "id": "KfRkVoLvQzUK",
        "outputId": "363cbcb7-4b33-47e8-9a83-d034f8903492"
      },
      "execution_count": 7,
      "outputs": [
        {
          "output_type": "stream",
          "name": "stdout",
          "text": [
            "# A tibble: 10 × 2\n",
            "   word         sentiment\n",
            "   <chr>        <chr>    \n",
            " 1 abandon      negative \n",
            " 2 abandoned    negative \n",
            " 3 abandoning   negative \n",
            " 4 abandonment  negative \n",
            " 5 abandonments negative \n",
            " 6 abandons     negative \n",
            " 7 abdicated    negative \n",
            " 8 abdicates    negative \n",
            " 9 abdicating   negative \n",
            "10 abdication   negative \n"
          ]
        }
      ]
    },
    {
      "cell_type": "code",
      "source": [
        "# Question 1 - Combining 3 lexicons (s1, s2 and s3)"
      ],
      "metadata": {
        "id": "HQEMsXUPab0G"
      },
      "execution_count": 8,
      "outputs": []
    },
    {
      "cell_type": "code",
      "source": [
        "%%R\n",
        "s1_s3 <- rbind(s1, s3)\n",
        "s1_s3_cleaned <- s1_s3[order(s1_s3$word),] \n",
        "s1_s3_cleaned <- s1_s3_cleaned[!duplicated(s1_s3_cleaned), ]"
      ],
      "metadata": {
        "id": "2ytL5BMNRIFC"
      },
      "execution_count": 9,
      "outputs": []
    },
    {
      "cell_type": "code",
      "source": [
        "%%R\n",
        "head(s1_s3_cleaned, 20)\n",
        "s1_s3_cleaned %>% count(sentiment)"
      ],
      "metadata": {
        "colab": {
          "base_uri": "https://localhost:8080/"
        },
        "id": "raLj60DXaQEM",
        "outputId": "3b1f4e11-f100-4424-f1f5-01f26a987cec"
      },
      "execution_count": 10,
      "outputs": [
        {
          "output_type": "stream",
          "name": "stdout",
          "text": [
            "# A tibble: 10 × 2\n",
            "   sentiment        n\n",
            "   <chr>        <int>\n",
            " 1 anger         1245\n",
            " 2 anticipation   837\n",
            " 3 disgust       1056\n",
            " 4 fear          1474\n",
            " 5 joy            687\n",
            " 6 negative      6425\n",
            " 7 positive      3632\n",
            " 8 sadness       1187\n",
            " 9 surprise       532\n",
            "10 trust         1230\n"
          ]
        }
      ]
    },
    {
      "cell_type": "code",
      "source": [
        "%%R\n",
        "s1_s2_s3 <- merge(s1_s3_cleaned, s2, by=\"word\", all=T)\n",
        "head(s1_s2_s3, 20)"
      ],
      "metadata": {
        "colab": {
          "base_uri": "https://localhost:8080/"
        },
        "id": "ItqVNROkaQ69",
        "outputId": "fad10b02-901d-451c-eba6-1a284954bce1"
      },
      "execution_count": 11,
      "outputs": [
        {
          "output_type": "stream",
          "name": "stdout",
          "text": [
            "          word sentiment value\n",
            "1      2-faces  negative    NA\n",
            "2       abacus     trust    NA\n",
            "3      abandon      fear    -2\n",
            "4      abandon   sadness    -2\n",
            "5      abandon  negative    -2\n",
            "6    abandoned     anger    -2\n",
            "7    abandoned      fear    -2\n",
            "8    abandoned  negative    -2\n",
            "9    abandoned   sadness    -2\n",
            "10 abandonment     anger    NA\n",
            "11 abandonment      fear    NA\n",
            "12 abandonment  negative    NA\n",
            "13 abandonment   sadness    NA\n",
            "14 abandonment  surprise    NA\n",
            "15    abandons      <NA>    -2\n",
            "16        abba  positive    NA\n",
            "17       abbot     trust    NA\n",
            "18    abducted      <NA>    -2\n",
            "19   abduction  surprise    -2\n",
            "20   abduction   sadness    -2\n"
          ]
        }
      ]
    },
    {
      "cell_type": "code",
      "source": [],
      "metadata": {
        "id": "aEdWGrYO4yEc"
      },
      "execution_count": 11,
      "outputs": []
    },
    {
      "cell_type": "code",
      "source": [
        "# Question 2 - Percentage of words found in S1, S2 and S3"
      ],
      "metadata": {
        "id": "xIE4xeSkCRuh"
      },
      "execution_count": 12,
      "outputs": []
    },
    {
      "cell_type": "code",
      "source": [
        "%%R\n",
        "library(tidyverse)\n",
        "library(rvest)"
      ],
      "metadata": {
        "colab": {
          "base_uri": "https://localhost:8080/"
        },
        "id": "I936Y94B4yAj",
        "outputId": "f7002fbd-8821-4d94-bb7b-c44d52405b79"
      },
      "execution_count": 13,
      "outputs": [
        {
          "output_type": "stream",
          "name": "stderr",
          "text": [
            "WARNING:rpy2.rinterface_lib.callbacks:R[write to console]: ── Attaching packages ─────────────────────────────────────── tidyverse 1.3.1 ──\n",
            "\n",
            "WARNING:rpy2.rinterface_lib.callbacks:R[write to console]: ✔ ggplot2 3.3.6     ✔ purrr   0.3.4\n",
            "✔ tibble  3.1.7     ✔ stringr 1.4.1\n",
            "✔ readr   2.1.2     ✔ forcats 0.5.2\n",
            "\n",
            "WARNING:rpy2.rinterface_lib.callbacks:R[write to console]: ── Conflicts ────────────────────────────────────────── tidyverse_conflicts() ──\n",
            "✖ dplyr::filter() masks stats::filter()\n",
            "✖ dplyr::lag()    masks stats::lag()\n",
            "\n",
            "WARNING:rpy2.rinterface_lib.callbacks:R[write to console]: \n",
            "Attaching package: ‘rvest’\n",
            "\n",
            "\n",
            "WARNING:rpy2.rinterface_lib.callbacks:R[write to console]: The following object is masked from ‘package:readr’:\n",
            "\n",
            "    guess_encoding\n",
            "\n",
            "\n"
          ]
        }
      ]
    },
    {
      "cell_type": "code",
      "source": [
        "from google.colab import drive\n",
        "drive.mount('/content/drive')"
      ],
      "metadata": {
        "colab": {
          "base_uri": "https://localhost:8080/"
        },
        "id": "MFe-unNsS1Jq",
        "outputId": "878bd6bb-03c2-40d0-ee13-21222883b6ad"
      },
      "execution_count": 14,
      "outputs": [
        {
          "output_type": "stream",
          "name": "stdout",
          "text": [
            "Drive already mounted at /content/drive; to attempt to forcibly remount, call drive.mount(\"/content/drive\", force_remount=True).\n"
          ]
        }
      ]
    },
    {
      "cell_type": "code",
      "source": [
        "%%R\n",
        "amzn_dataset <- read.csv('/content/drive/My Drive/NLP/Week3/amazon_uk_shoes_products_dataset_2021_12.csv')"
      ],
      "metadata": {
        "id": "r_1bVmkaYH9Y"
      },
      "execution_count": 15,
      "outputs": []
    },
    {
      "cell_type": "code",
      "source": [
        "%%R\n",
        "# head(amzn_dataset)"
      ],
      "metadata": {
        "colab": {
          "base_uri": "https://localhost:8080/"
        },
        "id": "VJ4eDOrW8W6A",
        "outputId": "bd1de3dd-201f-4941-eae2-bb395dddc1a9"
      },
      "execution_count": 16,
      "outputs": [
        {
          "output_type": "stream",
          "name": "stdout",
          "text": [
            "NULL\n"
          ]
        }
      ]
    },
    {
      "cell_type": "code",
      "source": [
        "%%R\n",
        "library(dplyr)\n",
        "\n",
        "amzn_reviews <- amzn_dataset %>% select(c('product_name', 'review_text'))"
      ],
      "metadata": {
        "id": "sjvTAmtJ8Z13"
      },
      "execution_count": 17,
      "outputs": []
    },
    {
      "cell_type": "code",
      "source": [
        "%%R\n",
        "head(amzn_reviews)"
      ],
      "metadata": {
        "colab": {
          "base_uri": "https://localhost:8080/"
        },
        "id": "c0DQHEXy8tWy",
        "outputId": "40642654-6274-4fc9-a740-ceec7c277f51"
      },
      "execution_count": 18,
      "outputs": [
        {
          "output_type": "stream",
          "name": "stdout",
          "text": [
            "                                                     product_name\n",
            "1 Klasified Women's Transparent Clear Sneaker Shoe, White, 5.5 UK\n",
            "2 Klasified Women's Transparent Clear Sneaker Shoe, White, 5.5 UK\n",
            "3 Klasified Women's Transparent Clear Sneaker Shoe, White, 5.5 UK\n",
            "4 Klasified Women's Transparent Clear Sneaker Shoe, White, 5.5 UK\n",
            "5               GUESS Women's Bradly Gymnastics Shoe, White, 7 UK\n",
            "6               GUESS Women's Bradly Gymnastics Shoe, White, 7 UK\n",
            "                                                                                                                                                                                                                                                                                                                                                                    review_text\n",
            "1                                                                                                                                                           Love these. Was looking for converses and these were half the price and so unique— I’ve never seen clear shoes like these; they fit great. The plastic takes a little getting used to but the style is so worth it.\n",
            "2 The shoes are very cute, but after the 2nd day of wearing them the tongue started ripping. After the 3rd day of wearing them the plastic on the side ripped. They could have ripped bc I was wearing them to work and I do a lot of walking at work. If you’re going to buy these I don’t recommend wearing them on days where you will do a lot of walking or they might rip\n",
            "3                                                                                                                                                                                                                                                                                                                                                                  Good quality\n",
            "4                                                                                                                                                                                                                                                                                                                                                                         Great\n",
            "5                                                      Ho scelto il modello bianco con rifinitura dietro nera e posso dire che da vicino le scarpe sono ancora più belle, il mio numero è 38, 38.5 ed ho ordinato il numero 38 e mi va bene..Spedizione veloce, il pacco è arrivato anche prima del previsto, prezzo ottimo dato che in giro costano almeno 10, 15 euro in più.\n",
            "6                                                                                                                  Sono solita comprare scarpe Guess e non ho mai avuto problemi con la taglia, in questo caso, invece, mi sono arrivate delle scarpe che, nonostante fossero il solito numero che prendo, sono molto piccole, sembra quasi due numeri meno, quindi immettibili\n"
          ]
        }
      ]
    },
    {
      "cell_type": "code",
      "source": [
        "%%R\n",
        "amzn_adidas_reviews <- dplyr::filter(amzn_reviews, grepl('(?i)Adidas', product_name))\n",
        "amzn_nike_reviews <- dplyr::filter(amzn_reviews, grepl('(?i)Nike', product_name))\n",
        "amzn_reebok_reviews <- dplyr::filter(amzn_reviews, grepl('(?i)Reebok', product_name))"
      ],
      "metadata": {
        "id": "ueXdpq188wE9"
      },
      "execution_count": 19,
      "outputs": []
    },
    {
      "cell_type": "code",
      "source": [
        "%%R\n",
        "adidas_reviews_only <- amzn_adidas_reviews %>% select(c('review_text'))\n",
        "adidas_data <- adidas_reviews_only %>% unnest_tokens(word, review_text)\n",
        "adidas_data <- cbind(Brand = 'Adidas', adidas_data)\n",
        "head(adidas_data)"
      ],
      "metadata": {
        "colab": {
          "base_uri": "https://localhost:8080/"
        },
        "id": "H__tJ5cS9C_7",
        "outputId": "fa15fe1f-6122-41f0-8d7f-6f6500250afd"
      },
      "execution_count": 20,
      "outputs": [
        {
          "output_type": "stream",
          "name": "stdout",
          "text": [
            "   Brand    word\n",
            "1 Adidas    true\n",
            "2 Adidas      to\n",
            "3 Adidas    size\n",
            "4 Adidas      if\n",
            "5 Adidas between\n",
            "6 Adidas     i'd\n"
          ]
        }
      ]
    },
    {
      "cell_type": "code",
      "source": [
        "%%R\n",
        "nike_reviews_only <- amzn_nike_reviews %>% select(c('review_text'))\n",
        "nike_data <- nike_reviews_only %>% unnest_tokens(word, review_text)\n",
        "nike_data <- cbind(Brand = 'Nike', nike_data)\n",
        "head(nike_data)"
      ],
      "metadata": {
        "colab": {
          "base_uri": "https://localhost:8080/"
        },
        "id": "1VKU5jBPIrJB",
        "outputId": "a39b09da-1009-4dff-ea07-f67769c3c523"
      },
      "execution_count": 21,
      "outputs": [
        {
          "output_type": "stream",
          "name": "stdout",
          "text": [
            "  Brand     word\n",
            "1  Nike      top\n",
            "2  Nike    class\n",
            "3  Nike  product\n",
            "4  Nike     high\n",
            "5  Nike  quality\n",
            "6  Nike original\n"
          ]
        }
      ]
    },
    {
      "cell_type": "code",
      "source": [
        "%%R\n",
        "reebok_reviews_only <- amzn_reebok_reviews %>% select(c('review_text'))\n",
        "reebok_data <- reebok_reviews_only %>% unnest_tokens(word, review_text)\n",
        "reebok_data <- cbind(Brand = 'Reebok', reebok_data)\n",
        "head(reebok_data)"
      ],
      "metadata": {
        "colab": {
          "base_uri": "https://localhost:8080/"
        },
        "id": "2BEpN_-nI9Gk",
        "outputId": "7b3eb8fb-9819-4f92-895f-0d67c4c18b11"
      },
      "execution_count": 22,
      "outputs": [
        {
          "output_type": "stream",
          "name": "stdout",
          "text": [
            "   Brand        word\n",
            "1 Reebok          ho\n",
            "2 Reebok  acquistato\n",
            "3 Reebok      queste\n",
            "4 Reebok      scarpe\n",
            "5 Reebok         per\n",
            "6 Reebok utilizzarle\n"
          ]
        }
      ]
    },
    {
      "cell_type": "code",
      "source": [
        "%%R\n",
        "combo <- rbind(adidas_data, nike_data, reebok_data)\n",
        "combo %>% count(Brand)"
      ],
      "metadata": {
        "colab": {
          "base_uri": "https://localhost:8080/"
        },
        "id": "QOsLevUQIrAx",
        "outputId": "e0136074-1ac8-46c3-cf2b-8c1504df58c2"
      },
      "execution_count": 23,
      "outputs": [
        {
          "output_type": "stream",
          "name": "stdout",
          "text": [
            "   Brand     n\n",
            "1 Adidas 32005\n",
            "2   Nike  1440\n",
            "3 Reebok 15566\n"
          ]
        }
      ]
    },
    {
      "cell_type": "code",
      "source": [
        "%%R\n",
        "head(combo)"
      ],
      "metadata": {
        "colab": {
          "base_uri": "https://localhost:8080/"
        },
        "id": "myHBBvVsJmhA",
        "outputId": "92abc05e-4d67-43d3-ec6a-b5a2e8a42a3d"
      },
      "execution_count": 24,
      "outputs": [
        {
          "output_type": "stream",
          "name": "stdout",
          "text": [
            "   Brand    word\n",
            "1 Adidas    true\n",
            "2 Adidas      to\n",
            "3 Adidas    size\n",
            "4 Adidas      if\n",
            "5 Adidas between\n",
            "6 Adidas     i'd\n"
          ]
        }
      ]
    },
    {
      "cell_type": "code",
      "source": [],
      "metadata": {
        "id": "ukB1Se_QIq1r"
      },
      "execution_count": 24,
      "outputs": []
    },
    {
      "cell_type": "code",
      "source": [
        "%%R\n",
        "clean <- combo %>% filter(!word %in% stop_words$word)\n",
        "head(clean)"
      ],
      "metadata": {
        "colab": {
          "base_uri": "https://localhost:8080/"
        },
        "id": "0ak60W6i-HkW",
        "outputId": "0d309d5a-5fd0-4712-bb2d-14b48f756e84"
      },
      "execution_count": 25,
      "outputs": [
        {
          "output_type": "stream",
          "name": "stdout",
          "text": [
            "   Brand  word\n",
            "1 Adidas  true\n",
            "2 Adidas  size\n",
            "3 Adidas lower\n",
            "4 Adidas   i.e\n",
            "5 Adidas     8\n",
            "6 Adidas   8.5\n"
          ]
        }
      ]
    },
    {
      "cell_type": "code",
      "source": [],
      "metadata": {
        "id": "cjsr5hpvAmFp"
      },
      "execution_count": 25,
      "outputs": []
    },
    {
      "cell_type": "code",
      "source": [
        "# Percentage of words present in the lexicon S1 (\"nrc\")"
      ],
      "metadata": {
        "id": "zlWfgv3RCgMl"
      },
      "execution_count": 26,
      "outputs": []
    },
    {
      "cell_type": "code",
      "source": [
        "%%R\n",
        "categorical_s1 <- clean %>% inner_join(s1)\n",
        "all_categorical_s1 <- categorical_s1 %>% count(Brand, sentiment, sort = TRUE)\n",
        "all_categorical_s1"
      ],
      "metadata": {
        "colab": {
          "base_uri": "https://localhost:8080/"
        },
        "id": "bekqcKqs-OBE",
        "outputId": "36ab7785-340c-450f-8022-86781d2d4c44"
      },
      "execution_count": 27,
      "outputs": [
        {
          "output_type": "stream",
          "name": "stdout",
          "text": [
            "Joining, by = \"word\"\n",
            "    Brand    sentiment    n\n",
            "1  Adidas     positive 1122\n",
            "2  Adidas     negative  721\n",
            "3  Adidas        trust  697\n",
            "4  Adidas          joy  579\n",
            "5  Adidas anticipation  528\n",
            "6  Reebok     positive  511\n",
            "7  Reebok        trust  347\n",
            "8  Reebok     negative  344\n",
            "9  Adidas      sadness  279\n",
            "10 Reebok          joy  263\n",
            "11 Adidas        anger  247\n",
            "12 Reebok anticipation  227\n",
            "13 Adidas         fear  200\n",
            "14 Reebok      sadness  185\n",
            "15 Adidas      disgust  170\n",
            "16 Adidas     surprise  166\n",
            "17 Reebok        anger  110\n",
            "18 Reebok         fear  110\n",
            "19 Reebok      disgust   91\n",
            "20 Reebok     surprise   79\n",
            "21   Nike     negative   38\n",
            "22   Nike      sadness   27\n",
            "23   Nike         fear   24\n",
            "24   Nike      disgust   14\n",
            "25   Nike     positive   13\n",
            "26   Nike        trust   11\n",
            "27   Nike        anger    6\n",
            "28   Nike anticipation    6\n",
            "29   Nike          joy    5\n",
            "30   Nike     surprise    1\n"
          ]
        }
      ]
    },
    {
      "cell_type": "code",
      "source": [
        "%%R\n",
        "nrow(categorical_s1)/nrow(clean)"
      ],
      "metadata": {
        "colab": {
          "base_uri": "https://localhost:8080/"
        },
        "id": "igPD-8rl-Tl9",
        "outputId": "9eee5997-3c68-4f10-a116-792446166e1d"
      },
      "execution_count": 28,
      "outputs": [
        {
          "output_type": "stream",
          "name": "stdout",
          "text": [
            "[1] 0.334492\n"
          ]
        }
      ]
    },
    {
      "cell_type": "code",
      "source": [],
      "metadata": {
        "id": "teBLO7GZBkFI"
      },
      "execution_count": 28,
      "outputs": []
    },
    {
      "cell_type": "code",
      "source": [
        "# Percentage of words present in the lexicon S2 (\"afinn\")"
      ],
      "metadata": {
        "id": "oLeZvCcIDDF-"
      },
      "execution_count": 29,
      "outputs": []
    },
    {
      "cell_type": "code",
      "source": [
        "%%R\n",
        "categorical_s2 <- clean %>% inner_join(s2)\n",
        "all_categorical_s2 <- categorical_s2 %>% count(Brand, value, sort = TRUE)\n",
        "head(all_categorical_s2)"
      ],
      "metadata": {
        "colab": {
          "base_uri": "https://localhost:8080/"
        },
        "id": "R8bnzz2cDH2Z",
        "outputId": "b4420ea6-0cc6-4684-eb3e-09d5b0d08e3f"
      },
      "execution_count": 30,
      "outputs": [
        {
          "output_type": "stream",
          "name": "stdout",
          "text": [
            "Joining, by = \"word\"\n",
            "   Brand value   n\n",
            "1 Adidas     2 576\n",
            "2 Adidas     3 444\n",
            "3 Adidas     1 327\n",
            "4 Reebok     2 249\n",
            "5 Reebok     3 196\n",
            "6 Adidas    -2 194\n"
          ]
        }
      ]
    },
    {
      "cell_type": "code",
      "source": [
        "%%R\n",
        "nrow(categorical_s2)/nrow(clean)"
      ],
      "metadata": {
        "colab": {
          "base_uri": "https://localhost:8080/"
        },
        "id": "gerDXHymDMnF",
        "outputId": "f8e2f40a-7a33-4230-aa64-7e080ee42717"
      },
      "execution_count": 31,
      "outputs": [
        {
          "output_type": "stream",
          "name": "stdout",
          "text": [
            "[1] 0.1273428\n"
          ]
        }
      ]
    },
    {
      "cell_type": "code",
      "source": [],
      "metadata": {
        "id": "_CUvwNJgDaCH"
      },
      "execution_count": 31,
      "outputs": []
    },
    {
      "cell_type": "code",
      "source": [
        "# Percentage of words present in the lexicon S3 (\"bing\")"
      ],
      "metadata": {
        "id": "uy-5iwYqDcLA"
      },
      "execution_count": 32,
      "outputs": []
    },
    {
      "cell_type": "code",
      "source": [
        "%%R\n",
        "categorical_s3 <- clean %>% inner_join(s3)\n",
        "all_categorical_s3 <- categorical_s3 %>% count(Brand, sentiment, sort = TRUE)\n",
        "head(all_categorical_s3)"
      ],
      "metadata": {
        "colab": {
          "base_uri": "https://localhost:8080/"
        },
        "id": "nGquQsluDnes",
        "outputId": "ceb89409-53ec-41ad-f137-24f9e546f312"
      },
      "execution_count": 33,
      "outputs": [
        {
          "output_type": "stream",
          "name": "stdout",
          "text": [
            "Joining, by = \"word\"\n",
            "   Brand sentiment    n\n",
            "1 Adidas  positive 1384\n",
            "2 Adidas  negative  628\n",
            "3 Reebok  positive  582\n",
            "4 Reebok  negative  297\n",
            "5   Nike  positive   40\n",
            "6   Nike  negative   32\n"
          ]
        }
      ]
    },
    {
      "cell_type": "code",
      "source": [
        "%%R\n",
        "nrow(categorical_s3)/nrow(clean)"
      ],
      "metadata": {
        "colab": {
          "base_uri": "https://localhost:8080/"
        },
        "id": "PI14Yb4YDvLl",
        "outputId": "1ed1de93-95db-4a6a-df5e-c52040b6917c"
      },
      "execution_count": 34,
      "outputs": [
        {
          "output_type": "stream",
          "name": "stdout",
          "text": [
            "[1] 0.1391799\n"
          ]
        }
      ]
    },
    {
      "cell_type": "code",
      "source": [],
      "metadata": {
        "id": "4Q5A5DgfDxTF"
      },
      "execution_count": 34,
      "outputs": []
    },
    {
      "cell_type": "code",
      "source": [
        "# Question 3 - Top 10 positive words and top 10 negative words"
      ],
      "metadata": {
        "id": "wsu_k0Q_Kjv5"
      },
      "execution_count": 35,
      "outputs": []
    },
    {
      "cell_type": "code",
      "source": [
        "%%R\n",
        "categorical_s1_s2_s3 <- clean %>% inner_join(s1_s2_s3)\n",
        "all_categorical_s1_s2_s3 <- categorical_s1_s2_s3 %>% count(word, sentiment, sort = TRUE)"
      ],
      "metadata": {
        "colab": {
          "base_uri": "https://localhost:8080/"
        },
        "id": "2N63SrpbK0bA",
        "outputId": "81a4f5db-619e-455a-c247-80c0687e14c0"
      },
      "execution_count": 36,
      "outputs": [
        {
          "output_type": "stream",
          "name": "stdout",
          "text": [
            "Joining, by = \"word\"\n"
          ]
        }
      ]
    },
    {
      "cell_type": "code",
      "source": [
        "%%R\n",
        "all_categorical_s1_s2_s3_positive <- dplyr::filter(all_categorical_s1_s2_s3, grepl('positive', sentiment))\n",
        "head(all_categorical_s1_s2_s3_positive, 10)"
      ],
      "metadata": {
        "colab": {
          "base_uri": "https://localhost:8080/"
        },
        "id": "ix0BWLXSKpm4",
        "outputId": "fe441297-c3ef-48bd-a244-4a95ad5e9f3d"
      },
      "execution_count": 37,
      "outputs": [
        {
          "output_type": "stream",
          "name": "stdout",
          "text": [
            "          word sentiment   n\n",
            "1  comfortable  positive 279\n",
            "2         love  positive 179\n",
            "3         nice  positive  96\n",
            "4      perfect  positive  95\n",
            "5        super  positive  94\n",
            "6    recommend  positive  74\n",
            "7        loves  positive  64\n",
            "8      support  positive  63\n",
            "9         true  positive  55\n",
            "10        cute  positive  53\n"
          ]
        }
      ]
    },
    {
      "cell_type": "code",
      "source": [
        "%%R\n",
        "all_categorical_s1_s2_s3_negative <- dplyr::filter(all_categorical_s1_s2_s3, grepl('negative', sentiment))\n",
        "head(all_categorical_s1_s2_s3_negative, 10)"
      ],
      "metadata": {
        "colab": {
          "base_uri": "https://localhost:8080/"
        },
        "id": "93euf1UCLWVt",
        "outputId": "46cbe6a2-18ed-4f3f-b81d-333820e07285"
      },
      "execution_count": 38,
      "outputs": [
        {
          "output_type": "stream",
          "name": "stdout",
          "text": [
            "           word sentiment   n\n",
            "1          wear  negative 164\n",
            "2          fits  negative  62\n",
            "3          hard  negative  55\n",
            "4          heel  negative  43\n",
            "5           die  negative  42\n",
            "6          worn  negative  41\n",
            "7          hurt  negative  26\n",
            "8        bottom  negative  24\n",
            "9  disappointed  negative  24\n",
            "10        stiff  negative  22\n"
          ]
        }
      ]
    },
    {
      "cell_type": "code",
      "source": [],
      "metadata": {
        "id": "p2C_uAYOLhkB"
      },
      "execution_count": 38,
      "outputs": []
    },
    {
      "cell_type": "code",
      "source": [
        "# Question 4 - Quantify the range of sentiments"
      ],
      "metadata": {
        "id": "8HsF4UJsL9zG"
      },
      "execution_count": 39,
      "outputs": []
    },
    {
      "cell_type": "code",
      "source": [
        "%%R\n",
        "head(all_categorical_s2)"
      ],
      "metadata": {
        "colab": {
          "base_uri": "https://localhost:8080/"
        },
        "id": "PJlNE42_MWKx",
        "outputId": "85a9bcd0-2306-4fbe-efa6-8f713213c2f3"
      },
      "execution_count": 40,
      "outputs": [
        {
          "output_type": "stream",
          "name": "stdout",
          "text": [
            "   Brand value   n\n",
            "1 Adidas     2 576\n",
            "2 Adidas     3 444\n",
            "3 Adidas     1 327\n",
            "4 Reebok     2 249\n",
            "5 Reebok     3 196\n",
            "6 Adidas    -2 194\n"
          ]
        }
      ]
    },
    {
      "cell_type": "code",
      "source": [
        "%%R\n",
        "all_categorical_s2 <- all_categorical_s2[order(all_categorical_s2$Brand),]"
      ],
      "metadata": {
        "id": "-cu4FC_sjOFw"
      },
      "execution_count": 41,
      "outputs": []
    },
    {
      "cell_type": "code",
      "source": [
        "%%R\n",
        "ggplot(data=all_categorical_s2, aes(value, n)) +\n",
        "  facet_wrap(~Brand, ncol = 3, scales = \"free_x\") +\n",
        "  geom_hline(yintercept = 0, color = \"black\", size = 1) +\n",
        "  geom_bar(stat=\"identity\")"
      ],
      "metadata": {
        "colab": {
          "base_uri": "https://localhost:8080/",
          "height": 497
        },
        "id": "ewgMKysEjN-y",
        "outputId": "cae94aad-f413-4832-982e-85f483ae315b"
      },
      "execution_count": 42,
      "outputs": [
        {
          "output_type": "display_data",
          "data": {
            "image/png": "[encoded data removed]"
          },
          "metadata": {}
        }
      ]
    },
    {
      "cell_type": "code",
      "source": [],
      "metadata": {
        "id": "UWpBCNDLMXnk"
      },
      "execution_count": 42,
      "outputs": []
    },
    {
      "cell_type": "code",
      "source": [],
      "metadata": {
        "id": "9W5FZwk6Mswt"
      },
      "execution_count": 42,
      "outputs": []
    },
    {
      "cell_type": "code",
      "source": [
        "# Question 5 - Percentage of documents considered neutral or mixed"
      ],
      "metadata": {
        "id": "-OdROwz8M8nu"
      },
      "execution_count": 43,
      "outputs": []
    },
    {
      "cell_type": "code",
      "source": [
        "# Assuming range value of -1 to 1 to be neutral using \"afinn\""
      ],
      "metadata": {
        "id": "CcYbG-XjXKOq"
      },
      "execution_count": 44,
      "outputs": []
    },
    {
      "cell_type": "code",
      "source": [],
      "metadata": {
        "id": "RtzyIveYX4g7"
      },
      "execution_count": 44,
      "outputs": []
    },
    {
      "cell_type": "code",
      "source": [
        "%%R\n",
        "# Calculate the n * value\n",
        "all_categorical_s2$total <- all_categorical_s2$n * all_categorical_s2$value"
      ],
      "metadata": {
        "id": "Ky7MBAFSl31G"
      },
      "execution_count": 45,
      "outputs": []
    },
    {
      "cell_type": "code",
      "source": [
        "%%R\n",
        "all_categorical_s2"
      ],
      "metadata": {
        "colab": {
          "base_uri": "https://localhost:8080/"
        },
        "id": "NL2tZfQem_mJ",
        "outputId": "83ca81d3-f428-48b3-e234-b09baa886c3f"
      },
      "execution_count": 46,
      "outputs": [
        {
          "output_type": "stream",
          "name": "stdout",
          "text": [
            "    Brand value   n total\n",
            "1  Adidas     2 576  1152\n",
            "2  Adidas     3 444  1332\n",
            "3  Adidas     1 327   327\n",
            "6  Adidas    -2 194  -388\n",
            "8  Adidas    -1 133  -133\n",
            "9  Adidas    -3  97  -291\n",
            "13 Adidas     4  45   180\n",
            "21 Adidas     5   2    10\n",
            "22 Adidas    -4   1    -4\n",
            "14   Nike     3  23    69\n",
            "16   Nike    -3  19   -57\n",
            "17   Nike     2  13    26\n",
            "18   Nike    -2   3    -6\n",
            "19   Nike    -1   3    -3\n",
            "20   Nike     1   3     3\n",
            "23   Nike     4   1     4\n",
            "4  Reebok     2 249   498\n",
            "5  Reebok     3 196   588\n",
            "7  Reebok     1 142   142\n",
            "10 Reebok    -2  94  -188\n",
            "11 Reebok    -1  75   -75\n",
            "12 Reebok    -3  48  -144\n",
            "15 Reebok     4  22    88\n",
            "24 Reebok     5   1     5\n"
          ]
        }
      ]
    },
    {
      "cell_type": "code",
      "source": [
        "%%R\n",
        "group_sum_all_categorical_s2 <- all_categorical_s2 %>%\n",
        "    group_by(Brand) %>% \n",
        "    summarise_each(funs(sum))"
      ],
      "metadata": {
        "id": "6LWXxUWmnuaT"
      },
      "execution_count": 47,
      "outputs": []
    },
    {
      "cell_type": "code",
      "source": [
        "%%R\n",
        "# Calculate the mean\n",
        "group_sum_all_categorical_s2$mean <- group_sum_all_categorical_s2$total / group_sum_all_categorical_s2$n"
      ],
      "metadata": {
        "id": "qq0FlBz9nuDd"
      },
      "execution_count": 48,
      "outputs": []
    },
    {
      "cell_type": "code",
      "source": [
        "%%R\n",
        "group_sum_all_categorical_s2"
      ],
      "metadata": {
        "colab": {
          "base_uri": "https://localhost:8080/"
        },
        "id": "E1m5fAghp0r_",
        "outputId": "30f91ca0-0ad5-4417-ec12-6473bbd696b2"
      },
      "execution_count": 49,
      "outputs": [
        {
          "output_type": "stream",
          "name": "stdout",
          "text": [
            "# A tibble: 3 × 5\n",
            "  Brand  value     n total  mean\n",
            "  <chr>  <dbl> <int> <dbl> <dbl>\n",
            "1 Adidas     5  1819  2185 1.20 \n",
            "2 Nike       4    65    36 0.554\n",
            "3 Reebok     9   827   914 1.11 \n"
          ]
        }
      ]
    },
    {
      "cell_type": "code",
      "source": [],
      "metadata": {
        "id": "SxswP4gylzOI"
      },
      "execution_count": 49,
      "outputs": []
    },
    {
      "cell_type": "code",
      "source": [
        "%%R\n",
        "group_sum_all_categorical_s2$sentiment <- ifelse(group_sum_all_categorical_s2$mean>=-1 & group_sum_all_categorical_s2$mean<=1, 'Neutral/Mixed', ifelse(group_sum_all_categorical_s2$mean<'-1', 'Negative', 'Positive'))"
      ],
      "metadata": {
        "id": "fZSCVNN3X5d4"
      },
      "execution_count": 50,
      "outputs": []
    },
    {
      "cell_type": "code",
      "source": [
        "%%R\n",
        "head(group_sum_all_categorical_s2)"
      ],
      "metadata": {
        "colab": {
          "base_uri": "https://localhost:8080/"
        },
        "id": "syltlCcuZyyE",
        "outputId": "dd733e47-9b43-461a-fc90-ea5f09b3460c"
      },
      "execution_count": 51,
      "outputs": [
        {
          "output_type": "stream",
          "name": "stdout",
          "text": [
            "# A tibble: 3 × 6\n",
            "  Brand  value     n total  mean sentiment    \n",
            "  <chr>  <dbl> <int> <dbl> <dbl> <chr>        \n",
            "1 Adidas     5  1819  2185 1.20  Positive     \n",
            "2 Nike       4    65    36 0.554 Neutral/Mixed\n",
            "3 Reebok     9   827   914 1.11  Positive     \n"
          ]
        }
      ]
    },
    {
      "cell_type": "code",
      "source": [
        "%%R\n",
        "nrow(group_sum_all_categorical_s2 %>% filter(sentiment %in% 'Neutral/Mixed'))/nrow(group_sum_all_categorical_s2)"
      ],
      "metadata": {
        "colab": {
          "base_uri": "https://localhost:8080/"
        },
        "id": "uky47fucZ2kU",
        "outputId": "58829863-bbcb-473b-9b12-da69061556b6"
      },
      "execution_count": 52,
      "outputs": [
        {
          "output_type": "stream",
          "name": "stdout",
          "text": [
            "[1] 0.3333333\n"
          ]
        }
      ]
    },
    {
      "cell_type": "code",
      "source": [
        "# In this case, 1/3 of the documents are considered neutral"
      ],
      "metadata": {
        "id": "D9icuhVAa8vP"
      },
      "execution_count": 53,
      "outputs": []
    },
    {
      "cell_type": "code",
      "source": [],
      "metadata": {
        "id": "eZXwl83RbHy1"
      },
      "execution_count": 53,
      "outputs": []
    },
    {
      "cell_type": "code",
      "source": [
        "# Question 6 - Visualize results of sentiment quantification"
      ],
      "metadata": {
        "id": "TKbL-TRtbHus"
      },
      "execution_count": 54,
      "outputs": []
    },
    {
      "cell_type": "code",
      "source": [
        "%%R\n",
        "library(ggplot2)\n",
        "library(repr)\n",
        "library(scales)"
      ],
      "metadata": {
        "colab": {
          "base_uri": "https://localhost:8080/"
        },
        "id": "ccsIQPAObVxP",
        "outputId": "71a2208b-f2af-4c86-a0ac-c55eb7e81786"
      },
      "execution_count": 55,
      "outputs": [
        {
          "output_type": "stream",
          "name": "stderr",
          "text": [
            "WARNING:rpy2.rinterface_lib.callbacks:R[write to console]: \n",
            "Attaching package: ‘scales’\n",
            "\n",
            "\n",
            "WARNING:rpy2.rinterface_lib.callbacks:R[write to console]: The following object is masked from ‘package:purrr’:\n",
            "\n",
            "    discard\n",
            "\n",
            "\n",
            "WARNING:rpy2.rinterface_lib.callbacks:R[write to console]: The following object is masked from ‘package:readr’:\n",
            "\n",
            "    col_factor\n",
            "\n",
            "\n"
          ]
        }
      ]
    },
    {
      "cell_type": "code",
      "source": [
        "%%R\n",
        "ggplot(data=group_sum_all_categorical_s2, aes(Brand, mean)) +\n",
        "  facet_wrap(~Brand, ncol = 3, scales = \"free_x\") +\n",
        "  geom_hline(yintercept = 0, color = \"black\", size = 1) +\n",
        "  geom_bar(stat=\"identity\")"
      ],
      "metadata": {
        "colab": {
          "base_uri": "https://localhost:8080/",
          "height": 497
        },
        "id": "VQFX9goQbZ3f",
        "outputId": "89717715-1d55-48b6-adcb-aa2881395bcc"
      },
      "execution_count": 56,
      "outputs": [
        {
          "output_type": "display_data",
          "data": {
            "image/png": "[encoded data removed]"
          },
          "metadata": {}
        }
      ]
    },
    {
      "cell_type": "code",
      "source": [],
      "metadata": {
        "id": "Gn_O1IAVbwh3"
      },
      "execution_count": 56,
      "outputs": []
    }
  ]
}