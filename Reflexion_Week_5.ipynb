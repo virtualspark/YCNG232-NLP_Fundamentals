{
  "nbformat": 4,
  "nbformat_minor": 0,
  "metadata": {
    "colab": {
      "provenance": [],
      "collapsed_sections": [],
      "authorship_tag": "ABX9TyNiOnQALNDwpOesAaKVvhT7",
      "include_colab_link": true
    },
    "kernelspec": {
      "name": "python3",
      "display_name": "Python 3"
    },
    "language_info": {
      "name": "python"
    }
  },
  "cells": [
    {
      "cell_type": "markdown",
      "metadata": {
        "id": "view-in-github",
        "colab_type": "text"
      },
      "source": [
        "<a href=\"https://colab.research.google.com/github/virtualspark/YCNG232-NLP_Fundamentals/blob/main/Reflexion_Week_5.ipynb\" target=\"_parent\"><img src=\"https://colab.research.google.com/assets/colab-badge.svg\" alt=\"Open In Colab\"/></a>"
      ]
    },
    {
      "cell_type": "code",
      "source": [
        "import nltk # this we already have\n",
        "from nltk.corpus import wordnet as wn\n",
        "from nltk.corpus import stopwords\n",
        "from nltk import sent_tokenize, word_tokenize"
      ],
      "metadata": {
        "id": "9Ilb6FwYTJFk"
      },
      "execution_count": 1,
      "outputs": []
    },
    {
      "cell_type": "code",
      "source": [
        "# nltk.download('wordnet') # this is new, download once per environment\n",
        "# nltk.download('omw-1.4') # same here\n",
        "# nltk.download('stopwords')\n",
        "# nltk.download('popular')"
      ],
      "metadata": {
        "id": "y6U3UWL6uMUm"
      },
      "execution_count": 2,
      "outputs": []
    },
    {
      "cell_type": "code",
      "source": [],
      "metadata": {
        "id": "aRa9KSNcsMUh"
      },
      "execution_count": 2,
      "outputs": []
    },
    {
      "cell_type": "code",
      "source": [
        "# Question 1"
      ],
      "metadata": {
        "id": "uQbNz8lBAUWO"
      },
      "execution_count": 3,
      "outputs": []
    },
    {
      "cell_type": "code",
      "source": [
        "skip = stopwords.words('english')"
      ],
      "metadata": {
        "id": "Mo8uei75sMNG"
      },
      "execution_count": 4,
      "outputs": []
    },
    {
      "cell_type": "code",
      "source": [
        "sentence_1 = \"My friends are nice.\"\n",
        "sentence_2 = \"My dog is hungry and grumpy.\"\n",
        "sentence_3 = \"He just bought a bike.\""
      ],
      "metadata": {
        "id": "8_vdSPf_tnvm"
      },
      "execution_count": 5,
      "outputs": []
    },
    {
      "cell_type": "code",
      "source": [
        "def wordsToken_Filtered(sentence): \n",
        "  words = word_tokenize(sentence)\n",
        "  wordsFiltered = []\n",
        "\n",
        "  for w in words:\n",
        "      if w not in skip and len(w) > 2:\n",
        "          wordsFiltered.append(w)\n",
        "\n",
        "  return wordsFiltered"
      ],
      "metadata": {
        "id": "Y8-zBALwsoKW"
      },
      "execution_count": 6,
      "outputs": []
    },
    {
      "cell_type": "code",
      "source": [],
      "metadata": {
        "id": "KoH9khbOW4DR"
      },
      "execution_count": 6,
      "outputs": []
    },
    {
      "cell_type": "code",
      "source": [
        "def get_synonyms(word):\n",
        "  ' Gets word synonyms for part of speech '\n",
        "  for synset in wn.synsets(word):\n",
        "    for name in synset.lemma_names():\n",
        "        yield name"
      ],
      "metadata": {
        "id": "jf03QxXgW8HW"
      },
      "execution_count": 7,
      "outputs": []
    },
    {
      "cell_type": "code",
      "source": [],
      "metadata": {
        "id": "Agy8TcisZ8_a"
      },
      "execution_count": 7,
      "outputs": []
    },
    {
      "cell_type": "code",
      "source": [
        "import itertools"
      ],
      "metadata": {
        "id": "z0ldR3ZVvkP9"
      },
      "execution_count": 8,
      "outputs": []
    },
    {
      "cell_type": "code",
      "source": [
        "def syn_each_word(words):\n",
        "  words_append = []\n",
        "  for word, tag in nltk.pos_tag(words):\n",
        "    # Filter for unique synonyms not equal to word and sort.\n",
        "    unique = sorted(set(synonym for synonym in get_synonyms(word) if synonym != word))\n",
        "    words_append.append(unique)\n",
        "  return words_append"
      ],
      "metadata": {
        "id": "I72-YsR1VsgT"
      },
      "execution_count": 9,
      "outputs": []
    },
    {
      "cell_type": "code",
      "source": [
        "words_append_1 = syn_each_word(wordsToken_Filtered(sentence_1))\n",
        "words_append_2 = syn_each_word(wordsToken_Filtered(sentence_2))\n",
        "words_append_3 = syn_each_word(wordsToken_Filtered(sentence_3))"
      ],
      "metadata": {
        "id": "NM-Z7F_OWxXd"
      },
      "execution_count": 10,
      "outputs": []
    },
    {
      "cell_type": "code",
      "source": [
        "import itertools"
      ],
      "metadata": {
        "id": "DRv9VOCyw0zw"
      },
      "execution_count": 11,
      "outputs": []
    },
    {
      "cell_type": "code",
      "source": [
        "possible_combo_1 = list(itertools.product(*words_append_1))\n",
        "possible_combo_2 = list(itertools.product(*words_append_2))\n",
        "possible_combo_3 = list(itertools.product(*words_append_3))"
      ],
      "metadata": {
        "id": "Y59WIfnbxo1Y"
      },
      "execution_count": 12,
      "outputs": []
    },
    {
      "cell_type": "code",
      "source": [],
      "metadata": {
        "id": "2wzLj28Hxr93"
      },
      "execution_count": 12,
      "outputs": []
    },
    {
      "cell_type": "code",
      "source": [],
      "metadata": {
        "id": "WxYy2MnCqFLQ"
      },
      "execution_count": 12,
      "outputs": []
    },
    {
      "cell_type": "code",
      "source": [
        "# Reference: https://www.tutorialspoint.com/python-join-tuple-elements-in-a-list"
      ],
      "metadata": {
        "id": "UCT4H3tfqFEn"
      },
      "execution_count": 13,
      "outputs": []
    },
    {
      "cell_type": "code",
      "source": [
        "# function that converts tuple to string\n",
        "def join_tuple_string(strings_tuple) -> str:\n",
        "   return ' '.join(strings_tuple)\n",
        "\n",
        "# joining all the tuples\n",
        "\n",
        "def final_result(possible_combo):\n",
        "  result = map(join_tuple_string, possible_combo)\n",
        "\n",
        "  # converting and printing the result\n",
        "  final_result = list(result)\n",
        "\n",
        "  for sentence in final_result:\n",
        "    sentence = sentence.replace(\"_\", \" \")\n",
        "    print(sentence)"
      ],
      "metadata": {
        "id": "-MnOA6Ody9nu"
      },
      "execution_count": 14,
      "outputs": []
    },
    {
      "cell_type": "code",
      "source": [
        "final_result(possible_combo_1)"
      ],
      "metadata": {
        "colab": {
          "base_uri": "https://localhost:8080/"
        },
        "id": "Sn2TkoGrp-cZ",
        "outputId": "55f6e64e-f8ba-4c8d-d8db-458835645eca"
      },
      "execution_count": 15,
      "outputs": [
        {
          "output_type": "stream",
          "name": "stdout",
          "text": [
            "Friend Nice\n",
            "Friend courteous\n",
            "Friend dainty\n",
            "Friend decent\n",
            "Friend gracious\n",
            "Friend overnice\n",
            "Friend prissy\n",
            "Friend skillful\n",
            "Friend squeamish\n",
            "Quaker Nice\n",
            "Quaker courteous\n",
            "Quaker dainty\n",
            "Quaker decent\n",
            "Quaker gracious\n",
            "Quaker overnice\n",
            "Quaker prissy\n",
            "Quaker skillful\n",
            "Quaker squeamish\n",
            "acquaintance Nice\n",
            "acquaintance courteous\n",
            "acquaintance dainty\n",
            "acquaintance decent\n",
            "acquaintance gracious\n",
            "acquaintance overnice\n",
            "acquaintance prissy\n",
            "acquaintance skillful\n",
            "acquaintance squeamish\n",
            "admirer Nice\n",
            "admirer courteous\n",
            "admirer dainty\n",
            "admirer decent\n",
            "admirer gracious\n",
            "admirer overnice\n",
            "admirer prissy\n",
            "admirer skillful\n",
            "admirer squeamish\n",
            "ally Nice\n",
            "ally courteous\n",
            "ally dainty\n",
            "ally decent\n",
            "ally gracious\n",
            "ally overnice\n",
            "ally prissy\n",
            "ally skillful\n",
            "ally squeamish\n",
            "booster Nice\n",
            "booster courteous\n",
            "booster dainty\n",
            "booster decent\n",
            "booster gracious\n",
            "booster overnice\n",
            "booster prissy\n",
            "booster skillful\n",
            "booster squeamish\n",
            "champion Nice\n",
            "champion courteous\n",
            "champion dainty\n",
            "champion decent\n",
            "champion gracious\n",
            "champion overnice\n",
            "champion prissy\n",
            "champion skillful\n",
            "champion squeamish\n",
            "friend Nice\n",
            "friend courteous\n",
            "friend dainty\n",
            "friend decent\n",
            "friend gracious\n",
            "friend overnice\n",
            "friend prissy\n",
            "friend skillful\n",
            "friend squeamish\n",
            "protagonist Nice\n",
            "protagonist courteous\n",
            "protagonist dainty\n",
            "protagonist decent\n",
            "protagonist gracious\n",
            "protagonist overnice\n",
            "protagonist prissy\n",
            "protagonist skillful\n",
            "protagonist squeamish\n",
            "supporter Nice\n",
            "supporter courteous\n",
            "supporter dainty\n",
            "supporter decent\n",
            "supporter gracious\n",
            "supporter overnice\n",
            "supporter prissy\n",
            "supporter skillful\n",
            "supporter squeamish\n"
          ]
        }
      ]
    },
    {
      "cell_type": "code",
      "source": [
        "final_result(possible_combo_2)"
      ],
      "metadata": {
        "colab": {
          "base_uri": "https://localhost:8080/"
        },
        "id": "rZhEeJKZLwAq",
        "outputId": "7ccfb62b-85ab-46c7-bce5-5cbd8115cfdc"
      },
      "execution_count": 16,
      "outputs": [
        {
          "output_type": "stream",
          "name": "stdout",
          "text": [
            "Canis familiaris athirst bad-tempered\n",
            "Canis familiaris athirst crabbed\n",
            "Canis familiaris athirst crabby\n",
            "Canis familiaris athirst cross\n",
            "Canis familiaris athirst fussy\n",
            "Canis familiaris athirst grouchy\n",
            "Canis familiaris athirst ill-tempered\n",
            "Canis familiaris thirsty bad-tempered\n",
            "Canis familiaris thirsty crabbed\n",
            "Canis familiaris thirsty crabby\n",
            "Canis familiaris thirsty cross\n",
            "Canis familiaris thirsty fussy\n",
            "Canis familiaris thirsty grouchy\n",
            "Canis familiaris thirsty ill-tempered\n",
            "andiron athirst bad-tempered\n",
            "andiron athirst crabbed\n",
            "andiron athirst crabby\n",
            "andiron athirst cross\n",
            "andiron athirst fussy\n",
            "andiron athirst grouchy\n",
            "andiron athirst ill-tempered\n",
            "andiron thirsty bad-tempered\n",
            "andiron thirsty crabbed\n",
            "andiron thirsty crabby\n",
            "andiron thirsty cross\n",
            "andiron thirsty fussy\n",
            "andiron thirsty grouchy\n",
            "andiron thirsty ill-tempered\n",
            "blackguard athirst bad-tempered\n",
            "blackguard athirst crabbed\n",
            "blackguard athirst crabby\n",
            "blackguard athirst cross\n",
            "blackguard athirst fussy\n",
            "blackguard athirst grouchy\n",
            "blackguard athirst ill-tempered\n",
            "blackguard thirsty bad-tempered\n",
            "blackguard thirsty crabbed\n",
            "blackguard thirsty crabby\n",
            "blackguard thirsty cross\n",
            "blackguard thirsty fussy\n",
            "blackguard thirsty grouchy\n",
            "blackguard thirsty ill-tempered\n",
            "bounder athirst bad-tempered\n",
            "bounder athirst crabbed\n",
            "bounder athirst crabby\n",
            "bounder athirst cross\n",
            "bounder athirst fussy\n",
            "bounder athirst grouchy\n",
            "bounder athirst ill-tempered\n",
            "bounder thirsty bad-tempered\n",
            "bounder thirsty crabbed\n",
            "bounder thirsty crabby\n",
            "bounder thirsty cross\n",
            "bounder thirsty fussy\n",
            "bounder thirsty grouchy\n",
            "bounder thirsty ill-tempered\n",
            "cad athirst bad-tempered\n",
            "cad athirst crabbed\n",
            "cad athirst crabby\n",
            "cad athirst cross\n",
            "cad athirst fussy\n",
            "cad athirst grouchy\n",
            "cad athirst ill-tempered\n",
            "cad thirsty bad-tempered\n",
            "cad thirsty crabbed\n",
            "cad thirsty crabby\n",
            "cad thirsty cross\n",
            "cad thirsty fussy\n",
            "cad thirsty grouchy\n",
            "cad thirsty ill-tempered\n",
            "chase athirst bad-tempered\n",
            "chase athirst crabbed\n",
            "chase athirst crabby\n",
            "chase athirst cross\n",
            "chase athirst fussy\n",
            "chase athirst grouchy\n",
            "chase athirst ill-tempered\n",
            "chase thirsty bad-tempered\n",
            "chase thirsty crabbed\n",
            "chase thirsty crabby\n",
            "chase thirsty cross\n",
            "chase thirsty fussy\n",
            "chase thirsty grouchy\n",
            "chase thirsty ill-tempered\n",
            "chase after athirst bad-tempered\n",
            "chase after athirst crabbed\n",
            "chase after athirst crabby\n",
            "chase after athirst cross\n",
            "chase after athirst fussy\n",
            "chase after athirst grouchy\n",
            "chase after athirst ill-tempered\n",
            "chase after thirsty bad-tempered\n",
            "chase after thirsty crabbed\n",
            "chase after thirsty crabby\n",
            "chase after thirsty cross\n",
            "chase after thirsty fussy\n",
            "chase after thirsty grouchy\n",
            "chase after thirsty ill-tempered\n",
            "click athirst bad-tempered\n",
            "click athirst crabbed\n",
            "click athirst crabby\n",
            "click athirst cross\n",
            "click athirst fussy\n",
            "click athirst grouchy\n",
            "click athirst ill-tempered\n",
            "click thirsty bad-tempered\n",
            "click thirsty crabbed\n",
            "click thirsty crabby\n",
            "click thirsty cross\n",
            "click thirsty fussy\n",
            "click thirsty grouchy\n",
            "click thirsty ill-tempered\n",
            "detent athirst bad-tempered\n",
            "detent athirst crabbed\n",
            "detent athirst crabby\n",
            "detent athirst cross\n",
            "detent athirst fussy\n",
            "detent athirst grouchy\n",
            "detent athirst ill-tempered\n",
            "detent thirsty bad-tempered\n",
            "detent thirsty crabbed\n",
            "detent thirsty crabby\n",
            "detent thirsty cross\n",
            "detent thirsty fussy\n",
            "detent thirsty grouchy\n",
            "detent thirsty ill-tempered\n",
            "dog-iron athirst bad-tempered\n",
            "dog-iron athirst crabbed\n",
            "dog-iron athirst crabby\n",
            "dog-iron athirst cross\n",
            "dog-iron athirst fussy\n",
            "dog-iron athirst grouchy\n",
            "dog-iron athirst ill-tempered\n",
            "dog-iron thirsty bad-tempered\n",
            "dog-iron thirsty crabbed\n",
            "dog-iron thirsty crabby\n",
            "dog-iron thirsty cross\n",
            "dog-iron thirsty fussy\n",
            "dog-iron thirsty grouchy\n",
            "dog-iron thirsty ill-tempered\n",
            "domestic dog athirst bad-tempered\n",
            "domestic dog athirst crabbed\n",
            "domestic dog athirst crabby\n",
            "domestic dog athirst cross\n",
            "domestic dog athirst fussy\n",
            "domestic dog athirst grouchy\n",
            "domestic dog athirst ill-tempered\n",
            "domestic dog thirsty bad-tempered\n",
            "domestic dog thirsty crabbed\n",
            "domestic dog thirsty crabby\n",
            "domestic dog thirsty cross\n",
            "domestic dog thirsty fussy\n",
            "domestic dog thirsty grouchy\n",
            "domestic dog thirsty ill-tempered\n",
            "firedog athirst bad-tempered\n",
            "firedog athirst crabbed\n",
            "firedog athirst crabby\n",
            "firedog athirst cross\n",
            "firedog athirst fussy\n",
            "firedog athirst grouchy\n",
            "firedog athirst ill-tempered\n",
            "firedog thirsty bad-tempered\n",
            "firedog thirsty crabbed\n",
            "firedog thirsty crabby\n",
            "firedog thirsty cross\n",
            "firedog thirsty fussy\n",
            "firedog thirsty grouchy\n",
            "firedog thirsty ill-tempered\n",
            "frank athirst bad-tempered\n",
            "frank athirst crabbed\n",
            "frank athirst crabby\n",
            "frank athirst cross\n",
            "frank athirst fussy\n",
            "frank athirst grouchy\n",
            "frank athirst ill-tempered\n",
            "frank thirsty bad-tempered\n",
            "frank thirsty crabbed\n",
            "frank thirsty crabby\n",
            "frank thirsty cross\n",
            "frank thirsty fussy\n",
            "frank thirsty grouchy\n",
            "frank thirsty ill-tempered\n",
            "frankfurter athirst bad-tempered\n",
            "frankfurter athirst crabbed\n",
            "frankfurter athirst crabby\n",
            "frankfurter athirst cross\n",
            "frankfurter athirst fussy\n",
            "frankfurter athirst grouchy\n",
            "frankfurter athirst ill-tempered\n",
            "frankfurter thirsty bad-tempered\n",
            "frankfurter thirsty crabbed\n",
            "frankfurter thirsty crabby\n",
            "frankfurter thirsty cross\n",
            "frankfurter thirsty fussy\n",
            "frankfurter thirsty grouchy\n",
            "frankfurter thirsty ill-tempered\n",
            "frump athirst bad-tempered\n",
            "frump athirst crabbed\n",
            "frump athirst crabby\n",
            "frump athirst cross\n",
            "frump athirst fussy\n",
            "frump athirst grouchy\n",
            "frump athirst ill-tempered\n",
            "frump thirsty bad-tempered\n",
            "frump thirsty crabbed\n",
            "frump thirsty crabby\n",
            "frump thirsty cross\n",
            "frump thirsty fussy\n",
            "frump thirsty grouchy\n",
            "frump thirsty ill-tempered\n",
            "give chase athirst bad-tempered\n",
            "give chase athirst crabbed\n",
            "give chase athirst crabby\n",
            "give chase athirst cross\n",
            "give chase athirst fussy\n",
            "give chase athirst grouchy\n",
            "give chase athirst ill-tempered\n",
            "give chase thirsty bad-tempered\n",
            "give chase thirsty crabbed\n",
            "give chase thirsty crabby\n",
            "give chase thirsty cross\n",
            "give chase thirsty fussy\n",
            "give chase thirsty grouchy\n",
            "give chase thirsty ill-tempered\n",
            "go after athirst bad-tempered\n",
            "go after athirst crabbed\n",
            "go after athirst crabby\n",
            "go after athirst cross\n",
            "go after athirst fussy\n",
            "go after athirst grouchy\n",
            "go after athirst ill-tempered\n",
            "go after thirsty bad-tempered\n",
            "go after thirsty crabbed\n",
            "go after thirsty crabby\n",
            "go after thirsty cross\n",
            "go after thirsty fussy\n",
            "go after thirsty grouchy\n",
            "go after thirsty ill-tempered\n",
            "heel athirst bad-tempered\n",
            "heel athirst crabbed\n",
            "heel athirst crabby\n",
            "heel athirst cross\n",
            "heel athirst fussy\n",
            "heel athirst grouchy\n",
            "heel athirst ill-tempered\n",
            "heel thirsty bad-tempered\n",
            "heel thirsty crabbed\n",
            "heel thirsty crabby\n",
            "heel thirsty cross\n",
            "heel thirsty fussy\n",
            "heel thirsty grouchy\n",
            "heel thirsty ill-tempered\n",
            "hot dog athirst bad-tempered\n",
            "hot dog athirst crabbed\n",
            "hot dog athirst crabby\n",
            "hot dog athirst cross\n",
            "hot dog athirst fussy\n",
            "hot dog athirst grouchy\n",
            "hot dog athirst ill-tempered\n",
            "hot dog thirsty bad-tempered\n",
            "hot dog thirsty crabbed\n",
            "hot dog thirsty crabby\n",
            "hot dog thirsty cross\n",
            "hot dog thirsty fussy\n",
            "hot dog thirsty grouchy\n",
            "hot dog thirsty ill-tempered\n",
            "hotdog athirst bad-tempered\n",
            "hotdog athirst crabbed\n",
            "hotdog athirst crabby\n",
            "hotdog athirst cross\n",
            "hotdog athirst fussy\n",
            "hotdog athirst grouchy\n",
            "hotdog athirst ill-tempered\n",
            "hotdog thirsty bad-tempered\n",
            "hotdog thirsty crabbed\n",
            "hotdog thirsty crabby\n",
            "hotdog thirsty cross\n",
            "hotdog thirsty fussy\n",
            "hotdog thirsty grouchy\n",
            "hotdog thirsty ill-tempered\n",
            "hound athirst bad-tempered\n",
            "hound athirst crabbed\n",
            "hound athirst crabby\n",
            "hound athirst cross\n",
            "hound athirst fussy\n",
            "hound athirst grouchy\n",
            "hound athirst ill-tempered\n",
            "hound thirsty bad-tempered\n",
            "hound thirsty crabbed\n",
            "hound thirsty crabby\n",
            "hound thirsty cross\n",
            "hound thirsty fussy\n",
            "hound thirsty grouchy\n",
            "hound thirsty ill-tempered\n",
            "pawl athirst bad-tempered\n",
            "pawl athirst crabbed\n",
            "pawl athirst crabby\n",
            "pawl athirst cross\n",
            "pawl athirst fussy\n",
            "pawl athirst grouchy\n",
            "pawl athirst ill-tempered\n",
            "pawl thirsty bad-tempered\n",
            "pawl thirsty crabbed\n",
            "pawl thirsty crabby\n",
            "pawl thirsty cross\n",
            "pawl thirsty fussy\n",
            "pawl thirsty grouchy\n",
            "pawl thirsty ill-tempered\n",
            "tag athirst bad-tempered\n",
            "tag athirst crabbed\n",
            "tag athirst crabby\n",
            "tag athirst cross\n",
            "tag athirst fussy\n",
            "tag athirst grouchy\n",
            "tag athirst ill-tempered\n",
            "tag thirsty bad-tempered\n",
            "tag thirsty crabbed\n",
            "tag thirsty crabby\n",
            "tag thirsty cross\n",
            "tag thirsty fussy\n",
            "tag thirsty grouchy\n",
            "tag thirsty ill-tempered\n",
            "tail athirst bad-tempered\n",
            "tail athirst crabbed\n",
            "tail athirst crabby\n",
            "tail athirst cross\n",
            "tail athirst fussy\n",
            "tail athirst grouchy\n",
            "tail athirst ill-tempered\n",
            "tail thirsty bad-tempered\n",
            "tail thirsty crabbed\n",
            "tail thirsty crabby\n",
            "tail thirsty cross\n",
            "tail thirsty fussy\n",
            "tail thirsty grouchy\n",
            "tail thirsty ill-tempered\n",
            "track athirst bad-tempered\n",
            "track athirst crabbed\n",
            "track athirst crabby\n",
            "track athirst cross\n",
            "track athirst fussy\n",
            "track athirst grouchy\n",
            "track athirst ill-tempered\n",
            "track thirsty bad-tempered\n",
            "track thirsty crabbed\n",
            "track thirsty crabby\n",
            "track thirsty cross\n",
            "track thirsty fussy\n",
            "track thirsty grouchy\n",
            "track thirsty ill-tempered\n",
            "trail athirst bad-tempered\n",
            "trail athirst crabbed\n",
            "trail athirst crabby\n",
            "trail athirst cross\n",
            "trail athirst fussy\n",
            "trail athirst grouchy\n",
            "trail athirst ill-tempered\n",
            "trail thirsty bad-tempered\n",
            "trail thirsty crabbed\n",
            "trail thirsty crabby\n",
            "trail thirsty cross\n",
            "trail thirsty fussy\n",
            "trail thirsty grouchy\n",
            "trail thirsty ill-tempered\n",
            "weenie athirst bad-tempered\n",
            "weenie athirst crabbed\n",
            "weenie athirst crabby\n",
            "weenie athirst cross\n",
            "weenie athirst fussy\n",
            "weenie athirst grouchy\n",
            "weenie athirst ill-tempered\n",
            "weenie thirsty bad-tempered\n",
            "weenie thirsty crabbed\n",
            "weenie thirsty crabby\n",
            "weenie thirsty cross\n",
            "weenie thirsty fussy\n",
            "weenie thirsty grouchy\n",
            "weenie thirsty ill-tempered\n",
            "wiener athirst bad-tempered\n",
            "wiener athirst crabbed\n",
            "wiener athirst crabby\n",
            "wiener athirst cross\n",
            "wiener athirst fussy\n",
            "wiener athirst grouchy\n",
            "wiener athirst ill-tempered\n",
            "wiener thirsty bad-tempered\n",
            "wiener thirsty crabbed\n",
            "wiener thirsty crabby\n",
            "wiener thirsty cross\n",
            "wiener thirsty fussy\n",
            "wiener thirsty grouchy\n",
            "wiener thirsty ill-tempered\n",
            "wienerwurst athirst bad-tempered\n",
            "wienerwurst athirst crabbed\n",
            "wienerwurst athirst crabby\n",
            "wienerwurst athirst cross\n",
            "wienerwurst athirst fussy\n",
            "wienerwurst athirst grouchy\n",
            "wienerwurst athirst ill-tempered\n",
            "wienerwurst thirsty bad-tempered\n",
            "wienerwurst thirsty crabbed\n",
            "wienerwurst thirsty crabby\n",
            "wienerwurst thirsty cross\n",
            "wienerwurst thirsty fussy\n",
            "wienerwurst thirsty grouchy\n",
            "wienerwurst thirsty ill-tempered\n"
          ]
        }
      ]
    },
    {
      "cell_type": "code",
      "source": [
        "final_result(possible_combo_3)"
      ],
      "metadata": {
        "colab": {
          "base_uri": "https://localhost:8080/"
        },
        "id": "QZzAVBUtLv95",
        "outputId": "9c3aa900-5457-4971-a886-6f7ec5d938b3"
      },
      "execution_count": 17,
      "outputs": [
        {
          "output_type": "stream",
          "name": "stdout",
          "text": [
            "bribe bicycle\n",
            "bribe cycle\n",
            "bribe motorcycle\n",
            "bribe pedal\n",
            "bribe wheel\n",
            "buy bicycle\n",
            "buy cycle\n",
            "buy motorcycle\n",
            "buy pedal\n",
            "buy wheel\n",
            "corrupt bicycle\n",
            "corrupt cycle\n",
            "corrupt motorcycle\n",
            "corrupt pedal\n",
            "corrupt wheel\n",
            "grease one's palms bicycle\n",
            "grease one's palms cycle\n",
            "grease one's palms motorcycle\n",
            "grease one's palms pedal\n",
            "grease one's palms wheel\n",
            "purchase bicycle\n",
            "purchase cycle\n",
            "purchase motorcycle\n",
            "purchase pedal\n",
            "purchase wheel\n"
          ]
        }
      ]
    },
    {
      "cell_type": "code",
      "source": [],
      "metadata": {
        "id": "y0xxZk5GL6dc"
      },
      "execution_count": 17,
      "outputs": []
    },
    {
      "cell_type": "code",
      "source": [
        "# Question 2"
      ],
      "metadata": {
        "id": "LeWMVUWABFtN"
      },
      "execution_count": 18,
      "outputs": []
    },
    {
      "cell_type": "code",
      "source": [
        "# https://nlpforhackers.io/wordnet-sentence-similarity/"
      ],
      "metadata": {
        "id": "BHrOMuhBC42M"
      },
      "execution_count": 19,
      "outputs": []
    },
    {
      "cell_type": "code",
      "source": [
        "from nltk import word_tokenize, pos_tag\n",
        "from nltk.corpus import wordnet as wn\n",
        "from nltk.util import ngrams\n",
        "from nltk.tag import DefaultTagger \n",
        "from nltk import NgramTagger\n",
        "from nltk import bigrams"
      ],
      "metadata": {
        "id": "m9PRDe8BFOlF"
      },
      "execution_count": 20,
      "outputs": []
    },
    {
      "cell_type": "code",
      "source": [
        "sentence_1 = \"a small dog that is hungry\"\n",
        "sentence_2 = \"a petite canine who runs\""
      ],
      "metadata": {
        "id": "M1tuKWIAFViq"
      },
      "execution_count": 21,
      "outputs": []
    },
    {
      "cell_type": "code",
      "source": [
        "def penn_to_wn(tag):\n",
        "    \"\"\" Convert between a Penn Treebank tag to a simplified Wordnet tag \"\"\"\n",
        "    if tag.startswith('N'):\n",
        "        return 'n'\n",
        " \n",
        "    if tag.startswith('V'):\n",
        "        return 'v'\n",
        " \n",
        "    if tag.startswith('J'):\n",
        "        return 'a'\n",
        " \n",
        "    if tag.startswith('R'):\n",
        "        return 'r'\n",
        " \n",
        "    return None\n",
        " \n",
        "def tagged_to_synset(word, tag):\n",
        "    wn_tag = penn_to_wn(tag)\n",
        "    if wn_tag is None:\n",
        "        return None\n",
        " \n",
        "    try:\n",
        "        return wn.synsets(word, wn_tag)[0]\n",
        "    except:\n",
        "        return None\n",
        " \n",
        "def sentence_similarity(sentence1, sentence2):\n",
        "    \"\"\" compute the sentence similarity using Wordnet \"\"\"\n",
        "\n",
        "\n",
        "    # Tokenize and tag\n",
        "\n",
        "    sentence_1_wordsFiltered = []\n",
        "    sentence_2_wordsFiltered = []\n",
        "\n",
        "    for w in word_tokenize(sentence1):\n",
        "        if w not in skip:\n",
        "            sentence_1_wordsFiltered.append(w)\n",
        "\n",
        "    for w in word_tokenize(sentence2):\n",
        "        if w not in skip:\n",
        "            sentence_2_wordsFiltered.append(w)\n",
        "\n",
        "    sentence1 = pos_tag(sentence_1_wordsFiltered)\n",
        "    sentence2 = pos_tag(sentence_2_wordsFiltered)\n",
        " \n",
        "    # Get the synsets for the tagged words\n",
        "    synsets1 = [tagged_to_synset(*tagged_word) for tagged_word in sentence1]\n",
        "    synsets2 = [tagged_to_synset(*tagged_word) for tagged_word in sentence2]\n",
        "    \n",
        "    # Filter out the Nones\n",
        "    synsets1 = [ss for ss in synsets1 if ss]\n",
        "    synsets2 = [ss for ss in synsets2 if ss]\n",
        "    \n",
        "\n",
        "    score, count = 0.0, 0\n",
        " \n",
        "    # For each word in the first sentence\n",
        "    for synset in synsets1:\n",
        "        # Get the similarity value of the most similar word in the other sentence\n",
        "        best_score = max([synset.path_similarity(ss) for ss in synsets2])\n",
        " \n",
        "        # Check that the similarity could have been computed\n",
        "        if best_score is not None:\n",
        "            score += best_score\n",
        "            count += 1\n",
        " \n",
        "    # Average the values\n",
        "    score /= count\n",
        "    return score"
      ],
      "metadata": {
        "id": "JVohN54eITIs"
      },
      "execution_count": 22,
      "outputs": []
    },
    {
      "cell_type": "code",
      "source": [
        "sentence_similarity(sentence_1, sentence_2)"
      ],
      "metadata": {
        "colab": {
          "base_uri": "https://localhost:8080/"
        },
        "id": "qDxxeUtORvzY",
        "outputId": "e76f7e76-8540-4aa9-e75c-fb4301f33f0c"
      },
      "execution_count": 23,
      "outputs": [
        {
          "output_type": "execute_result",
          "data": {
            "text/plain": [
              "0.2121212121212121"
            ]
          },
          "metadata": {},
          "execution_count": 23
        }
      ]
    },
    {
      "cell_type": "code",
      "source": [
        "sentence_similarity(sentence_2, sentence_1)"
      ],
      "metadata": {
        "colab": {
          "base_uri": "https://localhost:8080/"
        },
        "id": "zjtog3QIRvue",
        "outputId": "6ea6e314-4cfc-4030-88fb-bc1f46838673"
      },
      "execution_count": 24,
      "outputs": [
        {
          "output_type": "execute_result",
          "data": {
            "text/plain": [
              "0.1623931623931624"
            ]
          },
          "metadata": {},
          "execution_count": 24
        }
      ]
    },
    {
      "cell_type": "code",
      "source": [
        "from collections import Counter\n",
        "import math"
      ],
      "metadata": {
        "id": "Ei11qzM2C8ih"
      },
      "execution_count": 25,
      "outputs": []
    },
    {
      "cell_type": "code",
      "source": [],
      "metadata": {
        "id": "QqVYZkKFE0Mc"
      },
      "execution_count": 25,
      "outputs": []
    },
    {
      "cell_type": "code",
      "source": [
        "# Reference: https://gist.github.com/gaulinmp/da5825de975ed0ea6a24186434c24fe4"
      ],
      "metadata": {
        "id": "uOmIHJesFKf9"
      },
      "execution_count": 26,
      "outputs": []
    },
    {
      "cell_type": "code",
      "source": [
        "sentence_1 = \"Above is a bad example of four-gram similarity.\"\n",
        "sentence_2 = \"This is a better example of four-gram similarity.\""
      ],
      "metadata": {
        "id": "ZLWlLgdUE0FR"
      },
      "execution_count": 27,
      "outputs": []
    },
    {
      "cell_type": "code",
      "source": [
        "def get_tuples_nosentences(sentence):\n",
        "    NGRAM = 4\n",
        "    text = word_tokenize(sentence)\n",
        "\n",
        "    text_ngram = list(ngrams(text, NGRAM))\n",
        "    return text_ngram\n",
        "\n",
        "def jaccard_distance(a, b):\n",
        "    \"\"\"Calculate the jaccard distance between sets A and B\"\"\"\n",
        "    a = set(a)\n",
        "    b = set(b)\n",
        "    return 1.0 * len(a&b)/len(a|b)\n",
        "\n",
        "def cosine_similarity_ngrams(a, b):\n",
        "    vec1 = Counter(a)\n",
        "    vec2 = Counter(b)\n",
        "    \n",
        "    intersection = set(vec1.keys()) & set(vec2.keys())\n",
        "    numerator = sum([vec1[x] * vec2[x] for x in intersection])\n",
        "\n",
        "    sum1 = sum([vec1[x]**2 for x in vec1.keys()])\n",
        "    sum2 = sum([vec2[x]**2 for x in vec2.keys()])\n",
        "    denominator = math.sqrt(sum1) * math.sqrt(sum2)\n",
        "\n",
        "    if not denominator:\n",
        "        return 0.0\n",
        "    return float(numerator) / denominator"
      ],
      "metadata": {
        "id": "qPxWtEkAC8f7"
      },
      "execution_count": 28,
      "outputs": []
    },
    {
      "cell_type": "code",
      "source": [
        "test_1 = get_tuples_nosentences(sentence_1)\n",
        "test_2 = get_tuples_nosentences(sentence_2)"
      ],
      "metadata": {
        "id": "mfx7vOfrC8dC"
      },
      "execution_count": 29,
      "outputs": []
    },
    {
      "cell_type": "code",
      "source": [
        "cosine_similarity_ngrams(test_1, test_2)"
      ],
      "metadata": {
        "colab": {
          "base_uri": "https://localhost:8080/"
        },
        "id": "399Y3EmvC8aZ",
        "outputId": "4b555ab5-09b4-418e-fec3-141463dc0ff1"
      },
      "execution_count": 30,
      "outputs": [
        {
          "output_type": "execute_result",
          "data": {
            "text/plain": [
              "0.33333333333333337"
            ]
          },
          "metadata": {},
          "execution_count": 30
        }
      ]
    },
    {
      "cell_type": "code",
      "source": [
        "jaccard_distance(test_1, test_2)"
      ],
      "metadata": {
        "colab": {
          "base_uri": "https://localhost:8080/"
        },
        "id": "aQc7vdZUV2Qu",
        "outputId": "1eb41df1-1ba1-41ef-ca27-f6aa105c18e3"
      },
      "execution_count": 31,
      "outputs": [
        {
          "output_type": "execute_result",
          "data": {
            "text/plain": [
              "0.2"
            ]
          },
          "metadata": {},
          "execution_count": 31
        }
      ]
    },
    {
      "cell_type": "code",
      "source": [],
      "metadata": {
        "id": "w0yicg0VFGHE"
      },
      "execution_count": 31,
      "outputs": []
    },
    {
      "cell_type": "code",
      "source": [
        "# Question 3"
      ],
      "metadata": {
        "id": "kJ5IRTmbVzPB"
      },
      "execution_count": 32,
      "outputs": []
    },
    {
      "cell_type": "code",
      "source": [
        "from nltk.corpus import wordnet as omw"
      ],
      "metadata": {
        "id": "iZl52_kfYlPc"
      },
      "execution_count": 33,
      "outputs": []
    },
    {
      "cell_type": "code",
      "source": [
        "sentence = \"a small dog that is hungry\"\n",
        "words = word_tokenize(sentence)\n",
        "wordsFiltered = []\n",
        "\n",
        "for w in words:\n",
        "    if w not in skip:\n",
        "        wordsFiltered.append(w)\n",
        "\n",
        "wss = [ wn.synsets(w) for w in wordsFiltered ]"
      ],
      "metadata": {
        "id": "56Ab2UnXlHrf"
      },
      "execution_count": 34,
      "outputs": []
    },
    {
      "cell_type": "code",
      "source": [
        "def Extract(lst):\n",
        "    return [item[0] for item in lst]\n",
        "\n",
        "wss_syn = Extract(wss)"
      ],
      "metadata": {
        "id": "xvrgaWQDlLqF"
      },
      "execution_count": 35,
      "outputs": []
    },
    {
      "cell_type": "code",
      "source": [
        "wss_syn_translated_final = []\n",
        "for i in range(len(wss_syn)):\n",
        "  wss_syn_translated = wss_syn[i].lemma_names('fra')\n",
        "  wss_syn_translated_final.append(wss_syn_translated)"
      ],
      "metadata": {
        "id": "Et4vrWuNpNJy"
      },
      "execution_count": 36,
      "outputs": []
    },
    {
      "cell_type": "code",
      "source": [
        "wss_syn_translated_final"
      ],
      "metadata": {
        "colab": {
          "base_uri": "https://localhost:8080/"
        },
        "id": "mb9O6O0tpNC2",
        "outputId": "706f60ba-4bd1-4bc8-93b2-cdda7bd9e73c"
      },
      "execution_count": 37,
      "outputs": [
        {
          "output_type": "execute_result",
          "data": {
            "text/plain": [
              "[['jeune', 'petit'], ['canis_familiaris', 'chien'], ['affamé', 'avoir_faim']]"
            ]
          },
          "metadata": {},
          "execution_count": 37
        }
      ]
    },
    {
      "cell_type": "code",
      "source": [
        "translation_combo = list(itertools.product(*wss_syn_translated_final))"
      ],
      "metadata": {
        "id": "duJFauFgpjZ4"
      },
      "execution_count": 38,
      "outputs": []
    },
    {
      "cell_type": "code",
      "source": [
        "translation_combo"
      ],
      "metadata": {
        "colab": {
          "base_uri": "https://localhost:8080/"
        },
        "id": "VaxBJ9cJpjW1",
        "outputId": "a8a286fa-b680-4f93-aeb7-07b62205798e"
      },
      "execution_count": 39,
      "outputs": [
        {
          "output_type": "execute_result",
          "data": {
            "text/plain": [
              "[('jeune', 'canis_familiaris', 'affamé'),\n",
              " ('jeune', 'canis_familiaris', 'avoir_faim'),\n",
              " ('jeune', 'chien', 'affamé'),\n",
              " ('jeune', 'chien', 'avoir_faim'),\n",
              " ('petit', 'canis_familiaris', 'affamé'),\n",
              " ('petit', 'canis_familiaris', 'avoir_faim'),\n",
              " ('petit', 'chien', 'affamé'),\n",
              " ('petit', 'chien', 'avoir_faim')]"
            ]
          },
          "metadata": {},
          "execution_count": 39
        }
      ]
    },
    {
      "cell_type": "code",
      "source": [
        "# function that converts tuple to string\n",
        "def join_tuple_string(strings_tuple) -> str:\n",
        "   return ' '.join(strings_tuple)\n",
        "\n",
        "# joining all the tuples\n",
        "result = map(join_tuple_string, translation_combo)\n",
        "\n",
        "# converting and printing the result\n",
        "final_result = list(result)"
      ],
      "metadata": {
        "id": "Bd3fCFBBp4TI"
      },
      "execution_count": 40,
      "outputs": []
    },
    {
      "cell_type": "code",
      "source": [
        "final_result"
      ],
      "metadata": {
        "colab": {
          "base_uri": "https://localhost:8080/"
        },
        "id": "WUAJOEd4p4Ie",
        "outputId": "523083ca-d53b-40be-b3de-09b11ee67379"
      },
      "execution_count": 41,
      "outputs": [
        {
          "output_type": "execute_result",
          "data": {
            "text/plain": [
              "['jeune canis_familiaris affamé',\n",
              " 'jeune canis_familiaris avoir_faim',\n",
              " 'jeune chien affamé',\n",
              " 'jeune chien avoir_faim',\n",
              " 'petit canis_familiaris affamé',\n",
              " 'petit canis_familiaris avoir_faim',\n",
              " 'petit chien affamé',\n",
              " 'petit chien avoir_faim']"
            ]
          },
          "metadata": {},
          "execution_count": 41
        }
      ]
    },
    {
      "cell_type": "code",
      "source": [],
      "metadata": {
        "id": "KpUfm_etuOPh"
      },
      "execution_count": 41,
      "outputs": []
    },
    {
      "cell_type": "code",
      "source": [
        "# pip install spacy"
      ],
      "metadata": {
        "id": "K1fFoCIAfeb8"
      },
      "execution_count": 42,
      "outputs": []
    },
    {
      "cell_type": "code",
      "source": [
        "# pip install spacy-language-detection"
      ],
      "metadata": {
        "id": "VJCZd_vtfhSR"
      },
      "execution_count": 43,
      "outputs": []
    },
    {
      "cell_type": "code",
      "source": [
        "import spacy\n",
        "from spacy.language import Language\n",
        "from spacy_language_detection import LanguageDetector"
      ],
      "metadata": {
        "id": "BbAxwd7Qe3lW"
      },
      "execution_count": 44,
      "outputs": []
    },
    {
      "cell_type": "code",
      "source": [
        "def get_lang_detector(nlp, name):\n",
        "    return LanguageDetector(seed=42)  # We use the seed 42"
      ],
      "metadata": {
        "id": "fUofDBDKdR-w"
      },
      "execution_count": 45,
      "outputs": []
    },
    {
      "cell_type": "code",
      "source": [
        "nlp_model = spacy.load(\"en_core_web_sm\")\n",
        "Language.factory(\"language_detector\", func=get_lang_detector)\n",
        "nlp_model.add_pipe('language_detector', last=True)"
      ],
      "metadata": {
        "colab": {
          "base_uri": "https://localhost:8080/"
        },
        "id": "LhoERX4ye2O7",
        "outputId": "f4801a92-3399-48c4-aac0-29078bf60f96"
      },
      "execution_count": 46,
      "outputs": [
        {
          "output_type": "execute_result",
          "data": {
            "text/plain": [
              "<spacy_language_detection.spacy_language_detector.LanguageDetector at 0x7f246df21d50>"
            ]
          },
          "metadata": {},
          "execution_count": 46
        }
      ]
    },
    {
      "cell_type": "code",
      "source": [
        "for sentence in final_result:\n",
        "  sentence = sentence.replace(\"_\", \" \")\n",
        "  doc = nlp_model(sentence)\n",
        "  language = doc._.language\n",
        "  print(sentence, language)"
      ],
      "metadata": {
        "colab": {
          "base_uri": "https://localhost:8080/"
        },
        "id": "sjAHFqQZhJ8_",
        "outputId": "92bdf17a-9b61-4d79-b7c6-27900787af9b"
      },
      "execution_count": 47,
      "outputs": [
        {
          "output_type": "stream",
          "name": "stdout",
          "text": [
            "jeune canis familiaris affamé {'language': 'fr', 'score': 0.999996535025026}\n",
            "jeune canis familiaris avoir faim {'language': 'fr', 'score': 0.9999960866244212}\n",
            "jeune chien affamé {'language': 'fr', 'score': 0.9999973139194563}\n",
            "jeune chien avoir faim {'language': 'fr', 'score': 0.9999972851163059}\n",
            "petit canis familiaris affamé {'language': 'fr', 'score': 0.9999967457605277}\n",
            "petit canis familiaris avoir faim {'language': 'fr', 'score': 0.9999977944158209}\n",
            "petit chien affamé {'language': 'fr', 'score': 0.9999963837162458}\n",
            "petit chien avoir faim {'language': 'fr', 'score': 0.9999965788932454}\n"
          ]
        }
      ]
    },
    {
      "cell_type": "code",
      "source": [],
      "metadata": {
        "id": "pbS0KE9vtIMF"
      },
      "execution_count": 47,
      "outputs": []
    }
  ]
}