{
  "nbformat": 4,
  "nbformat_minor": 0,
  "metadata": {
    "colab": {
      "provenance": [],
      "collapsed_sections": [],
      "include_colab_link": true
    },
    "kernelspec": {
      "name": "python3",
      "display_name": "Python 3"
    },
    "language_info": {
      "name": "python"
    }
  },
  "cells": [
    {
      "cell_type": "markdown",
      "metadata": {
        "id": "view-in-github",
        "colab_type": "text"
      },
      "source": [
        "<a href=\"https://colab.research.google.com/github/virtualspark/YCNG232-NLP_Fundamentals/blob/main/Reflexion_Week_1.ipynb\" target=\"_parent\"><img src=\"https://colab.research.google.com/assets/colab-badge.svg\" alt=\"Open In Colab\"/></a>"
      ]
    },
    {
      "cell_type": "code",
      "execution_count": 1,
      "metadata": {
        "id": "yLtDvuWerPps",
        "colab": {
          "base_uri": "https://localhost:8080/"
        },
        "outputId": "a54580b2-edec-403c-f290-f0205b44eef3"
      },
      "outputs": [
        {
          "output_type": "stream",
          "name": "stdout",
          "text": [
            "Looking in indexes: https://pypi.org/simple, https://us-python.pkg.dev/colab-wheels/public/simple/\n",
            "Requirement already satisfied: gutenbergpy in /usr/local/lib/python3.7/dist-packages (0.3.4)\n",
            "Requirement already satisfied: pymongo in /usr/local/lib/python3.7/dist-packages (from gutenbergpy) (4.2.0)\n",
            "Requirement already satisfied: future>=0.15.2 in /usr/local/lib/python3.7/dist-packages (from gutenbergpy) (0.16.0)\n",
            "Requirement already satisfied: setuptools>=18.5 in /usr/local/lib/python3.7/dist-packages (from gutenbergpy) (57.4.0)\n",
            "Requirement already satisfied: httpsproxy-urllib2 in /usr/local/lib/python3.7/dist-packages (from gutenbergpy) (1.0)\n",
            "Requirement already satisfied: lxml>=3.2.0 in /usr/local/lib/python3.7/dist-packages (from gutenbergpy) (4.9.1)\n",
            "Requirement already satisfied: chardet in /usr/local/lib/python3.7/dist-packages (from gutenbergpy) (3.0.4)\n"
          ]
        }
      ],
      "source": [
        "!pip install gutenbergpy # https://github.com/raduangelescu/gutenbergpy to get access to full texts of books"
      ]
    },
    {
      "cell_type": "code",
      "source": [
        "target = 47360 # Title: Le second rang du collier, by Judith Gautier\n",
        "import gutenbergpy.textget\n",
        "raw  = gutenbergpy.textget.get_text_by_id(target) # access the content\n",
        "text = gutenbergpy.textget.strip_headers(raw) # remove header metadata\n",
        "count = 100 # how many characters we wish to see\n",
        "print(text[:count]) \n",
        "print(text[-count:])"
      ],
      "metadata": {
        "colab": {
          "base_uri": "https://localhost:8080/"
        },
        "id": "9vlYqB1vrxUb",
        "outputId": "ff277354-7857-4a13-b8c1-8fee021e1aa5"
      },
      "execution_count": 2,
      "outputs": [
        {
          "output_type": "stream",
          "name": "stdout",
          "text": [
            "b'http://www.freeliterature.org (Images generously made\\navailable by The Bodleian Libraryin Oxford)\\n\\n\\n'\n",
            "b'R\\xc3\\x89GOIRE XVI (1831-1846) qui faisait ses d\\xc3\\xa9lices de Paul de Kock, dont\\nil italianisait le nom.\\n\\n\\n\\n\\n'\n"
          ]
        }
      ]
    },
    {
      "cell_type": "code",
      "source": [
        "s = text.decode(\"utf-8\") # get a string from the byte sequence\n",
        "marker = '1909'\n",
        "startPosition = s.index(marker) + len(marker)\n",
        "content = s[startPosition:]\n",
        "print(content[:count]) # beginning\n",
        "print(content[-count:]) # end"
      ],
      "metadata": {
        "colab": {
          "base_uri": "https://localhost:8080/"
        },
        "id": "GM7Mj0eFsltH",
        "outputId": "67c1ddf4-b153-47ec-9fff-d782625607c1"
      },
      "execution_count": 3,
      "outputs": [
        {
          "output_type": "stream",
          "name": "stdout",
          "text": [
            "\n",
            "\n",
            "\n",
            "\n",
            "\n",
            "I\n",
            "\n",
            "\n",
            "--Je suis sûr, Théo, que mam'zelle Huai, enseigne à vos filles le plus\n",
            "pur accent marseilla\n",
            "\n",
            "GRÉGOIRE XVI (1831-1846) qui faisait ses délices de Paul de Kock, dont\n",
            "il italianisait le nom.\n",
            "\n",
            "\n",
            "\n",
            "\n",
            "\n"
          ]
        }
      ]
    },
    {
      "cell_type": "code",
      "source": [
        "# Step 1: Count estimate of number of sentences"
      ],
      "metadata": {
        "id": "IEM5QKfuvO2f"
      },
      "execution_count": 4,
      "outputs": []
    },
    {
      "cell_type": "code",
      "source": [
        "import nltk\n",
        "nltk.download('punkt')\n",
        "from nltk.tokenize import sent_tokenize"
      ],
      "metadata": {
        "colab": {
          "base_uri": "https://localhost:8080/"
        },
        "id": "x8YbMM6Ms7RA",
        "outputId": "cd79a89c-04f9-4e83-a0f5-909f0de416c6"
      },
      "execution_count": 5,
      "outputs": [
        {
          "output_type": "stream",
          "name": "stderr",
          "text": [
            "[nltk_data] Downloading package punkt to /root/nltk_data...\n",
            "[nltk_data]   Package punkt is already up-to-date!\n"
          ]
        }
      ]
    },
    {
      "cell_type": "code",
      "source": [
        "number_of_sentences = sent_tokenize(content)\n",
        "print(len(number_of_sentences))"
      ],
      "metadata": {
        "colab": {
          "base_uri": "https://localhost:8080/"
        },
        "id": "CDMREnuKvBlm",
        "outputId": "8b1a91e6-75f6-43d3-a8b8-e6fbc2ae226a"
      },
      "execution_count": 6,
      "outputs": [
        {
          "output_type": "stream",
          "name": "stdout",
          "text": [
            "3179\n"
          ]
        }
      ]
    },
    {
      "cell_type": "code",
      "source": [],
      "metadata": {
        "id": "SsuRayXxvLgp"
      },
      "execution_count": 6,
      "outputs": []
    },
    {
      "cell_type": "code",
      "source": [
        "# Step 2: Count estimate of number of paragraphs"
      ],
      "metadata": {
        "id": "1eGMcOuPwgwJ"
      },
      "execution_count": 7,
      "outputs": []
    },
    {
      "cell_type": "code",
      "source": [
        "lines = content.strip().splitlines() # to remove empty lines at the beginning and end   \n",
        "emptylines = [e for e in lines if e.strip() == ''] # find empty lines (line between paragraph and another)\n",
        "len(emptylines)"
      ],
      "metadata": {
        "id": "IvEkSYNWwjrg",
        "colab": {
          "base_uri": "https://localhost:8080/"
        },
        "outputId": "bdcb68c8-aee6-48d1-a443-f978842b154a"
      },
      "execution_count": 8,
      "outputs": [
        {
          "output_type": "execute_result",
          "data": {
            "text/plain": [
              "1685"
            ]
          },
          "metadata": {},
          "execution_count": 8
        }
      ]
    },
    {
      "cell_type": "code",
      "source": [],
      "metadata": {
        "id": "kiO7HabWddpc"
      },
      "execution_count": 8,
      "outputs": []
    },
    {
      "cell_type": "code",
      "source": [
        "# Step 3: Remove punctuations"
      ],
      "metadata": {
        "id": "0Pf2NVt71CEK"
      },
      "execution_count": 9,
      "outputs": []
    },
    {
      "cell_type": "code",
      "source": [
        "from nltk.tokenize import RegexpTokenizer\n",
        "\n",
        "tokenizer = RegexpTokenizer(r'\\w+')\n",
        "words = tokenizer.tokenize(content)\n",
        "words_join_no_punctuations = ' '.join(words)\n",
        "# print(words_join_no_punctuations)"
      ],
      "metadata": {
        "id": "RtLYVh7D1B_D"
      },
      "execution_count": 10,
      "outputs": []
    },
    {
      "cell_type": "code",
      "source": [],
      "metadata": {
        "id": "HOR2J27x1B3r"
      },
      "execution_count": 10,
      "outputs": []
    },
    {
      "cell_type": "code",
      "source": [
        "# Step 4: Find all words in the book while removing stopwords"
      ],
      "metadata": {
        "id": "HUnbytTB3DW8"
      },
      "execution_count": 11,
      "outputs": []
    },
    {
      "cell_type": "code",
      "source": [
        "import nltk\n",
        "nltk.download('stopwords')\n",
        "from nltk.corpus import stopwords\n",
        "skip = stopwords.words('french')"
      ],
      "metadata": {
        "colab": {
          "base_uri": "https://localhost:8080/"
        },
        "id": "Y2i3Vj_K26Ne",
        "outputId": "82c6be43-1fd5-4ecf-9b81-239b9b6b351f"
      },
      "execution_count": 12,
      "outputs": [
        {
          "output_type": "stream",
          "name": "stderr",
          "text": [
            "[nltk_data] Downloading package stopwords to /root/nltk_data...\n",
            "[nltk_data]   Package stopwords is already up-to-date!\n"
          ]
        }
      ]
    },
    {
      "cell_type": "code",
      "source": [
        "from nltk import sent_tokenize, word_tokenize"
      ],
      "metadata": {
        "id": "PwTvnQ-IkLkU"
      },
      "execution_count": 13,
      "outputs": []
    },
    {
      "cell_type": "code",
      "source": [
        "words = word_tokenize(words_join_no_punctuations)\n",
        "wordsFiltered = []\n",
        "\n",
        "for w in words:\n",
        "    if w not in skip and len(w) > 3:\n",
        "        wordsFiltered.append(w)\n",
        "\n",
        "words_join_no_stopwords = ' '.join(wordsFiltered)\n",
        "# print(words_join_no_stopwords)"
      ],
      "metadata": {
        "id": "mOL770Pk26Qa"
      },
      "execution_count": 14,
      "outputs": []
    },
    {
      "cell_type": "code",
      "source": [],
      "metadata": {
        "id": "m3es9Yvu4Bud"
      },
      "execution_count": 14,
      "outputs": []
    },
    {
      "cell_type": "code",
      "source": [
        "# Step 5: Number of names in the text"
      ],
      "metadata": {
        "id": "JyUKNG1Hwmrd"
      },
      "execution_count": 15,
      "outputs": []
    },
    {
      "cell_type": "code",
      "source": [],
      "metadata": {
        "id": "TZNlX3SE_v1b"
      },
      "execution_count": 15,
      "outputs": []
    },
    {
      "cell_type": "code",
      "source": [
        "words_names = word_tokenize(words_join_no_stopwords)\n",
        "possible_names = [word for word in words_names[1:] if word[0].isupper() and len(word) > 3]\n",
        "# print(possible_names)\n",
        "print(len(possible_names))"
      ],
      "metadata": {
        "colab": {
          "base_uri": "https://localhost:8080/"
        },
        "id": "aNcaUdCm_mJy",
        "outputId": "c250c14c-c887-4322-f6de-a57a987562f7"
      },
      "execution_count": 16,
      "outputs": [
        {
          "output_type": "stream",
          "name": "stdout",
          "text": [
            "3518\n"
          ]
        }
      ]
    },
    {
      "cell_type": "code",
      "source": [],
      "metadata": {
        "id": "XRc_tdsq_nKI"
      },
      "execution_count": 16,
      "outputs": []
    },
    {
      "cell_type": "code",
      "source": [
        "# Step 6: Find and append all stopwords in the book"
      ],
      "metadata": {
        "id": "1wmB6X7IDaE5"
      },
      "execution_count": 17,
      "outputs": []
    },
    {
      "cell_type": "code",
      "source": [
        "from collections import Counter"
      ],
      "metadata": {
        "id": "EGZGCHs3zrw6"
      },
      "execution_count": 18,
      "outputs": []
    },
    {
      "cell_type": "code",
      "source": [
        "words = word_tokenize(words_join_no_punctuations)\n",
        "stopwordsFiltered = []\n",
        "\n",
        "for w in words:\n",
        "    if w in skip:\n",
        "        stopwordsFiltered.append(w)\n",
        "\n",
        "words_join_stopwords = ' '.join(stopwordsFiltered)\n",
        "# print(words_join_stopwords)"
      ],
      "metadata": {
        "id": "Hqgo-rc04yXX"
      },
      "execution_count": 19,
      "outputs": []
    },
    {
      "cell_type": "code",
      "source": [],
      "metadata": {
        "id": "wqjo4prrDmdX"
      },
      "execution_count": 19,
      "outputs": []
    },
    {
      "cell_type": "code",
      "source": [
        "# Step 7: Count the number of stopwords in the book"
      ],
      "metadata": {
        "id": "zQM8goTiDoLL"
      },
      "execution_count": 20,
      "outputs": []
    },
    {
      "cell_type": "code",
      "source": [
        "NUM_WORDS = 10\n",
        "\n",
        "word_counts = Counter(word for word in stopwordsFiltered)\n",
        "print(f'\\nThe {NUM_WORDS} most frequent stopwords are:\\n')\n",
        "for i, (word, count) in enumerate(word_counts.most_common(NUM_WORDS)):\n",
        "    print('%2s. %4s %s' % (i, count, word))"
      ],
      "metadata": {
        "colab": {
          "base_uri": "https://localhost:8080/"
        },
        "id": "8_uxdWhVx5P4",
        "outputId": "d41eecfa-7541-4142-a987-f853bccfa7dd"
      },
      "execution_count": 21,
      "outputs": [
        {
          "output_type": "stream",
          "name": "stdout",
          "text": [
            "\n",
            "The 10 most frequent stopwords are:\n",
            "\n",
            " 0. 3193 de\n",
            " 1. 2101 et\n",
            " 2. 1763 la\n",
            " 3. 1509 le\n",
            " 4. 1404 à\n",
            " 5. 1240 l\n",
            " 6. 1118 un\n",
            " 7. 1079 d\n",
            " 8. 1067 il\n",
            " 9. 1010 les\n"
          ]
        }
      ]
    },
    {
      "cell_type": "code",
      "source": [],
      "metadata": {
        "id": "OE2eYnuaD7H3"
      },
      "execution_count": 21,
      "outputs": []
    },
    {
      "cell_type": "code",
      "source": [
        "# Step 8: Count the number of words in the book which are not stopwords"
      ],
      "metadata": {
        "id": "HdqkaE-TD6-r"
      },
      "execution_count": 22,
      "outputs": []
    },
    {
      "cell_type": "code",
      "source": [
        "NUM_WORDS = 10\n",
        "\n",
        "word_counts = Counter(word for word in wordsFiltered)\n",
        "print(f'\\nThe {NUM_WORDS} most frequent words are:\\n')\n",
        "for i, (word, count) in enumerate(word_counts.most_common(NUM_WORDS)):\n",
        "    print('%2s. %4s %s' % (i, count, word))"
      ],
      "metadata": {
        "colab": {
          "base_uri": "https://localhost:8080/"
        },
        "id": "KrY5N8cGzRYI",
        "outputId": "9c37e96c-a2c7-4917-c643-8e4864306930"
      },
      "execution_count": 23,
      "outputs": [
        {
          "output_type": "stream",
          "name": "stdout",
          "text": [
            "\n",
            "The 10 most frequent words are:\n",
            "\n",
            " 0.  395 plus\n",
            " 1.  294 tout\n",
            " 2.  286 très\n",
            " 3.  279 père\n",
            " 4.  226 bien\n",
            " 5.  217 comme\n",
            " 6.  203 sans\n",
            " 7.  185 cette\n",
            " 8.  161 être\n",
            " 9.  139 faire\n"
          ]
        }
      ]
    },
    {
      "cell_type": "code",
      "source": [],
      "metadata": {
        "id": "_6eiN5GyEC6-"
      },
      "execution_count": 23,
      "outputs": []
    },
    {
      "cell_type": "code",
      "source": [
        "# Step 9: Build a histogram of the top 10 frequent words in the book"
      ],
      "metadata": {
        "id": "KiplfIVzEFV9"
      },
      "execution_count": 24,
      "outputs": []
    },
    {
      "cell_type": "code",
      "source": [
        "import pandas as pd"
      ],
      "metadata": {
        "id": "zx4ydQo56bVS"
      },
      "execution_count": 25,
      "outputs": []
    },
    {
      "cell_type": "code",
      "source": [
        "most_common_words = word_counts.most_common(NUM_WORDS)\n",
        "print(most_common_words)"
      ],
      "metadata": {
        "colab": {
          "base_uri": "https://localhost:8080/"
        },
        "id": "XcDFR1l47QqD",
        "outputId": "a271523e-b55b-4f99-ea23-1effd46e0e47"
      },
      "execution_count": 26,
      "outputs": [
        {
          "output_type": "stream",
          "name": "stdout",
          "text": [
            "[('plus', 395), ('tout', 294), ('très', 286), ('père', 279), ('bien', 226), ('comme', 217), ('sans', 203), ('cette', 185), ('être', 161), ('faire', 139)]\n"
          ]
        }
      ]
    },
    {
      "cell_type": "code",
      "source": [
        "word_frequency = Counter(\" \".join(wordsFiltered).split()).most_common(NUM_WORDS)"
      ],
      "metadata": {
        "id": "nvRYKZO28Ekz"
      },
      "execution_count": 27,
      "outputs": []
    },
    {
      "cell_type": "code",
      "source": [
        "words = [word for word, _ in word_frequency]\n",
        "counts = [counts for _, counts in word_frequency]"
      ],
      "metadata": {
        "id": "72D3nAag5XZA"
      },
      "execution_count": 28,
      "outputs": []
    },
    {
      "cell_type": "code",
      "source": [],
      "metadata": {
        "id": "BfVu6PyU8v-H"
      },
      "execution_count": 28,
      "outputs": []
    },
    {
      "cell_type": "code",
      "source": [
        "import matplotlib.pyplot as plt\n",
        "plt.barh(words, counts)\n",
        "plt.title(\"10 most frequent words in the book\")\n",
        "plt.ylabel(\"Frequency\")\n",
        "plt.xlabel(\"Words\")\n",
        "plt.show()"
      ],
      "metadata": {
        "colab": {
          "base_uri": "https://localhost:8080/",
          "height": 295
        },
        "id": "SK8kPLRu6c4v",
        "outputId": "ca417d5d-0cb7-4071-e7fd-e15499a30443"
      },
      "execution_count": 29,
      "outputs": [
        {
          "output_type": "display_data",
          "data": {
            "text/plain": [
              "<Figure size 432x288 with 1 Axes>"
            ],
            "image/png": "[encoded data removed]"
          },
          "metadata": {
            "needs_background": "light"
          }
        }
      ]
    },
    {
      "cell_type": "code",
      "source": [],
      "metadata": {
        "id": "3k90hmbd8rWw"
      },
      "execution_count": 29,
      "outputs": []
    },
    {
      "cell_type": "code",
      "source": [
        "# Step 10: Plot a wordcloud of the words filtered without stopwords"
      ],
      "metadata": {
        "id": "LrQJJ2iLEQEm"
      },
      "execution_count": 30,
      "outputs": []
    },
    {
      "cell_type": "code",
      "source": [
        "!pip install wordcloud"
      ],
      "metadata": {
        "colab": {
          "base_uri": "https://localhost:8080/"
        },
        "id": "QkY_cVl0_Ijt",
        "outputId": "6fc8361c-2418-4e1f-8fea-ea3a62850a17"
      },
      "execution_count": 31,
      "outputs": [
        {
          "output_type": "stream",
          "name": "stdout",
          "text": [
            "Looking in indexes: https://pypi.org/simple, https://us-python.pkg.dev/colab-wheels/public/simple/\n",
            "Requirement already satisfied: wordcloud in /usr/local/lib/python3.7/dist-packages (1.8.2.2)\n",
            "Requirement already satisfied: numpy>=1.6.1 in /usr/local/lib/python3.7/dist-packages (from wordcloud) (1.21.6)\n",
            "Requirement already satisfied: matplotlib in /usr/local/lib/python3.7/dist-packages (from wordcloud) (3.2.2)\n",
            "Requirement already satisfied: pillow in /usr/local/lib/python3.7/dist-packages (from wordcloud) (7.1.2)\n",
            "Requirement already satisfied: python-dateutil>=2.1 in /usr/local/lib/python3.7/dist-packages (from matplotlib->wordcloud) (2.8.2)\n",
            "Requirement already satisfied: kiwisolver>=1.0.1 in /usr/local/lib/python3.7/dist-packages (from matplotlib->wordcloud) (1.4.4)\n",
            "Requirement already satisfied: pyparsing!=2.0.4,!=2.1.2,!=2.1.6,>=2.0.1 in /usr/local/lib/python3.7/dist-packages (from matplotlib->wordcloud) (3.0.9)\n",
            "Requirement already satisfied: cycler>=0.10 in /usr/local/lib/python3.7/dist-packages (from matplotlib->wordcloud) (0.11.0)\n",
            "Requirement already satisfied: typing-extensions in /usr/local/lib/python3.7/dist-packages (from kiwisolver>=1.0.1->matplotlib->wordcloud) (4.1.1)\n",
            "Requirement already satisfied: six>=1.5 in /usr/local/lib/python3.7/dist-packages (from python-dateutil>=2.1->matplotlib->wordcloud) (1.15.0)\n"
          ]
        }
      ]
    },
    {
      "cell_type": "code",
      "source": [
        "# print(wordsFiltered)\n",
        "# print(words_join_no_stopwords)"
      ],
      "metadata": {
        "id": "W1bo7YrwCPhy"
      },
      "execution_count": 32,
      "outputs": []
    },
    {
      "cell_type": "code",
      "source": [
        "from wordcloud import WordCloud, ImageColorGenerator\n",
        "\n",
        "import matplotlib.pyplot as plt\n",
        "%matplotlib inline\n",
        "\n",
        "print(f'Plotting of the words filtered without stopwords')\n",
        "draw = ' '.join([ w for w in wordsFiltered ])\n",
        "cloud = WordCloud().generate(draw)\n",
        "plt.imshow(cloud)\n",
        "plt.axis('off')\n",
        "plt.show()"
      ],
      "metadata": {
        "colab": {
          "base_uri": "https://localhost:8080/",
          "height": 216
        },
        "id": "0xZuXKBZ_JCV",
        "outputId": "865f0114-686c-40f4-d32b-f0daed145e41"
      },
      "execution_count": 33,
      "outputs": [
        {
          "output_type": "stream",
          "name": "stdout",
          "text": [
            "Plotting of the words filtered without stopwords\n"
          ]
        },
        {
          "output_type": "display_data",
          "data": {
            "text/plain": [
              "<Figure size 432x288 with 1 Axes>"
            ],
            "image/png": "[encoded data removed]"
          },
          "metadata": {
            "needs_background": "light"
          }
        }
      ]
    },
    {
      "cell_type": "code",
      "source": [],
      "metadata": {
        "id": "WuIWP0x__xwl"
      },
      "execution_count": 33,
      "outputs": []
    }
  ]
}